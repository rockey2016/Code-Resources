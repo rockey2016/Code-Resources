{
 "cells": [
  {
   "cell_type": "markdown",
   "metadata": {},
   "source": [
    "# Collections"
   ]
  },
  {
   "cell_type": "markdown",
   "metadata": {},
   "source": [
    "## 词典\n",
    "### 有序词典"
   ]
  },
  {
   "cell_type": "code",
   "execution_count": 9,
   "metadata": {},
   "outputs": [],
   "source": [
    "from pprint import pprint\n",
    "import collections"
   ]
  },
  {
   "cell_type": "code",
   "execution_count": 20,
   "metadata": {},
   "outputs": [
    {
     "data": {
      "text/plain": [
       "\"\\nitems = (\\n    ('A', 1),\\n    ('C', 3),\\n    ('D', 2),\\n    ('B', 3)\\n)\\n\""
      ]
     },
     "execution_count": 20,
     "metadata": {},
     "output_type": "execute_result"
    },
    {
     "name": "stdout",
     "output_type": "stream",
     "text": [
      "[('A', 1), ('B', 2), ('C', 3)]\n"
     ]
    },
    {
     "data": {
      "text/plain": [
       "list"
      ]
     },
     "execution_count": 20,
     "metadata": {},
     "output_type": "execute_result"
    },
    {
     "name": "stdout",
     "output_type": "stream",
     "text": [
      "[('A', 1), ('B', 2), ('C', 3)]\n"
     ]
    },
    {
     "data": {
      "text/plain": [
       "{'A': 1, 'B': 2, 'C': 3}"
      ]
     },
     "execution_count": 20,
     "metadata": {},
     "output_type": "execute_result"
    },
    {
     "name": "stdout",
     "output_type": "stream",
     "text": [
      "\"OrderedDict([('A', 1), ('B', 2), ('C', 3)])\"\n",
      "A -- 1\n",
      "B -- 2\n",
      "C -- 3\n",
      "OderDict\n",
      "A -- 1\n",
      "B -- 2\n",
      "C -- 3\n"
     ]
    }
   ],
   "source": [
    "# 字典的 key 按顺序排列\n",
    "'''\n",
    "items = (\n",
    "    ('A', 1),\n",
    "    ('C', 3),\n",
    "    ('D', 2),\n",
    "    ('B', 3)\n",
    ")\n",
    "'''\n",
    "items = [\n",
    "    ('A', 1),\n",
    "    ('B', 2),\n",
    "    ('C', 3)\n",
    "]\n",
    "print(repr(items))\n",
    "type(items)\n",
    "pprint(items)\n",
    "\n",
    "regular_dict = dict(items)\n",
    "order_dict = collections.OrderedDict(items)\n",
    "\n",
    "regular_dict\n",
    "pprint(repr(order_dict))\n",
    "\n",
    "for k,v in regular_dict.items():\n",
    "    print(f\"{k} -- {v}\")\n",
    "\n",
    "print(\"OderDict\")\n",
    "for k,v in order_dict.items():\n",
    "    print(f\"{k} -- {v}\")"
   ]
  },
  {
   "cell_type": "markdown",
   "metadata": {},
   "source": [
    "## 带默认值的Dict\n",
    "对于 Python 自带的词典 d，当 key 不存在的时候，调用 d[key] 会报错，  \n",
    "但是 defaultdict 可以为这样的 key 提供一个指定的默认值，我们只需要在定义时提供默认值的类型即可，  \n",
    "如果 key 不存在返回指定类型的默认值  "
   ]
  },
  {
   "cell_type": "code",
   "execution_count": 21,
   "metadata": {},
   "outputs": [
    {
     "name": "stdout",
     "output_type": "stream",
     "text": [
      "[]\n",
      "0\n",
      "0.0\n"
     ]
    }
   ],
   "source": [
    "dd = collections.defaultdict(list)\n",
    "print(dd[\"foo\"])\n",
    "\n",
    "dd = collections.defaultdict(int)\n",
    "print(dd[\"foo\"])\n",
    "\n",
    "dd = collections.defaultdict(float)\n",
    "print(dd[\"foo\"])"
   ]
  },
  {
   "cell_type": "markdown",
   "metadata": {},
   "source": [
    "# 字符串类型"
   ]
  },
  {
   "cell_type": "code",
   "execution_count": 44,
   "metadata": {},
   "outputs": [
    {
     "data": {
      "text/plain": [
       "'abcdefghijklmnopqrstuvwxyz'"
      ]
     },
     "execution_count": 44,
     "metadata": {},
     "output_type": "execute_result"
    },
    {
     "data": {
      "text/plain": [
       "'ABCDEFGHIJKLMNOPQRSTUVWXYZ'"
      ]
     },
     "execution_count": 44,
     "metadata": {},
     "output_type": "execute_result"
    },
    {
     "data": {
      "text/plain": [
       "'0123456789abcdefABCDEF'"
      ]
     },
     "execution_count": 44,
     "metadata": {},
     "output_type": "execute_result"
    },
    {
     "data": {
      "text/plain": [
       "'0123456789abcdefghijklmnopqrstuvwxyzABCDEFGHIJKLMNOPQRSTUVWXYZ!\"#$%&\\'()*+,-./:;<=>?@[\\\\]^_`{|}~ \\t\\n\\r\\x0b\\x0c'"
      ]
     },
     "execution_count": 44,
     "metadata": {},
     "output_type": "execute_result"
    },
    {
     "data": {
      "text/plain": [
       "'!\"#$%&\\'()*+,-./:;<=>?@[\\\\]^_`{|}~'"
      ]
     },
     "execution_count": 44,
     "metadata": {},
     "output_type": "execute_result"
    },
    {
     "data": {
      "text/plain": [
       "32"
      ]
     },
     "execution_count": 44,
     "metadata": {},
     "output_type": "execute_result"
    }
   ],
   "source": [
    "import string\n",
    "string.ascii_lowercase\n",
    "string.ascii_uppercase\n",
    "string.hexdigits\n",
    "string.printable\n",
    "string.punctuation\n",
    "len(string.punctuation)"
   ]
  },
  {
   "cell_type": "code",
   "execution_count": 46,
   "metadata": {},
   "outputs": [
    {
     "data": {
      "text/plain": [
       "'One two three one two tree I come from China'"
      ]
     },
     "execution_count": 46,
     "metadata": {},
     "output_type": "execute_result"
    },
    {
     "data": {
      "text/plain": [
       "Counter({'one': 2,\n",
       "         'two': 2,\n",
       "         'three': 1,\n",
       "         'tree': 1,\n",
       "         'i': 1,\n",
       "         'come': 1,\n",
       "         'from': 1,\n",
       "         'china': 1})"
      ]
     },
     "execution_count": 46,
     "metadata": {},
     "output_type": "execute_result"
    }
   ],
   "source": [
    "# 可以使用 Counter(seq) 对序列中出现的元素个数进行统计。\n",
    "sentence = \"One, two, three, one, two, tree, I come from China.\"\n",
    "table = str.maketrans(' ',' ',string.punctuation)\n",
    "sentence.translate(table)\n",
    "words_count = collections.Counter(sentence.translate(table).lower().split())\n",
    "words_count"
   ]
  }
 ],
 "metadata": {
  "kernelspec": {
   "display_name": "Rasa",
   "language": "python",
   "name": "rasa"
  },
  "toc": {
   "base_numbering": 1,
   "nav_menu": {},
   "number_sections": true,
   "sideBar": true,
   "skip_h1_title": false,
   "title_cell": "Table of Contents",
   "title_sidebar": "Contents",
   "toc_cell": false,
   "toc_position": {},
   "toc_section_display": true,
   "toc_window_display": true
  }
 },
 "nbformat": 4,
 "nbformat_minor": 2
}
