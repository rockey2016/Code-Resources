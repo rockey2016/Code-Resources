{
 "cells": [
  {
   "cell_type": "code",
   "execution_count": 1,
   "metadata": {},
   "outputs": [
    {
     "data": {
      "text/plain": [
       "['/home/star/GIT-PROJECTS/MATH',\n",
       " '/opt/anaconda3/envs/ShangHai/lib/python37.zip',\n",
       " '/opt/anaconda3/envs/ShangHai/lib/python3.7',\n",
       " '/opt/anaconda3/envs/ShangHai/lib/python3.7/lib-dynload',\n",
       " '',\n",
       " '/opt/anaconda3/envs/ShangHai/lib/python3.7/site-packages',\n",
       " '/opt/anaconda3/envs/ShangHai/lib/python3.7/site-packages/psutil-5.6.3-py3.7-linux-x86_64.egg',\n",
       " '/opt/anaconda3/envs/ShangHai/lib/python3.7/site-packages/psdash-0.6.2-py3.7.egg',\n",
       " '/opt/anaconda3/envs/ShangHai/lib/python3.7/site-packages/argparse-1.4.0-py3.7.egg',\n",
       " '/opt/anaconda3/envs/ShangHai/lib/python3.7/site-packages/zerorpc-0.6.1-py3.7.egg',\n",
       " '/opt/anaconda3/envs/ShangHai/lib/python3.7/site-packages/IPython/extensions',\n",
       " '/home/star/.ipython']"
      ]
     },
     "execution_count": 1,
     "metadata": {},
     "output_type": "execute_result"
    }
   ],
   "source": [
    "import sys\n",
    "sys.path"
   ]
  },
  {
   "cell_type": "markdown",
   "metadata": {},
   "source": [
    "# 基本类型"
   ]
  },
  {
   "cell_type": "code",
   "execution_count": 101,
   "metadata": {},
   "outputs": [
    {
     "data": {
      "text/plain": [
       "inf"
      ]
     },
     "execution_count": 101,
     "metadata": {},
     "output_type": "execute_result"
    },
    {
     "data": {
      "text/plain": [
       "-inf"
      ]
     },
     "execution_count": 101,
     "metadata": {},
     "output_type": "execute_result"
    },
    {
     "data": {
      "text/plain": [
       "nan"
      ]
     },
     "execution_count": 101,
     "metadata": {},
     "output_type": "execute_result"
    },
    {
     "data": {
      "text/plain": [
       "False"
      ]
     },
     "execution_count": 101,
     "metadata": {},
     "output_type": "execute_result"
    },
    {
     "data": {
      "text/plain": [
       "True"
      ]
     },
     "execution_count": 101,
     "metadata": {},
     "output_type": "execute_result"
    },
    {
     "data": {
      "text/plain": [
       "True"
      ]
     },
     "execution_count": 101,
     "metadata": {},
     "output_type": "execute_result"
    }
   ],
   "source": [
    "import numpy as np\n",
    "#正无穷\n",
    "np.inf\n",
    "\n",
    "#负无穷\n",
    "-np.inf\n",
    "\n",
    "#非法值（Not a number）\n",
    "np.nan\n",
    "\n",
    "#检查是否为无穷\n",
    "np.isinf(1)\n",
    "np.isinf(np.inf)\n",
    "np.isinf(-np.inf)"
   ]
  },
  {
   "cell_type": "markdown",
   "metadata": {},
   "source": [
    "数据类型\n",
    "1、列表\n",
    "2、数组\n",
    "3、矩阵"
   ]
  },
  {
   "cell_type": "code",
   "execution_count": 104,
   "metadata": {},
   "outputs": [],
   "source": [
    "import numpy as np\n",
    "from numpy import array"
   ]
  },
  {
   "cell_type": "code",
   "execution_count": 3,
   "metadata": {},
   "outputs": [
    {
     "data": {
      "text/plain": [
       "list"
      ]
     },
     "execution_count": 3,
     "metadata": {},
     "output_type": "execute_result"
    },
    {
     "data": {
      "text/plain": [
       "[1, 2, 3, 'four']"
      ]
     },
     "execution_count": 3,
     "metadata": {},
     "output_type": "execute_result"
    }
   ],
   "source": [
    "l1 = [1,2,3,'four']\n",
    "type(l1)\n",
    "l1"
   ]
  },
  {
   "cell_type": "code",
   "execution_count": 53,
   "metadata": {},
   "outputs": [
    {
     "data": {
      "text/plain": [
       "list"
      ]
     },
     "execution_count": 53,
     "metadata": {},
     "output_type": "execute_result"
    },
    {
     "data": {
      "text/plain": [
       "[[1, 2, 3, 'four'], [4, 5, 6, 'seven']]"
      ]
     },
     "execution_count": 53,
     "metadata": {},
     "output_type": "execute_result"
    }
   ],
   "source": [
    "l2=[[1,2,3,'four'],[4,5,6,'seven']]\n",
    "type(l2)\n",
    "l2"
   ]
  },
  {
   "cell_type": "code",
   "execution_count": 9,
   "metadata": {},
   "outputs": [
    {
     "data": {
      "text/plain": [
       "[[], [], []]"
      ]
     },
     "execution_count": 9,
     "metadata": {},
     "output_type": "execute_result"
    },
    {
     "data": {
      "text/plain": [
       "[[1, '一', 'one'], [1, '一', 'one'], [1, '一', 'one']]"
      ]
     },
     "execution_count": 9,
     "metadata": {},
     "output_type": "execute_result"
    }
   ],
   "source": [
    "l3 = [[]]\n",
    "l3 = l3 * 3\n",
    "l3\n",
    "\n",
    "l3[0].append(1)\n",
    "l3[1].append('一')\n",
    "l3[2].append('one')\n",
    "l3"
   ]
  },
  {
   "cell_type": "code",
   "execution_count": 15,
   "metadata": {},
   "outputs": [
    {
     "data": {
      "text/plain": [
       "[35, 45]"
      ]
     },
     "execution_count": 15,
     "metadata": {},
     "output_type": "execute_result"
    },
    {
     "data": {
      "text/plain": [
       "[10, 20, 35, 45]"
      ]
     },
     "execution_count": 15,
     "metadata": {},
     "output_type": "execute_result"
    }
   ],
   "source": [
    "l4 = [10,20,30,40]\n",
    "l5 = [i+5 for i in l4 if i>20]\n",
    "l5\n",
    "l6 = [i+5 if i>20 else i for i in l4]\n",
    "l6"
   ]
  },
  {
   "cell_type": "markdown",
   "metadata": {},
   "source": [
    "# Numpy数组"
   ]
  },
  {
   "cell_type": "code",
   "execution_count": 21,
   "metadata": {},
   "outputs": [],
   "source": [
    "from numpy import array"
   ]
  },
  {
   "cell_type": "code",
   "execution_count": 22,
   "metadata": {},
   "outputs": [
    {
     "data": {
      "text/plain": [
       "numpy.ndarray"
      ]
     },
     "execution_count": 22,
     "metadata": {},
     "output_type": "execute_result"
    },
    {
     "data": {
      "text/plain": [
       "array([10, 20, 30, 40])"
      ]
     },
     "execution_count": 22,
     "metadata": {},
     "output_type": "execute_result"
    }
   ],
   "source": [
    "#列表转化数组\n",
    "a1 = array(l4)\n",
    "type(a1)\n",
    "a1"
   ]
  },
  {
   "cell_type": "code",
   "execution_count": 26,
   "metadata": {},
   "outputs": [
    {
     "data": {
      "text/plain": [
       "array('hello ♁', dtype='<U7')"
      ]
     },
     "execution_count": 26,
     "metadata": {},
     "output_type": "execute_result"
    }
   ],
   "source": [
    "a2 = array('hello \\u2641')\n",
    "a2"
   ]
  },
  {
   "cell_type": "code",
   "execution_count": 28,
   "metadata": {},
   "outputs": [
    {
     "data": {
      "text/plain": [
       "array([1. , 1.5, 2. , 2.5])"
      ]
     },
     "execution_count": 28,
     "metadata": {},
     "output_type": "execute_result"
    }
   ],
   "source": [
    "arr = array((1.0, 1.5, 2.0, 2.5))\n",
    "arr"
   ]
  },
  {
   "cell_type": "code",
   "execution_count": 33,
   "metadata": {},
   "outputs": [],
   "source": [
    "arr1 = array([2, 3, 4, 5])"
   ]
  },
  {
   "cell_type": "code",
   "execution_count": 34,
   "metadata": {},
   "outputs": [
    {
     "data": {
      "text/plain": [
       "array([3, 4, 5, 6])"
      ]
     },
     "execution_count": 34,
     "metadata": {},
     "output_type": "execute_result"
    },
    {
     "data": {
      "text/plain": [
       "array([ 2. ,  4.5,  8. , 12.5])"
      ]
     },
     "execution_count": 34,
     "metadata": {},
     "output_type": "execute_result"
    }
   ],
   "source": [
    "arr1+1\n",
    "arr*arr1"
   ]
  },
  {
   "cell_type": "code",
   "execution_count": 38,
   "metadata": {},
   "outputs": [
    {
     "data": {
      "text/plain": [
       "array([2, 3, 4])"
      ]
     },
     "execution_count": 38,
     "metadata": {},
     "output_type": "execute_result"
    },
    {
     "data": {
      "text/plain": [
       "array([3, 4, 5])"
      ]
     },
     "execution_count": 38,
     "metadata": {},
     "output_type": "execute_result"
    },
    {
     "data": {
      "text/plain": [
       "array([], dtype=int64)"
      ]
     },
     "execution_count": 38,
     "metadata": {},
     "output_type": "execute_result"
    }
   ],
   "source": [
    "#提取前3个数\n",
    "arr1[:3]\n",
    "#提取后三个数\n",
    "arr1[-3:]"
   ]
  },
  {
   "cell_type": "code",
   "execution_count": 40,
   "metadata": {},
   "outputs": [
    {
     "data": {
      "text/plain": [
       "(4,)"
      ]
     },
     "execution_count": 40,
     "metadata": {},
     "output_type": "execute_result"
    },
    {
     "data": {
      "text/plain": [
       "array([[1. , 1.5],\n",
       "       [2. , 2.5]])"
      ]
     },
     "execution_count": 40,
     "metadata": {},
     "output_type": "execute_result"
    }
   ],
   "source": [
    "arr.shape\n",
    "arr.shape = 2,2\n",
    "arr"
   ]
  },
  {
   "cell_type": "markdown",
   "metadata": {},
   "source": [
    "# 二维数组"
   ]
  },
  {
   "cell_type": "code",
   "execution_count": 73,
   "metadata": {},
   "outputs": [
    {
     "data": {
      "text/plain": [
       "array([[2., 3.],\n",
       "       [4., 5.]])"
      ]
     },
     "execution_count": 73,
     "metadata": {},
     "output_type": "execute_result"
    },
    {
     "data": {
      "text/plain": [
       "array([[ 4.,  9.],\n",
       "       [16., 25.]])"
      ]
     },
     "execution_count": 73,
     "metadata": {},
     "output_type": "execute_result"
    },
    {
     "data": {
      "text/plain": [
       "(2, 2)"
      ]
     },
     "execution_count": 73,
     "metadata": {},
     "output_type": "execute_result"
    },
    {
     "data": {
      "text/plain": [
       "(2, 2)"
      ]
     },
     "execution_count": 73,
     "metadata": {},
     "output_type": "execute_result"
    },
    {
     "data": {
      "text/plain": [
       "2"
      ]
     },
     "execution_count": 73,
     "metadata": {},
     "output_type": "execute_result"
    },
    {
     "data": {
      "text/plain": [
       "array([4., 5.])"
      ]
     },
     "execution_count": 73,
     "metadata": {},
     "output_type": "execute_result"
    },
    {
     "data": {
      "text/plain": [
       "array([4., 9.])"
      ]
     },
     "execution_count": 73,
     "metadata": {},
     "output_type": "execute_result"
    }
   ],
   "source": [
    "#二位数组相加\n",
    "arr2 = arr+arr\n",
    "arr2\n",
    "#二维数组相乘\n",
    "arr3 = arr2*arr2\n",
    "arr3\n",
    "\n",
    "arr2.shape\n",
    "np.shape(arr3)\n",
    "\n",
    "arr2.ndim\n",
    "\n",
    "#二维数组按行都\n",
    "arr2[1]\n",
    "arr3[0]"
   ]
  },
  {
   "cell_type": "markdown",
   "metadata": {},
   "source": [
    "## 切片"
   ]
  },
  {
   "cell_type": "code",
   "execution_count": 3,
   "metadata": {},
   "outputs": [
    {
     "data": {
      "text/plain": [
       "array([[ 0,  1,  2,  3,  4,  5],\n",
       "       [10, 11, 12, 13, 14, 15],\n",
       "       [20, 21, 22, 23, 24, 25],\n",
       "       [30, 31, 32, 33, 34, 35],\n",
       "       [40, 41, 42, 43, 44, 45],\n",
       "       [50, 51, 52, 53, 54, 55]])"
      ]
     },
     "execution_count": 3,
     "metadata": {},
     "output_type": "execute_result"
    },
    {
     "data": {
      "text/plain": [
       "array([11, 12])"
      ]
     },
     "execution_count": 3,
     "metadata": {},
     "output_type": "execute_result"
    },
    {
     "data": {
      "text/plain": [
       "array([[44, 45],\n",
       "       [54, 55]])"
      ]
     },
     "execution_count": 3,
     "metadata": {},
     "output_type": "execute_result"
    },
    {
     "data": {
      "text/plain": [
       "array([ 2, 12, 22, 32, 42, 52])"
      ]
     },
     "execution_count": 3,
     "metadata": {},
     "output_type": "execute_result"
    },
    {
     "data": {
      "text/plain": [
       "array([[ 0,  2,  4],\n",
       "       [10, 12, 14],\n",
       "       [20, 22, 24],\n",
       "       [30, 32, 34],\n",
       "       [40, 42, 44],\n",
       "       [50, 52, 54]])"
      ]
     },
     "execution_count": 3,
     "metadata": {},
     "output_type": "execute_result"
    },
    {
     "data": {
      "text/plain": [
       "array([[ 0,  1,  2,  3,  4,  5],\n",
       "       [20, 21, 22, 23, 24, 25],\n",
       "       [40, 41, 42, 43, 44, 45]])"
      ]
     },
     "execution_count": 3,
     "metadata": {},
     "output_type": "execute_result"
    },
    {
     "data": {
      "text/plain": [
       "array([[20, 21, 22, 23, 24],\n",
       "       [30, 31, 32, 33, 34],\n",
       "       [40, 41, 42, 43, 44],\n",
       "       [50, 51, 52, 53, 54]])"
      ]
     },
     "execution_count": 3,
     "metadata": {},
     "output_type": "execute_result"
    },
    {
     "data": {
      "text/plain": [
       "array([[20, 22, 24],\n",
       "       [30, 32, 34],\n",
       "       [40, 42, 44],\n",
       "       [50, 52, 54]])"
      ]
     },
     "execution_count": 3,
     "metadata": {},
     "output_type": "execute_result"
    }
   ],
   "source": [
    "# 二维数组切片\n",
    "a = array([[ 0, 1, 2, 3, 4, 5],\n",
    "           [10,11,12,13,14,15],\n",
    "           [20,21,22,23,24,25],\n",
    "           [30,31,32,33,34,35],\n",
    "           [40,41,42,43,44,45],\n",
    "           [50,51,52,53,54,55]])\n",
    "a\n",
    "\n",
    "a[1,1:3]\n",
    "\n",
    "#得到最后两行的最后两列\n",
    "a[4:,4:]\n",
    "\n",
    "#获取第三列\n",
    "a[:,2]\n",
    "\n",
    "\n",
    "#每一维都支持切片的规则，包括负索引，省略.[lower:upper:step]\n",
    "#获取所有的奇数列\n",
    "a[::1,::2]\n",
    "#获取所有奇数行\n",
    "a[::2,::1]\n",
    "\n",
    "#获取第3行和第5行的奇数列\n",
    "a[2:6,0:5:1]\n",
    "a[2:6,0:5:2]"
   ]
  },
  {
   "cell_type": "markdown",
   "metadata": {},
   "source": [
    "切片在内存中使用的是引用机制。  \n",
    "引用机制意味着，Python并没有为 b 分配新的空间来存储它的值，而是让 b 指向了 a 所分配的内存空间，因此，改变 b 会改变 a 的值  "
   ]
  },
  {
   "cell_type": "code",
   "execution_count": 4,
   "metadata": {},
   "outputs": [
    {
     "data": {
      "text/plain": [
       "array([[ 0,  1,  2,  3,  4,  5],\n",
       "       [10, 11, 12, 13, 14, 15],\n",
       "       [20, 21, 22, 23, 24, 25],\n",
       "       [30, 31, 32, 33, 34, 35],\n",
       "       [40, 41, 42, 43, 44, 45],\n",
       "       [50, 51, 52, 53, 54, 55]])"
      ]
     },
     "execution_count": 4,
     "metadata": {},
     "output_type": "execute_result"
    },
    {
     "data": {
      "text/plain": [
       "array([[100,   4,   8],\n",
       "       [ 20,  24,  28],\n",
       "       [ 40,  44,  48],\n",
       "       [ 60,  64,  68],\n",
       "       [ 80,  84,  88],\n",
       "       [100, 104, 108]])"
      ]
     },
     "execution_count": 4,
     "metadata": {},
     "output_type": "execute_result"
    },
    {
     "data": {
      "text/plain": [
       "array([[ 0,  1,  2,  3,  4,  5],\n",
       "       [10, 11, 12, 13, 14, 15],\n",
       "       [20, 21, 22, 23, 24, 25],\n",
       "       [30, 31, 32, 33, 34, 35],\n",
       "       [40, 41, 42, 43, 44, 45],\n",
       "       [50, 51, 52, 53, 54, 55]])"
      ]
     },
     "execution_count": 4,
     "metadata": {},
     "output_type": "execute_result"
    },
    {
     "name": "stdout",
     "output_type": "stream",
     "text": [
      "测试一维数组\n",
      "[2 3]\n",
      "[  0   1 100   3   4]\n",
      "[  0   1 100   3   4]\n"
     ]
    }
   ],
   "source": [
    "b = a[:,::2]\n",
    "b =b * 2\n",
    "b[0][0] = 100\n",
    "a\n",
    "b\n",
    "a\n",
    "\n",
    "print(\"测试一维数组\")\n",
    "a1 = array([0,1,2,3,4])\n",
    "b1 = a1[2:4]\n",
    "print(b1)\n",
    "b1[0]  = 100\n",
    "print(a1)\n",
    "b1 = b1 + 200\n",
    "print(a1)"
   ]
  },
  {
   "cell_type": "markdown",
   "metadata": {},
   "source": [
    "## 索引"
   ]
  },
  {
   "cell_type": "code",
   "execution_count": 5,
   "metadata": {},
   "outputs": [
    {
     "data": {
      "text/plain": [
       "array([0.        , 0.31415927, 0.62831853, 0.9424778 , 1.25663706,\n",
       "       1.57079633, 1.88495559, 2.19911486, 2.51327412, 2.82743339,\n",
       "       3.14159265, 3.45575192, 3.76991118, 4.08407045, 4.39822972,\n",
       "       4.71238898, 5.02654825, 5.34070751, 5.65486678, 5.96902604,\n",
       "       6.28318531])"
      ]
     },
     "execution_count": 5,
     "metadata": {},
     "output_type": "execute_result"
    },
    {
     "data": {
      "text/plain": [
       "array([ 0.00000000e+00,  3.09016994e-01,  5.87785252e-01,  8.09016994e-01,\n",
       "        9.51056516e-01,  1.00000000e+00,  9.51056516e-01,  8.09016994e-01,\n",
       "        5.87785252e-01,  3.09016994e-01,  1.22464680e-16, -3.09016994e-01,\n",
       "       -5.87785252e-01, -8.09016994e-01, -9.51056516e-01, -1.00000000e+00,\n",
       "       -9.51056516e-01, -8.09016994e-01, -5.87785252e-01, -3.09016994e-01,\n",
       "       -2.44929360e-16])"
      ]
     },
     "execution_count": 5,
     "metadata": {},
     "output_type": "execute_result"
    },
    {
     "data": {
      "text/plain": [
       "array([False,  True,  True,  True,  True,  True,  True,  True,  True,\n",
       "        True,  True, False, False, False, False, False, False, False,\n",
       "       False, False, False])"
      ]
     },
     "execution_count": 5,
     "metadata": {},
     "output_type": "execute_result"
    },
    {
     "data": {
      "text/plain": [
       "array([3.09016994e-01, 5.87785252e-01, 8.09016994e-01, 9.51056516e-01,\n",
       "       1.00000000e+00, 9.51056516e-01, 8.09016994e-01, 5.87785252e-01,\n",
       "       3.09016994e-01, 1.22464680e-16])"
      ]
     },
     "execution_count": 5,
     "metadata": {},
     "output_type": "execute_result"
    }
   ],
   "source": [
    "#linspace 用来生成一组等间隔的数据,linspace(m,n,z) z是指定在m、n之间取点的个数\n",
    "arr4 = np.linspace(0, 2*np.pi, 21)\n",
    "arr4\n",
    "\n",
    "arr5 = np.sin(arr4)\n",
    "arr5\n",
    "\n",
    "#数组arr4中所有非负的部分\n",
    "arr5>0\n",
    "\n",
    "mask = arr5>0\n",
    "arr5[mask]"
   ]
  },
  {
   "cell_type": "code",
   "execution_count": 6,
   "metadata": {},
   "outputs": [
    {
     "data": {
      "text/plain": [
       "range(0, 20, 2)"
      ]
     },
     "execution_count": 6,
     "metadata": {},
     "output_type": "execute_result"
    },
    {
     "data": {
      "text/plain": [
       "array([ 0,  2,  4,  6,  8, 10, 12, 14, 16, 18])"
      ]
     },
     "execution_count": 6,
     "metadata": {},
     "output_type": "execute_result"
    },
    {
     "data": {
      "text/plain": [
       "array([ 0,  6, 12])"
      ]
     },
     "execution_count": 6,
     "metadata": {},
     "output_type": "execute_result"
    },
    {
     "name": "stdout",
     "output_type": "stream",
     "text": [
      "花式索引\n"
     ]
    },
    {
     "data": {
      "text/plain": [
       "array([2, 0, 2, 0, 2, 0, 2, 2, 0, 2])"
      ]
     },
     "execution_count": 6,
     "metadata": {},
     "output_type": "execute_result"
    },
    {
     "data": {
      "text/plain": [
       "array([ 0,  4,  8, 12, 14, 18])"
      ]
     },
     "execution_count": 6,
     "metadata": {},
     "output_type": "execute_result"
    },
    {
     "data": {
      "text/plain": [
       "numpy.ndarray"
      ]
     },
     "execution_count": 6,
     "metadata": {},
     "output_type": "execute_result"
    }
   ],
   "source": [
    "#range\n",
    "l4 = range(0,2*10,2)\n",
    "l4\n",
    "#arrange 函数来产生等差数组\n",
    "arr6 = np.arange(0,20,2)\n",
    "arr6\n",
    "#花式索引需要指定索引位置\n",
    "indices = [0,3,6]\n",
    "arr6[indices]\n",
    "print(\"花式索引\")\n",
    "mask = [1,0,1,0,1,0,1,1,0,1]\n",
    "arr6[mask]\n",
    "\n",
    "mask = np.array([1,0,1,0,1,0,1,1,0,1],dtype=bool) #mask数组长度必须和arr一致\n",
    "arr6[mask]\n",
    "\n",
    "mask = a > 0.5\n",
    "type(mask)"
   ]
  },
  {
   "cell_type": "markdown",
   "metadata": {},
   "source": [
    "### 花式索引"
   ]
  },
  {
   "cell_type": "code",
   "execution_count": 19,
   "metadata": {},
   "outputs": [
    {
     "data": {
      "text/plain": [
       "array([ 1, 21])"
      ]
     },
     "execution_count": 19,
     "metadata": {},
     "output_type": "execute_result"
    },
    {
     "data": {
      "text/plain": [
       "array([[ 0,  2,  4],\n",
       "       [10, 12, 14],\n",
       "       [20, 22, 24],\n",
       "       [30, 32, 34],\n",
       "       [40, 42, 44],\n",
       "       [50, 52, 54]])"
      ]
     },
     "execution_count": 19,
     "metadata": {},
     "output_type": "execute_result"
    },
    {
     "data": {
      "text/plain": [
       "array([[30, 32, 34],\n",
       "       [40, 42, 44],\n",
       "       [50, 52, 54]])"
      ]
     },
     "execution_count": 19,
     "metadata": {},
     "output_type": "execute_result"
    },
    {
     "data": {
      "text/plain": [
       "array([[30, 32, 34],\n",
       "       [40, 42, 44],\n",
       "       [50, 52, 54]])"
      ]
     },
     "execution_count": 19,
     "metadata": {},
     "output_type": "execute_result"
    },
    {
     "data": {
      "text/plain": [
       "array([[ 0,  1,  2,  3,  4,  5],\n",
       "       [20, 21, 22, 23, 24, 25],\n",
       "       [40, 41, 42, 43, 44, 45],\n",
       "       [50, 51, 52, 53, 54, 55]])"
      ]
     },
     "execution_count": 19,
     "metadata": {},
     "output_type": "execute_result"
    },
    {
     "data": {
      "text/plain": [
       "array([[ 1,  3,  5],\n",
       "       [21, 23, 25],\n",
       "       [41, 43, 45],\n",
       "       [51, 53, 55]])"
      ]
     },
     "execution_count": 19,
     "metadata": {},
     "output_type": "execute_result"
    }
   ],
   "source": [
    "#二维花式索引，我们需要给定 row 和 col 的值\n",
    "a[(0,2),(1,1)]\n",
    "\n",
    "a[:,[0,2,4]]\n",
    "a[3:,[0,2,4]]\n",
    "a[-3:,[0,2,4]]\n",
    "\n",
    "#使用mask进行索引\n",
    "mask = array([1,0,1,0,1,1],dtype=bool)\n",
    "a[mask]\n",
    "#获取偶数列\n",
    "a[mask,1:6:2]"
   ]
  },
  {
   "cell_type": "code",
   "execution_count": 64,
   "metadata": {},
   "outputs": [
    {
     "data": {
      "text/plain": [
       "dtype('float64')"
      ]
     },
     "execution_count": 64,
     "metadata": {},
     "output_type": "execute_result"
    },
    {
     "data": {
      "text/plain": [
       "dtype('float64')"
      ]
     },
     "execution_count": 64,
     "metadata": {},
     "output_type": "execute_result"
    },
    {
     "data": {
      "text/plain": [
       "numpy.ndarray"
      ]
     },
     "execution_count": 64,
     "metadata": {},
     "output_type": "execute_result"
    },
    {
     "data": {
      "text/plain": [
       "8"
      ]
     },
     "execution_count": 64,
     "metadata": {},
     "output_type": "execute_result"
    },
    {
     "data": {
      "text/plain": [
       "<function ndarray.item>"
      ]
     },
     "execution_count": 64,
     "metadata": {},
     "output_type": "execute_result"
    },
    {
     "data": {
      "text/plain": [
       "168"
      ]
     },
     "execution_count": 64,
     "metadata": {},
     "output_type": "execute_result"
    },
    {
     "data": {
      "text/plain": [
       "21"
      ]
     },
     "execution_count": 64,
     "metadata": {},
     "output_type": "execute_result"
    },
    {
     "data": {
      "text/plain": [
       "1"
      ]
     },
     "execution_count": 64,
     "metadata": {},
     "output_type": "execute_result"
    }
   ],
   "source": [
    "arr5.dtype\n",
    "arr.dtype\n",
    "type(arr5)\n",
    "\n",
    "#每个元素所占字节\n",
    "arr5.itemsize\n",
    "arr5.item\n",
    "#所有元素所占字节\n",
    "arr5.nbytes\n",
    "#所有元素个数\n",
    "arr5.size\n",
    "\n",
    "#查看数组维数\n",
    "arr5.ndim"
   ]
  },
  {
   "cell_type": "markdown",
   "metadata": {},
   "source": [
    "#但是与列表不同，数组中要求所有元素的 dtype 是一样的，如果传入参数的类型与数组类型不一样，需要按照已有的类型进行转换"
   ]
  },
  {
   "cell_type": "markdown",
   "metadata": {},
   "source": [
    "# 三维数组"
   ]
  },
  {
   "cell_type": "code",
   "execution_count": 31,
   "metadata": {},
   "outputs": [
    {
     "data": {
      "text/plain": [
       "array([ 0,  1,  2,  3,  4,  5,  6,  7,  8,  9, 10, 11, 12, 13, 14, 15, 16,\n",
       "       17, 18, 19, 20, 21, 22, 23, 24, 25, 26, 27, 28, 29, 30, 31, 32, 33,\n",
       "       34, 35, 36, 37, 38, 39, 40, 41, 42, 43, 44, 45, 46, 47, 48, 49, 50,\n",
       "       51, 52, 53, 54, 55, 56, 57, 58, 59, 60, 61, 62, 63])"
      ]
     },
     "execution_count": 31,
     "metadata": {},
     "output_type": "execute_result"
    },
    {
     "data": {
      "text/plain": [
       "array([[[ 0,  1,  2,  3],\n",
       "        [ 4,  5,  6,  7],\n",
       "        [ 8,  9, 10, 11],\n",
       "        [12, 13, 14, 15]],\n",
       "\n",
       "       [[16, 17, 18, 19],\n",
       "        [20, 21, 22, 23],\n",
       "        [24, 25, 26, 27],\n",
       "        [28, 29, 30, 31]],\n",
       "\n",
       "       [[32, 33, 34, 35],\n",
       "        [36, 37, 38, 39],\n",
       "        [40, 41, 42, 43],\n",
       "        [44, 45, 46, 47]],\n",
       "\n",
       "       [[48, 49, 50, 51],\n",
       "        [52, 53, 54, 55],\n",
       "        [56, 57, 58, 59],\n",
       "        [60, 61, 62, 63]]])"
      ]
     },
     "execution_count": 31,
     "metadata": {},
     "output_type": "execute_result"
    },
    {
     "name": "stdout",
     "output_type": "stream",
     "text": [
      "三维数组索引\n"
     ]
    },
    {
     "data": {
      "text/plain": [
       "array([[ 0,  1,  2,  3],\n",
       "       [ 4,  5,  6,  7],\n",
       "       [ 8,  9, 10, 11],\n",
       "       [12, 13, 14, 15]])"
      ]
     },
     "execution_count": 31,
     "metadata": {},
     "output_type": "execute_result"
    },
    {
     "data": {
      "text/plain": [
       "array([[ 0,  1,  2,  3],\n",
       "       [16, 17, 18, 19],\n",
       "       [32, 33, 34, 35],\n",
       "       [48, 49, 50, 51]])"
      ]
     },
     "execution_count": 31,
     "metadata": {},
     "output_type": "execute_result"
    },
    {
     "data": {
      "text/plain": [
       "array([[ 0,  4,  8, 12],\n",
       "       [16, 20, 24, 28],\n",
       "       [32, 36, 40, 44],\n",
       "       [48, 52, 56, 60]])"
      ]
     },
     "execution_count": 31,
     "metadata": {},
     "output_type": "execute_result"
    },
    {
     "data": {
      "text/plain": [
       "array([[[ 0,  2],\n",
       "        [ 4,  6],\n",
       "        [ 8, 10],\n",
       "        [12, 14]],\n",
       "\n",
       "       [[16, 18],\n",
       "        [20, 22],\n",
       "        [24, 26],\n",
       "        [28, 30]],\n",
       "\n",
       "       [[32, 34],\n",
       "        [36, 38],\n",
       "        [40, 42],\n",
       "        [44, 46]],\n",
       "\n",
       "       [[48, 50],\n",
       "        [52, 54],\n",
       "        [56, 58],\n",
       "        [60, 62]]])"
      ]
     },
     "execution_count": 31,
     "metadata": {},
     "output_type": "execute_result"
    },
    {
     "data": {
      "text/plain": [
       "array([[[ 0,  3],\n",
       "        [ 4,  7],\n",
       "        [ 8, 11],\n",
       "        [12, 15]],\n",
       "\n",
       "       [[16, 19],\n",
       "        [20, 23],\n",
       "        [24, 27],\n",
       "        [28, 31]],\n",
       "\n",
       "       [[32, 35],\n",
       "        [36, 39],\n",
       "        [40, 43],\n",
       "        [44, 47]],\n",
       "\n",
       "       [[48, 51],\n",
       "        [52, 55],\n",
       "        [56, 59],\n",
       "        [60, 63]]])"
      ]
     },
     "execution_count": 31,
     "metadata": {},
     "output_type": "execute_result"
    }
   ],
   "source": [
    "a = np.arange(64)\n",
    "a\n",
    "a.shape = 4,4,4\n",
    "a\n",
    "print(\"三维数组索引\")\n",
    "a[0,:,:]\n",
    "a[:,0,:]\n",
    "a[:,:,0]\n",
    "a[:,:,0:4:2]\n",
    "\n",
    "a[:,:,[0,-1]]"
   ]
  },
  {
   "cell_type": "code",
   "execution_count": 39,
   "metadata": {},
   "outputs": [
    {
     "data": {
      "text/plain": [
       "array([[[False,  True, False,  True],\n",
       "        [False,  True, False,  True],\n",
       "        [False,  True, False,  True],\n",
       "        [False,  True, False,  True]],\n",
       "\n",
       "       [[False,  True, False,  True],\n",
       "        [False,  True, False,  True],\n",
       "        [False,  True, False,  True],\n",
       "        [False,  True, False,  True]],\n",
       "\n",
       "       [[False,  True, False,  True],\n",
       "        [False,  True, False,  True],\n",
       "        [False,  True, False,  True],\n",
       "        [False,  True, False,  True]],\n",
       "\n",
       "       [[False,  True, False,  True],\n",
       "        [False,  True, False,  True],\n",
       "        [False,  True, False,  True],\n",
       "        [False,  True, False,  True]]])"
      ]
     },
     "execution_count": 39,
     "metadata": {},
     "output_type": "execute_result"
    },
    {
     "data": {
      "text/plain": [
       "(array([0, 0, 0, 0, 0, 0, 0, 0, 1, 1, 1, 1, 1, 1, 1, 1, 2, 2, 2, 2, 2, 2,\n",
       "        2, 2, 3, 3, 3, 3, 3, 3, 3, 3]),\n",
       " array([0, 0, 1, 1, 2, 2, 3, 3, 0, 0, 1, 1, 2, 2, 3, 3, 0, 0, 1, 1, 2, 2,\n",
       "        3, 3, 0, 0, 1, 1, 2, 2, 3, 3]),\n",
       " array([1, 3, 1, 3, 1, 3, 1, 3, 1, 3, 1, 3, 1, 3, 1, 3, 1, 3, 1, 3, 1, 3,\n",
       "        1, 3, 1, 3, 1, 3, 1, 3, 1, 3]))"
      ]
     },
     "execution_count": 39,
     "metadata": {},
     "output_type": "execute_result"
    },
    {
     "data": {
      "text/plain": [
       "(array([2, 2, 2, 2, 2, 2, 2, 2, 2, 2, 2, 2, 2, 2, 3, 3, 3, 3, 3, 3, 3, 3,\n",
       "        3, 3, 3, 3, 3, 3, 3, 3]),\n",
       " array([0, 0, 1, 1, 1, 1, 2, 2, 2, 2, 3, 3, 3, 3, 0, 0, 0, 0, 1, 1, 1, 1,\n",
       "        2, 2, 2, 2, 3, 3, 3, 3]),\n",
       " array([2, 3, 0, 1, 2, 3, 0, 1, 2, 3, 0, 1, 2, 3, 0, 1, 2, 3, 0, 1, 2, 3,\n",
       "        0, 1, 2, 3, 0, 1, 2, 3]))"
      ]
     },
     "execution_count": 39,
     "metadata": {},
     "output_type": "execute_result"
    },
    {
     "data": {
      "text/plain": [
       "array([34, 35, 36, 37, 38, 39, 40, 41, 42, 43, 44, 45, 46, 47, 48, 49, 50,\n",
       "       51, 52, 53, 54, 55, 56, 57, 58, 59, 60, 61, 62, 63])"
      ]
     },
     "execution_count": 39,
     "metadata": {},
     "output_type": "execute_result"
    },
    {
     "data": {
      "text/plain": [
       "array([0, 0, 0, 0, 0, 0, 0, 0, 1, 1, 1, 1, 1, 1, 1, 1, 2, 2, 2, 2, 2, 2,\n",
       "       2, 2, 3, 3, 3, 3, 3, 3, 3, 3])"
      ]
     },
     "execution_count": 39,
     "metadata": {},
     "output_type": "execute_result"
    },
    {
     "data": {
      "text/plain": [
       "array([0, 0, 1, 1, 2, 2, 3, 3, 0, 0, 1, 1, 2, 2, 3, 3, 0, 0, 1, 1, 2, 2,\n",
       "       3, 3, 0, 0, 1, 1, 2, 2, 3, 3])"
      ]
     },
     "execution_count": 39,
     "metadata": {},
     "output_type": "execute_result"
    },
    {
     "data": {
      "text/plain": [
       "array([0, 2, 0, 2, 0, 2, 0, 2, 0, 2, 0, 2, 0, 2, 0, 2, 0, 2, 0, 2, 0, 2,\n",
       "       0, 2, 0, 2, 0, 2, 0, 2, 0, 2])"
      ]
     },
     "execution_count": 39,
     "metadata": {},
     "output_type": "execute_result"
    }
   ],
   "source": [
    "# where 函数会返回所有非零元素的索引\n",
    "a % 2 == 1\n",
    "\n",
    "indices = a % 2 == 1\n",
    "np.where(indices)\n",
    "\n",
    "loc = np.where(a > 33)\n",
    "loc\n",
    "a[loc]\n",
    "rows,cols,pages = np.where(a % 2 == 0)\n",
    "rows\n",
    "cols\n",
    "pages"
   ]
  },
  {
   "cell_type": "markdown",
   "metadata": {},
   "source": [
    "# 类型转换"
   ]
  },
  {
   "cell_type": "code",
   "execution_count": 53,
   "metadata": {},
   "outputs": [
    {
     "data": {
      "text/plain": [
       "dtype('int64')"
      ]
     },
     "execution_count": 53,
     "metadata": {},
     "output_type": "execute_result"
    },
    {
     "data": {
      "text/plain": [
       "3"
      ]
     },
     "execution_count": 53,
     "metadata": {},
     "output_type": "execute_result"
    },
    {
     "data": {
      "text/plain": [
       "array([[[1., 3., 5.],\n",
       "        [5., 7., 9.]],\n",
       "\n",
       "       [[2., 4., 6.],\n",
       "        [0., 8., 2.]]])"
      ]
     },
     "execution_count": 53,
     "metadata": {},
     "output_type": "execute_result"
    },
    {
     "data": {
      "text/plain": [
       "8"
      ]
     },
     "execution_count": 53,
     "metadata": {},
     "output_type": "execute_result"
    },
    {
     "data": {
      "text/plain": [
       "12"
      ]
     },
     "execution_count": 53,
     "metadata": {},
     "output_type": "execute_result"
    },
    {
     "data": {
      "text/plain": [
       "96"
      ]
     },
     "execution_count": 53,
     "metadata": {},
     "output_type": "execute_result"
    }
   ],
   "source": [
    "a=array([[[1,3,5],[5,7,9]],[[2,4,6],[0,8,2]]])\n",
    "a.dtype\n",
    "a.ndim\n",
    "a.astype(np.float64)\n",
    "a.itemsize\n",
    "a.size\n",
    "a.nbytes"
   ]
  },
  {
   "cell_type": "markdown",
   "metadata": {},
   "source": [
    "# 运算\n",
    "## 简单运算"
   ]
  },
  {
   "cell_type": "code",
   "execution_count": 77,
   "metadata": {},
   "outputs": [
    {
     "data": {
      "text/plain": [
       "array([10., 11., 12., 13., 14., 15.], dtype=float32)"
      ]
     },
     "execution_count": 77,
     "metadata": {},
     "output_type": "execute_result"
    },
    {
     "data": {
      "text/plain": [
       "75.0"
      ]
     },
     "execution_count": 77,
     "metadata": {},
     "output_type": "execute_result"
    },
    {
     "data": {
      "text/plain": [
       "array([[10., 11., 12.],\n",
       "       [13., 14., 15.]], dtype=float32)"
      ]
     },
     "execution_count": 77,
     "metadata": {},
     "output_type": "execute_result"
    },
    {
     "data": {
      "text/plain": [
       "array([23., 25., 27.], dtype=float32)"
      ]
     },
     "execution_count": 77,
     "metadata": {},
     "output_type": "execute_result"
    },
    {
     "data": {
      "text/plain": [
       "array([33., 42.], dtype=float32)"
      ]
     },
     "execution_count": 77,
     "metadata": {},
     "output_type": "execute_result"
    },
    {
     "name": "stdout",
     "output_type": "stream",
     "text": [
      "测试数组b\n"
     ]
    },
    {
     "data": {
      "text/plain": [
       "array([[[15, 17],\n",
       "        [19, 21]],\n",
       "\n",
       "       [[23, 25],\n",
       "        [27, 29]]])"
      ]
     },
     "execution_count": 77,
     "metadata": {},
     "output_type": "execute_result"
    },
    {
     "data": {
      "text/plain": [
       "array([[15, 17],\n",
       "       [19, 21]])"
      ]
     },
     "execution_count": 77,
     "metadata": {},
     "output_type": "execute_result"
    },
    {
     "data": {
      "text/plain": [
       "array([[38, 42],\n",
       "       [46, 50]])"
      ]
     },
     "execution_count": 77,
     "metadata": {},
     "output_type": "execute_result"
    },
    {
     "data": {
      "text/plain": [
       "array([19, 21])"
      ]
     },
     "execution_count": 77,
     "metadata": {},
     "output_type": "execute_result"
    },
    {
     "data": {
      "text/plain": [
       "array([[19, 21],\n",
       "       [27, 29]])"
      ]
     },
     "execution_count": 77,
     "metadata": {},
     "output_type": "execute_result"
    },
    {
     "data": {
      "text/plain": [
       "array([[34, 38],\n",
       "       [50, 54]])"
      ]
     },
     "execution_count": 77,
     "metadata": {},
     "output_type": "execute_result"
    },
    {
     "data": {
      "text/plain": [
       "array([[17, 21],\n",
       "       [25, 29]])"
      ]
     },
     "execution_count": 77,
     "metadata": {},
     "output_type": "execute_result"
    },
    {
     "data": {
      "text/plain": [
       "array([[32, 40],\n",
       "       [48, 56]])"
      ]
     },
     "execution_count": 77,
     "metadata": {},
     "output_type": "execute_result"
    },
    {
     "name": "stdout",
     "output_type": "stream",
     "text": [
      "求积\n"
     ]
    },
    {
     "data": {
      "text/plain": [
       "array([[345, 425],\n",
       "       [513, 609]])"
      ]
     },
     "execution_count": 77,
     "metadata": {},
     "output_type": "execute_result"
    },
    {
     "data": {
      "text/plain": [
       "array([[345, 425],\n",
       "       [513, 609]])"
      ]
     },
     "execution_count": 77,
     "metadata": {},
     "output_type": "execute_result"
    },
    {
     "data": {
      "text/plain": [
       "array([[285, 357],\n",
       "       [621, 725]])"
      ]
     },
     "execution_count": 77,
     "metadata": {},
     "output_type": "execute_result"
    },
    {
     "data": {
      "text/plain": [
       "array([[255, 399],\n",
       "       [575, 783]])"
      ]
     },
     "execution_count": 77,
     "metadata": {},
     "output_type": "execute_result"
    }
   ],
   "source": [
    "a = np.linspace(10,15,num=6,dtype=np.float32)\n",
    "a\n",
    "# 数组所有元素求和\n",
    "sum(a)\n",
    "\n",
    "a.shape = 2,3\n",
    "a\n",
    "\n",
    "#沿着第一维求和\n",
    "np.sum(a,axis=0)\n",
    "#沿着第二维求和\n",
    "np.sum(a,axis=1)\n",
    "\n",
    "# 三维数组\n",
    "b = np.arange(15,30,2)\n",
    "b.shape = 2,2,2\n",
    "print(\"测试数组b\")\n",
    "b\n",
    "\n",
    "# 沿着第一维计算\n",
    "b[0,:,:]\n",
    "np.sum(b,axis=0)\n",
    "b[0,1,:]\n",
    "\n",
    "#沿着第二位计算\n",
    "b[:,1,:]\n",
    "np.sum(b,axis=1)\n",
    "\n",
    "#沿着最后一维计算\n",
    "b[:,:,1]\n",
    "np.sum(b,axis=-1)\n",
    "\n",
    "print(\"求积\")\n",
    "np.prod(b,axis=0)\n",
    "np.product(b,axis=0)\n",
    "np.prod(b,axis=1)\n",
    "np.prod(b,axis=-1)"
   ]
  },
  {
   "cell_type": "code",
   "execution_count": 94,
   "metadata": {},
   "outputs": [
    {
     "data": {
      "text/plain": [
       "17"
      ]
     },
     "execution_count": 94,
     "metadata": {},
     "output_type": "execute_result"
    },
    {
     "data": {
      "text/plain": [
       "array([[17, 17],\n",
       "       [19, 21]])"
      ]
     },
     "execution_count": 94,
     "metadata": {},
     "output_type": "execute_result"
    },
    {
     "data": {
      "text/plain": [
       "array([[17, 17],\n",
       "       [23, 25]])"
      ]
     },
     "execution_count": 94,
     "metadata": {},
     "output_type": "execute_result"
    },
    {
     "data": {
      "text/plain": [
       "array([[17, 19],\n",
       "       [23, 25]])"
      ]
     },
     "execution_count": 94,
     "metadata": {},
     "output_type": "execute_result"
    },
    {
     "data": {
      "text/plain": [
       "0"
      ]
     },
     "execution_count": 94,
     "metadata": {},
     "output_type": "execute_result"
    },
    {
     "data": {
      "text/plain": [
       "array([[0, 0],\n",
       "       [0, 0]])"
      ]
     },
     "execution_count": 94,
     "metadata": {},
     "output_type": "execute_result"
    },
    {
     "data": {
      "text/plain": [
       "array([[0, 0],\n",
       "       [0, 0]])"
      ]
     },
     "execution_count": 94,
     "metadata": {},
     "output_type": "execute_result"
    },
    {
     "data": {
      "text/plain": [
       "21.5"
      ]
     },
     "execution_count": 94,
     "metadata": {},
     "output_type": "execute_result"
    },
    {
     "data": {
      "text/plain": [
       "array([[20., 21.],\n",
       "       [22., 23.]])"
      ]
     },
     "execution_count": 94,
     "metadata": {},
     "output_type": "execute_result"
    },
    {
     "data": {
      "text/plain": [
       "array([[17., 20.],\n",
       "       [24., 25.]])"
      ]
     },
     "execution_count": 94,
     "metadata": {},
     "output_type": "execute_result"
    },
    {
     "data": {
      "text/plain": [
       "array([[20.6, 21.8],\n",
       "       [22.6, 23.4]])"
      ]
     },
     "execution_count": 94,
     "metadata": {},
     "output_type": "execute_result"
    },
    {
     "data": {
      "text/plain": [
       "array([[3., 4.],\n",
       "       [3., 2.]])"
      ]
     },
     "execution_count": 94,
     "metadata": {},
     "output_type": "execute_result"
    },
    {
     "data": {
      "text/plain": [
       "array([[ 9., 16.],\n",
       "       [ 9.,  4.]])"
      ]
     },
     "execution_count": 94,
     "metadata": {},
     "output_type": "execute_result"
    },
    {
     "data": {
      "text/plain": [
       "array([[[17, 17],\n",
       "        [19, 21]],\n",
       "\n",
       "       [[23, 23],\n",
       "        [23, 23]]])"
      ]
     },
     "execution_count": 94,
     "metadata": {},
     "output_type": "execute_result"
    },
    {
     "data": {
      "text/plain": [
       "array([[[17, 17],\n",
       "        [19, 21]],\n",
       "\n",
       "       [[23, 25],\n",
       "        [25, 25]]])"
      ]
     },
     "execution_count": 94,
     "metadata": {},
     "output_type": "execute_result"
    },
    {
     "data": {
      "text/plain": [
       "array([[[17, 17],\n",
       "        [19, 21]],\n",
       "\n",
       "       [[23, 25],\n",
       "        [25, 25]]])"
      ]
     },
     "execution_count": 94,
     "metadata": {},
     "output_type": "execute_result"
    },
    {
     "data": {
      "text/plain": [
       "8"
      ]
     },
     "execution_count": 94,
     "metadata": {},
     "output_type": "execute_result"
    },
    {
     "data": {
      "text/plain": [
       "array([[6, 8],\n",
       "       [6, 4]])"
      ]
     },
     "execution_count": 94,
     "metadata": {},
     "output_type": "execute_result"
    },
    {
     "data": {
      "text/plain": [
       "array([1., 3., 2.])"
      ]
     },
     "execution_count": 94,
     "metadata": {},
     "output_type": "execute_result"
    },
    {
     "data": {
      "text/plain": [
       "array([1.4, 2.5, 1.5])"
      ]
     },
     "execution_count": 94,
     "metadata": {},
     "output_type": "execute_result"
    }
   ],
   "source": [
    "np.min(b)\n",
    "np.min(b,axis=0)\n",
    "np.min(b,axis=1)\n",
    "np.min(b,axis=-1)\n",
    "\n",
    "# 求最大值和最小值位置\n",
    "np.argmin(b)\n",
    "np.argmin(b,axis=0)\n",
    "np.argmin(b,axis=1)\n",
    "\n",
    "# 求均值,mean函数和average\n",
    "np.mean(b)\n",
    "np.mean(b,axis=0)\n",
    "np.mean(b,axis=-1)\n",
    "\n",
    "#average指示加权平均\n",
    "np.average(b,axis=0,weights=[0.4,0.6])\n",
    "\n",
    "# 标准差和方差\n",
    "np.std(b,axis=0)\n",
    "np.var(b,axis=0)\n",
    "\n",
    "# 将数值限制在某个范围\n",
    "# 将小于17的变为17，大于23的变为23\n",
    "np.clip(b,17,23)\n",
    "np.clip(b,17,25,b)\n",
    "b\n",
    "\n",
    "#计算最大值和最小值只差\n",
    "np.ptp(b)\n",
    "np.ptp(b,axis=0)\n",
    "\n",
    "# 近似，默认到整数\n",
    "a = array([1.35, 2.52, 1.5])\n",
    "a.round() #近似到整数\n",
    "a.round(decimals=1) #近似到一位小数"
   ]
  },
  {
   "cell_type": "code",
   "execution_count": null,
   "metadata": {},
   "outputs": [],
   "source": [
    "#转置\n",
    "a.transpose()\n",
    "a.T"
   ]
  },
  {
   "cell_type": "markdown",
   "metadata": {},
   "source": [
    "## 数组广播机制"
   ]
  },
  {
   "cell_type": "code",
   "execution_count": 25,
   "metadata": {},
   "outputs": [
    {
     "data": {
      "text/plain": [
       "array([[ 1,  3,  5,  7,  9],\n",
       "       [11, 13, 15, 17, 19]])"
      ]
     },
     "execution_count": 25,
     "metadata": {},
     "output_type": "execute_result"
    },
    {
     "data": {
      "text/plain": [
       "array([[ 2,  4,  6,  8, 10],\n",
       "       [14, 16, 18, 20, 22]])"
      ]
     },
     "execution_count": 25,
     "metadata": {},
     "output_type": "execute_result"
    },
    {
     "data": {
      "text/plain": [
       "array([[ 2,  5,  8, 11, 14],\n",
       "       [12, 15, 18, 21, 24]])"
      ]
     },
     "execution_count": 25,
     "metadata": {},
     "output_type": "execute_result"
    },
    {
     "data": {
      "text/plain": [
       "array([[ 2,  5,  8, 11, 14],\n",
       "       [12, 15, 18, 21, 24]])"
      ]
     },
     "execution_count": 25,
     "metadata": {},
     "output_type": "execute_result"
    }
   ],
   "source": [
    "a = np.arange(1,20,2)\n",
    "a.shape = 2,5\n",
    "a\n",
    "\n",
    "aa = np.array([[1,1,1,1,1],[3,3,3,3,3]])\n",
    "a1 = a + aa\n",
    "a1\n",
    "\n",
    "aa1 = np.array([[1,2,3,4,5],[1,2,3,4,5]])\n",
    "a2 = a + aa1\n",
    "a2\n",
    "\n",
    "#结果一样，虽然两个数组的维数不一样，但是 Numpy检测到b的维度与a的维度匹配，所以将b扩展为之前的形式，得到相同的形状。\n",
    "#对于更高维度，这样的扩展依然有效。 \n",
    "aa2 = np.array([1,2,3,4,5])\n",
    "a3 = a + aa2\n",
    "a3"
   ]
  },
  {
   "cell_type": "code",
   "execution_count": 28,
   "metadata": {},
   "outputs": [
    {
     "data": {
      "text/plain": [
       "(4,)"
      ]
     },
     "execution_count": 28,
     "metadata": {},
     "output_type": "execute_result"
    },
    {
     "data": {
      "text/plain": [
       "array([[ 0],\n",
       "       [10],\n",
       "       [20],\n",
       "       [30]])"
      ]
     },
     "execution_count": 28,
     "metadata": {},
     "output_type": "execute_result"
    },
    {
     "data": {
      "text/plain": [
       "array([[ 0,  1,  2],\n",
       "       [10, 11, 12],\n",
       "       [20, 21, 22],\n",
       "       [30, 31, 32]])"
      ]
     },
     "execution_count": 28,
     "metadata": {},
     "output_type": "execute_result"
    },
    {
     "data": {
      "text/plain": [
       "'\\n即向量[[ 0],   会变为    [[ 0,  1,  2],\\n      [10],             [10, 11, 12],\\n      [20],             [20, 21, 22],\\n      [30]]             [30, 31, 32]]\\n'"
      ]
     },
     "execution_count": 28,
     "metadata": {},
     "output_type": "execute_result"
    }
   ],
   "source": [
    "a = np.array([0,10,20,30])\n",
    "a.shape\n",
    "a.shape = 4,1\n",
    "a\n",
    "\n",
    "b = np.array([0,1,2])\n",
    "a + b\n",
    "#总结：虽然两者的维度并不相同，但是Numpy还是根据两者的维度，自动将它们进行扩展然后进行计算。\n",
    "\n",
    "#对于 Numpy 来说，维度匹配当且仅当：\n",
    "    #维度相同\n",
    "    #有一个的维度是1\n",
    "#匹配会从最后一维开始进行，直到某一个的维度全部匹配为止\n",
    "\"\"\"\n",
    "即向量[[ 0],   会变为    [[ 0,  1,  2],\n",
    "      [10],             [10, 11, 12],\n",
    "      [20],             [20, 21, 22],\n",
    "      [30]]             [30, 31, 32]]\n",
    "\"\"\"      \n",
    "       "
   ]
  },
  {
   "cell_type": "markdown",
   "metadata": {},
   "source": [
    "## ufunc对象\n",
    "Numpy 有两种基本对象：ndarray (N-dimensional array object) 和 ufunc (universal function object)。  \n",
    "ndarray 是存储单一数据类型的多维数组，而 ufunc 则是能够对数组进行处理的函数。  \n",
    "例如，我们之前所接触到的二元操作符对应的 Numpy 函数，如 add，就是一种 ufunc 对象，它可以作用于数组的每个元素。  "
   ]
  },
  {
   "cell_type": "markdown",
   "metadata": {},
   "source": [
    "- reduce\n",
    "op.reduce(a)\n",
    "\n",
    "将op沿着某个轴应用，使得数组 a 的维数降低一维。  \n",
    "\n",
    "add 作用到一维数组上相当于求和：  \n",
    "$$\n",
    "\\begin{align}\n",
    "y & = add.recuce(a) \\\\\n",
    "& = a[0] + a[1] + ... + a[N-1] \\\\\n",
    "& = \\sum_{n=0}^{N-1} a[n]\n",
    "\\end{align}\n",
    "$$\n",
    "\n",
    "- accumulate\n",
    "    op.accumulate(a)\n",
    "`accumulate` 可以看成保存 `reduce` 每一步的结果所形成的数组。\n",
    "\n",
    "$$\n",
    "\\begin{align}\n",
    "y & = add.accumulate(a) \\\\\n",
    "& = \\left[\\sum_{n=0}^{0} a[n], \\sum_{n=0}^{1} a[n], ..., \\sum_{n=0}^{N-1} a[n]\\right]\n",
    "\\end{align}\n",
    "$$\n",
    "\n",
    "- reduceat\n",
    "    op.reduceat(a, indices)\n",
    "\n",
    "`reduceat` 方法将操作符运用到指定的下标上，返回一个与 `indices` 大小相同的数组：\n",
    "\n",
    "$$\n",
    "\\begin{align}\n",
    "y & = add.reduceat(a, indices) \\\\\n",
    "& = \\left[\\sum_{n=indice[0]}^{indice[1]-1} a[n], \\sum_{n=indice[1]}^{indice[2]-1} a[n], ..., \\sum_{n=indice[-1]}^{N-1} a[n]\\right]\n",
    "\\end{align}\n",
    "$$\n",
    "\n",
    "- outer\n",
    "    op.outer(a, b)\n",
    "\n",
    "对于 `a` 中每个元素，将 `op` 运用到它和 `b` 的每一个元素上所得到的结果："
   ]
  },
  {
   "cell_type": "code",
   "execution_count": 46,
   "metadata": {},
   "outputs": [
    {
     "data": {
      "text/plain": [
       "array([2, 4, 6])"
      ]
     },
     "execution_count": 46,
     "metadata": {},
     "output_type": "execute_result"
    },
    {
     "data": {
      "text/plain": [
       "10"
      ]
     },
     "execution_count": 46,
     "metadata": {},
     "output_type": "execute_result"
    },
    {
     "data": {
      "text/plain": [
       "array([5, 7, 9])"
      ]
     },
     "execution_count": 46,
     "metadata": {},
     "output_type": "execute_result"
    },
    {
     "data": {
      "text/plain": [
       "array([ 6, 15])"
      ]
     },
     "execution_count": 46,
     "metadata": {},
     "output_type": "execute_result"
    },
    {
     "data": {
      "text/plain": [
       "array([[ 1,  3,  6],\n",
       "       [ 4,  9, 15]])"
      ]
     },
     "execution_count": 46,
     "metadata": {},
     "output_type": "execute_result"
    },
    {
     "data": {
      "text/plain": [
       "'abcdef'"
      ]
     },
     "execution_count": 46,
     "metadata": {},
     "output_type": "execute_result"
    },
    {
     "data": {
      "text/plain": [
       "array(['ab', 'abcd', 'abcdef'], dtype=object)"
      ]
     },
     "execution_count": 46,
     "metadata": {},
     "output_type": "execute_result"
    },
    {
     "data": {
      "text/plain": [
       "array([ True,  True, False, False])"
      ]
     },
     "execution_count": 46,
     "metadata": {},
     "output_type": "execute_result"
    },
    {
     "data": {
      "text/plain": [
       "array([ True,  True,  True,  True])"
      ]
     },
     "execution_count": 46,
     "metadata": {},
     "output_type": "execute_result"
    },
    {
     "name": "stdout",
     "output_type": "stream",
     "text": [
      "reduceat\n"
     ]
    },
    {
     "data": {
      "text/plain": [
       "array([60, 90])"
      ]
     },
     "execution_count": 46,
     "metadata": {},
     "output_type": "execute_result"
    },
    {
     "data": {
      "text/plain": [
       "array([15, 50, 90])"
      ]
     },
     "execution_count": 46,
     "metadata": {},
     "output_type": "execute_result"
    },
    {
     "name": "stdout",
     "output_type": "stream",
     "text": [
      "outer\n"
     ]
    },
    {
     "data": {
      "text/plain": [
       "array([[1, 2, 3],\n",
       "       [2, 3, 4]])"
      ]
     },
     "execution_count": 46,
     "metadata": {},
     "output_type": "execute_result"
    }
   ],
   "source": [
    "a = np.array([0,1,2])\n",
    "b = np.array([2,3,4])\n",
    "\n",
    "np.add(a, b)\n",
    "\n",
    "a = np.array([1,2,3,4])\n",
    "np.add.reduce(a)\n",
    "\n",
    "#多维数组默认只按照第一维进行运算\n",
    "a = np.array([[1,2,3],[4,5,6]])\n",
    "np.add.reduce(a)\n",
    "\n",
    "np.add.reduce(a,1) #相当于reduce(a,axis=1\n",
    "\n",
    "np.add.accumulate(a,axis=1)\n",
    "\n",
    "a = np.array(['ab', 'cd', 'ef'], np.object)\n",
    "np.add.reduce((a))\n",
    "\n",
    "np.add.accumulate(a)\n",
    "\n",
    "a = np.array([1,1,0,1])\n",
    "np.logical_and.accumulate(a) #逻辑与\n",
    "np.logical_or.accumulate(a) #逻辑或\n",
    "\n",
    "print(\"reduceat\")\n",
    "a = np.array([5, 10, 20, 30, 40, 50])\n",
    "indices = np.array([1,4])\n",
    "np.add.reduceat(a, indices)\n",
    "##indices为[1, 4]，所以60表示从下标1（包括）加到下标4（不包括）的结果，90表示从下标4（包括）加到结尾的结果\n",
    "indices = np.array([0,2,4])\n",
    "np.add.reduceat(a, indices) #15=5+10,50=a[2]+a[3]\n",
    "\n",
    "print(\"outer\")\n",
    "a = np.array([0,1])\n",
    "b = np.array([1,2,3])\n",
    "np.add.outer(a, b)\n",
    "np.add.outer(b,a) #注意顺序"
   ]
  },
  {
   "cell_type": "markdown",
   "metadata": {},
   "source": [
    "## 二元运算"
   ]
  },
  {
   "cell_type": "markdown",
   "metadata": {},
   "source": [
    "### 比较和逻辑运算\n",
    "\n",
    "运算|函数<\n",
    "--- | --- \n",
    "`==` | `equal`\n",
    "`!=` | `not_equal`\n",
    "`>` | `greater`\n",
    "`>=` | `greater_equal`\n",
    "`<` | `less`\n",
    "`<=` | `less_equal`\n",
    "| `logical_and`\n",
    "| `logical_or`\n",
    "| `logical_xor`\n",
    "| `logical_not`\n",
    "`&` | `bitwise_and`\n",
    " | `bitwise_or`\n",
    "`^` | `bitwise_xor`\n",
    "`~` | `invert`\n",
    "`>>` | `right_shift`\n",
    "`<<` | `left_shift`\n",
    "\n"
   ]
  },
  {
   "cell_type": "code",
   "execution_count": 54,
   "metadata": {},
   "outputs": [
    {
     "data": {
      "text/plain": [
       "array([[ True,  True, False,  True],\n",
       "       [False,  True,  True,  True]])"
      ]
     },
     "execution_count": 54,
     "metadata": {},
     "output_type": "execute_result"
    },
    {
     "data": {
      "text/plain": [
       "False"
      ]
     },
     "execution_count": 54,
     "metadata": {},
     "output_type": "execute_result"
    },
    {
     "data": {
      "text/plain": [
       "True"
      ]
     },
     "execution_count": 54,
     "metadata": {},
     "output_type": "execute_result"
    }
   ],
   "source": [
    "## 等于操作也是逐元素比较的：\n",
    "a = np.array([[1,2,3,4],\n",
    "              [2,3,4,5]])\n",
    "b = np.array([[1,2,5,4],\n",
    "              [1,3,4,5]])\n",
    "a == b\n",
    "np.all(a == b)\n",
    "\n",
    "a1 = np.array([[1,2.5,3,4],\n",
    "              [2,3,4,5]],dtype=np.float64)\n",
    "b1 = np.array([[1,2.5,3,4],\n",
    "              [2,3,4,5]],dtype=np.float64)\n",
    "np.all(a1 == b1)\n",
    "\n",
    "# 对于浮点数，由于存在精度问题，使用函数 allclose 会更好：\n",
    "# if allclose(a,b):"
   ]
  },
  {
   "cell_type": "markdown",
   "metadata": {},
   "source": [
    "运算|函数\n",
    "--- | --- \n",
    "`a + b` | `add(a,b)`\n",
    "`a - b` | `subtract(a,b)`\n",
    "`a * b` | `multiply(a,b)`\n",
    "`a / b` | `divide(a,b)`\n",
    "`a ** b` | `power(a,b)`\n",
    "`a % b` | `remainder(a,b)`\n",
    "\n",
    "以乘法为例，数组与标量相乘，相当于数组的每个元素乘以这个标量："
   ]
  },
  {
   "cell_type": "code",
   "execution_count": 57,
   "metadata": {},
   "outputs": [
    {
     "data": {
      "text/plain": [
       "array([3, 8])"
      ]
     },
     "execution_count": 57,
     "metadata": {},
     "output_type": "execute_result"
    },
    {
     "data": {
      "text/plain": [
       "array([3, 8])"
      ]
     },
     "execution_count": 57,
     "metadata": {},
     "output_type": "execute_result"
    },
    {
     "data": {
      "text/plain": [
       "array([3, 8])"
      ]
     },
     "execution_count": 57,
     "metadata": {},
     "output_type": "execute_result"
    },
    {
     "data": {
      "text/plain": [
       "array([3, 8])"
      ]
     },
     "execution_count": 57,
     "metadata": {},
     "output_type": "execute_result"
    }
   ],
   "source": [
    "## 数组对应元素相差\n",
    "a = np.array([1,2])\n",
    "b = np.array([3,4])\n",
    "a * b\n",
    "\n",
    "np.multiply(a,b)\n",
    "\n",
    "np.multiply(a, b, a) #函数还可以接受第三个参数，表示将结果存入第三个参数中\n",
    "a"
   ]
  },
  {
   "cell_type": "markdown",
   "metadata": {},
   "source": [
    "# 排序"
   ]
  },
  {
   "cell_type": "code",
   "execution_count": 109,
   "metadata": {},
   "outputs": [
    {
     "data": {
      "text/plain": [
       "array([20.8, 53.4, 61.8, 93.2])"
      ]
     },
     "execution_count": 109,
     "metadata": {},
     "output_type": "execute_result"
    },
    {
     "data": {
      "text/plain": [
       "array(['ad', 'bob', 'jan', 'sue'], dtype='<U3')"
      ]
     },
     "execution_count": 109,
     "metadata": {},
     "output_type": "execute_result"
    },
    {
     "data": {
      "text/plain": [
       "array(['bob', 'sue', 'jan', 'ad'], dtype='<U3')"
      ]
     },
     "execution_count": 109,
     "metadata": {},
     "output_type": "execute_result"
    },
    {
     "data": {
      "text/plain": [
       "array([3, 0, 2, 1])"
      ]
     },
     "execution_count": 109,
     "metadata": {},
     "output_type": "execute_result"
    },
    {
     "data": {
      "text/plain": [
       "array(['ad', 'bob', 'jan', 'sue'], dtype='<U3')"
      ]
     },
     "execution_count": 109,
     "metadata": {},
     "output_type": "execute_result"
    },
    {
     "data": {
      "text/plain": [
       "array([20.8, 53.4, 61.8, 93.2])"
      ]
     },
     "execution_count": 109,
     "metadata": {},
     "output_type": "execute_result"
    },
    {
     "data": {
      "text/plain": [
       "array([3, 0, 2, 1])"
      ]
     },
     "execution_count": 109,
     "metadata": {},
     "output_type": "execute_result"
    },
    {
     "data": {
      "text/plain": [
       "array(['bob', 'sue', 'jan', 'ad'], dtype='<U3')"
      ]
     },
     "execution_count": 109,
     "metadata": {},
     "output_type": "execute_result"
    }
   ],
   "source": [
    "names = array(['bob', 'sue', 'jan', 'ad'])\n",
    "weights = array([20.8, 93.2, 53.4, 61.8])\n",
    "\n",
    "np.sort(weights)\n",
    "np.sort(names) #sort()并不会改变数组的值\n",
    "names\n",
    "\n",
    "# argsort 返回从小到大的排列在数组中的索引位置\n",
    "order_indices = np.argsort(names)\n",
    "order_indices\n",
    "names[order_indices]\n",
    "\n",
    "# 数组也支持方法操作，sort()会改变数组的值\n",
    "weights.sort()\n",
    "weights\n",
    "\n",
    "#argsort 方法与 argsort 函数的使用没什么区别，也不会改变数组的值\n",
    "names.argsort()\n",
    "names"
   ]
  },
  {
   "cell_type": "code",
   "execution_count": 111,
   "metadata": {},
   "outputs": [
    {
     "data": {
      "text/plain": [
       "array([[0.1, 0.2, 0.5],\n",
       "       [0.3, 0.4, 0.8],\n",
       "       [0.6, 0.7, 0.9]])"
      ]
     },
     "execution_count": 111,
     "metadata": {},
     "output_type": "execute_result"
    },
    {
     "data": {
      "text/plain": [
       "array([[0.2, 0.1, 0.3],\n",
       "       [0.4, 0.6, 0.5],\n",
       "       [0.9, 0.8, 0.7]])"
      ]
     },
     "execution_count": 111,
     "metadata": {},
     "output_type": "execute_result"
    }
   ],
   "source": [
    "# 二维数组排序\n",
    "a = array([\n",
    "        [.2, .1, .5], \n",
    "        [.4, .8, .3],\n",
    "        [.9, .6, .7]\n",
    "    ])\n",
    "np.sort(a,axis=-1)\n",
    "np.sort(a,axis=0)"
   ]
  },
  {
   "cell_type": "code",
   "execution_count": 115,
   "metadata": {},
   "outputs": [
    {
     "data": {
      "text/plain": [
       "array([0.  , 0.25, 0.5 , 0.75, 1.  ])"
      ]
     },
     "execution_count": 115,
     "metadata": {},
     "output_type": "execute_result"
    },
    {
     "data": {
      "text/plain": [
       "array([0.1 , 0.8 , 0.3 , 0.12, 0.5 , 0.25])"
      ]
     },
     "execution_count": 115,
     "metadata": {},
     "output_type": "execute_result"
    },
    {
     "data": {
      "text/plain": [
       "array([1, 4, 2, 1, 2, 1])"
      ]
     },
     "execution_count": 115,
     "metadata": {},
     "output_type": "execute_result"
    }
   ],
   "source": [
    "sorted_array = np.linspace(0,1,5)\n",
    "values = array([.1,.8,.3,.12,.5,.25])\n",
    "sorted_array\n",
    "values\n",
    "\n",
    "np.searchsorted(sorted_array, values)"
   ]
  },
  {
   "attachments": {
    "%E5%9B%BE%E7%89%87.png": {
     "image/png": "[encoded data removed]"
    }
   },
   "cell_type": "markdown",
   "metadata": {},
   "source": [
    "![%E5%9B%BE%E7%89%87.png](attachment:%E5%9B%BE%E7%89%87.png)"
   ]
  },
  {
   "cell_type": "markdown",
   "metadata": {},
   "source": [
    "lst = [1,2,3,4]\n",
    "np.shape(lst)\n",
    "type(lst)"
   ]
  },
  {
   "cell_type": "code",
   "execution_count": 122,
   "metadata": {},
   "outputs": [
    {
     "data": {
      "text/plain": [
       "array([0.60594921, 0.12684433, 0.49348174, 0.34145564, 0.34359711,\n",
       "       0.12700778, 0.70294822, 0.40512267, 0.11405211, 0.38213359,\n",
       "       0.54958698, 0.21386935, 0.30945758, 0.90557955, 0.53391377,\n",
       "       0.20702204, 0.63380888, 0.28523848, 0.21027949, 0.26505555,\n",
       "       0.15438891, 0.19948357, 0.10817118, 0.72293787, 0.91189962,\n",
       "       0.91262281, 0.27810995, 0.56323244, 0.14743266, 0.06031371,\n",
       "       0.07841452, 0.23805185, 0.96932403, 0.67920531, 0.48442994,\n",
       "       0.57058491, 0.63701435, 0.23445678, 0.46975192, 0.65267912,\n",
       "       0.78681344, 0.00688888, 0.99254056, 0.85185008, 0.70180168,\n",
       "       0.86539097, 0.89473897, 0.24364736, 0.73197551, 0.26936026])"
      ]
     },
     "execution_count": 122,
     "metadata": {},
     "output_type": "execute_result"
    },
    {
     "data": {
      "text/plain": [
       "array([0.00688888, 0.06031371, 0.07841452, 0.10817118, 0.11405211,\n",
       "       0.12684433, 0.12700778, 0.14743266, 0.15438891, 0.19948357,\n",
       "       0.20702204, 0.21027949, 0.21386935, 0.23445678, 0.23805185,\n",
       "       0.24364736, 0.26505555, 0.26936026, 0.27810995, 0.28523848,\n",
       "       0.30945758, 0.34145564, 0.34359711, 0.38213359, 0.40512267,\n",
       "       0.46975192, 0.48442994, 0.49348174, 0.53391377, 0.54958698,\n",
       "       0.56323244, 0.57058491, 0.60594921, 0.63380888, 0.63701435,\n",
       "       0.65267912, 0.67920531, 0.70180168, 0.70294822, 0.72293787,\n",
       "       0.73197551, 0.78681344, 0.85185008, 0.86539097, 0.89473897,\n",
       "       0.90557955, 0.91189962, 0.91262281, 0.96932403, 0.99254056])"
      ]
     },
     "execution_count": 122,
     "metadata": {},
     "output_type": "execute_result"
    }
   ],
   "source": [
    "from numpy.random import rand\n",
    "data = rand(50)\n",
    "data\n",
    "#data.sort()\n",
    "data_copy = np.sort(data)\n",
    "data_copy"
   ]
  },
  {
   "cell_type": "code",
   "execution_count": 123,
   "metadata": {},
   "outputs": [
    {
     "data": {
      "text/plain": [
       "(0.4, 0.6)"
      ]
     },
     "execution_count": 123,
     "metadata": {},
     "output_type": "execute_result"
    },
    {
     "data": {
      "text/plain": [
       "array([0.40512267, 0.46975192, 0.48442994, 0.49348174, 0.53391377,\n",
       "       0.54958698, 0.56323244, 0.57058491])"
      ]
     },
     "execution_count": 123,
     "metadata": {},
     "output_type": "execute_result"
    }
   ],
   "source": [
    "bound = .4,.6\n",
    "bound\n",
    "\n",
    "low_index, high_index = np.searchsorted(data_copy,bound)\n",
    "data_copy[low_index:high_index]"
   ]
  },
  {
   "cell_type": "markdown",
   "metadata": {},
   "source": [
    "## 修改数组形状"
   ]
  },
  {
   "cell_type": "markdown",
   "metadata": {},
   "source": [
    "使用newaxis增加维数，使用squeze减少维数  "
   ]
  },
  {
   "cell_type": "code",
   "execution_count": 142,
   "metadata": {},
   "outputs": [
    {
     "data": {
      "text/plain": [
       "array([0, 1, 2])"
      ]
     },
     "execution_count": 142,
     "metadata": {},
     "output_type": "execute_result"
    },
    {
     "data": {
      "text/plain": [
       "(3,)"
      ]
     },
     "execution_count": 142,
     "metadata": {},
     "output_type": "execute_result"
    },
    {
     "data": {
      "text/plain": [
       "(3,)"
      ]
     },
     "execution_count": 142,
     "metadata": {},
     "output_type": "execute_result"
    },
    {
     "data": {
      "text/plain": [
       "array([[0, 1, 2]])"
      ]
     },
     "execution_count": 142,
     "metadata": {},
     "output_type": "execute_result"
    },
    {
     "data": {
      "text/plain": [
       "(1, 3)"
      ]
     },
     "execution_count": 142,
     "metadata": {},
     "output_type": "execute_result"
    },
    {
     "data": {
      "text/plain": [
       "array([[0],\n",
       "       [1],\n",
       "       [2]])"
      ]
     },
     "execution_count": 142,
     "metadata": {},
     "output_type": "execute_result"
    },
    {
     "data": {
      "text/plain": [
       "(3, 1)"
      ]
     },
     "execution_count": 142,
     "metadata": {},
     "output_type": "execute_result"
    },
    {
     "data": {
      "text/plain": [
       "array([[[0, 1, 2]]])"
      ]
     },
     "execution_count": 142,
     "metadata": {},
     "output_type": "execute_result"
    },
    {
     "data": {
      "text/plain": [
       "(1, 1, 3)"
      ]
     },
     "execution_count": 142,
     "metadata": {},
     "output_type": "execute_result"
    },
    {
     "data": {
      "text/plain": [
       "array([0, 1, 2])"
      ]
     },
     "execution_count": 142,
     "metadata": {},
     "output_type": "execute_result"
    },
    {
     "data": {
      "text/plain": [
       "array([[[0, 1, 2]],\n",
       "\n",
       "       [[3, 4, 5]]])"
      ]
     },
     "execution_count": 142,
     "metadata": {},
     "output_type": "execute_result"
    },
    {
     "name": "stdout",
     "output_type": "stream",
     "text": [
      "reshape\n"
     ]
    },
    {
     "data": {
      "text/plain": [
       "array([[[0, 1, 2],\n",
       "        [3, 4, 5]]])"
      ]
     },
     "execution_count": 142,
     "metadata": {},
     "output_type": "execute_result"
    },
    {
     "data": {
      "text/plain": [
       "array([[0, 1, 2],\n",
       "       [3, 4, 5]])"
      ]
     },
     "execution_count": 142,
     "metadata": {},
     "output_type": "execute_result"
    },
    {
     "name": "stdout",
     "output_type": "stream",
     "text": [
      "reshape\n"
     ]
    },
    {
     "data": {
      "text/plain": [
       "array([[[0],\n",
       "        [1]],\n",
       "\n",
       "       [[2],\n",
       "        [3]],\n",
       "\n",
       "       [[4],\n",
       "        [5]]])"
      ]
     },
     "execution_count": 142,
     "metadata": {},
     "output_type": "execute_result"
    },
    {
     "data": {
      "text/plain": [
       "array([[0, 1],\n",
       "       [2, 3],\n",
       "       [4, 5]])"
      ]
     },
     "execution_count": 142,
     "metadata": {},
     "output_type": "execute_result"
    },
    {
     "data": {
      "text/plain": [
       "(3, 2)"
      ]
     },
     "execution_count": 142,
     "metadata": {},
     "output_type": "execute_result"
    }
   ],
   "source": [
    "a1 = np.arange(3)\n",
    "a1\n",
    "np.shape(a1)\n",
    "a1.shape\n",
    "\n",
    "a2 = a1[np.newaxis,:]\n",
    "a2\n",
    "np.shape(a2)\n",
    "\n",
    "a3 = a1[:,np.newaxis]\n",
    "a3\n",
    "a3.shape\n",
    "\n",
    "a4 = a1[np.newaxis,np.newaxis,:]\n",
    "a4\n",
    "a4.shape\n",
    "a4[0,0,:]\n",
    "\n",
    "aa = np.arange(6)\n",
    "aa.shape = (2,1,3)\n",
    "aa\n",
    "print(\"reshape\")\n",
    "aa = np.arange(6)\n",
    "aa.shape = (1,2,3)\n",
    "aa\n",
    "np.squeeze(aa)\n",
    "print(\"reshape\")\n",
    "aa = np.arange(6)\n",
    "aa.shape = (3,2,1)\n",
    "aa\n",
    "bb = aa.squeeze()\n",
    "bb\n",
    "bb.shape"
   ]
  },
  {
   "cell_type": "markdown",
   "metadata": {},
   "source": [
    "数组连接"
   ]
  },
  {
   "cell_type": "code",
   "execution_count": 24,
   "metadata": {},
   "outputs": [
    {
     "data": {
      "text/plain": [
       "dtype('int64')"
      ]
     },
     "execution_count": 24,
     "metadata": {},
     "output_type": "execute_result"
    },
    {
     "data": {
      "text/plain": [
       "array([[ 1,  3,  5,  7,  9],\n",
       "       [11, 13, 15, 17, 19]])"
      ]
     },
     "execution_count": 24,
     "metadata": {},
     "output_type": "execute_result"
    },
    {
     "data": {
      "text/plain": [
       "array([[20.        , 21.11111111, 22.22222222, 23.33333333, 24.44444444],\n",
       "       [25.55555556, 26.66666667, 27.77777778, 28.88888889, 30.        ]])"
      ]
     },
     "execution_count": 24,
     "metadata": {},
     "output_type": "execute_result"
    },
    {
     "data": {
      "text/plain": [
       "array([[ 1,  3,  5,  7,  9],\n",
       "       [11, 13, 15, 17, 19],\n",
       "       [20, 21, 22, 23, 24],\n",
       "       [25, 26, 27, 28, 30]])"
      ]
     },
     "execution_count": 24,
     "metadata": {},
     "output_type": "execute_result"
    },
    {
     "data": {
      "text/plain": [
       "array([[ 1,  3,  5,  7,  9, 20, 21, 22, 23, 24],\n",
       "       [11, 13, 15, 17, 19, 25, 26, 27, 28, 30]])"
      ]
     },
     "execution_count": 24,
     "metadata": {},
     "output_type": "execute_result"
    }
   ],
   "source": [
    "import numpy as np\n",
    "from numpy import array\n",
    "a = np.arange(1,20,2)\n",
    "a.shape = 2,5\n",
    "a.dtype\n",
    "a\n",
    "\n",
    "b = np.linspace(20,30,num=10) #\n",
    "b.shape = 2,5\n",
    "b\n",
    "\n",
    "#连接数组类型必须一致，参数是数组序列\n",
    "c = np.asarray(b,dtype=np.int64)\n",
    "np.concatenate((a,c),axis=0) \n",
    "np.concatenate((a,c),axis=-1)\n"
   ]
  },
  {
   "cell_type": "code",
   "execution_count": 17,
   "metadata": {},
   "outputs": [
    {
     "data": {
      "text/plain": [
       "array([[[ 1.        ,  3.        ,  5.        ,  7.        ,\n",
       "          9.        ],\n",
       "        [11.        , 13.        , 15.        , 17.        ,\n",
       "         19.        ]],\n",
       "\n",
       "       [[20.        , 21.11111111, 22.22222222, 23.33333333,\n",
       "         24.44444444],\n",
       "        [25.55555556, 26.66666667, 27.77777778, 28.88888889,\n",
       "         30.        ]]])"
      ]
     },
     "execution_count": 17,
     "metadata": {},
     "output_type": "execute_result"
    },
    {
     "data": {
      "text/plain": [
       "(2, 2, 5)"
      ]
     },
     "execution_count": 17,
     "metadata": {},
     "output_type": "execute_result"
    }
   ],
   "source": [
    "# 注意到这里 a和 b的形状是一样的，还可以将它们连接成三维的数组，但是 concatenate 不能提供这样的功能，不过可以这样\n",
    "z = array((a,b))\n",
    "z\n",
    "z.shape"
   ]
  },
  {
   "cell_type": "code",
   "execution_count": 23,
   "metadata": {},
   "outputs": [
    {
     "data": {
      "text/plain": [
       "(4, 5)"
      ]
     },
     "execution_count": 23,
     "metadata": {},
     "output_type": "execute_result"
    },
    {
     "data": {
      "text/plain": [
       "array([[ 1.        ,  3.        ,  5.        ,  7.        ,  9.        ],\n",
       "       [11.        , 13.        , 15.        , 17.        , 19.        ],\n",
       "       [20.        , 21.11111111, 22.22222222, 23.33333333, 24.44444444],\n",
       "       [25.55555556, 26.66666667, 27.77777778, 28.88888889, 30.        ]])"
      ]
     },
     "execution_count": 23,
     "metadata": {},
     "output_type": "execute_result"
    },
    {
     "data": {
      "text/plain": [
       "(2, 10)"
      ]
     },
     "execution_count": 23,
     "metadata": {},
     "output_type": "execute_result"
    },
    {
     "data": {
      "text/plain": [
       "array([[ 1.        ,  3.        ,  5.        ,  7.        ,  9.        ,\n",
       "        20.        , 21.11111111, 22.22222222, 23.33333333, 24.44444444],\n",
       "       [11.        , 13.        , 15.        , 17.        , 19.        ,\n",
       "        25.55555556, 26.66666667, 27.77777778, 28.88888889, 30.        ]])"
      ]
     },
     "execution_count": 23,
     "metadata": {},
     "output_type": "execute_result"
    },
    {
     "data": {
      "text/plain": [
       "(2, 5, 2)"
      ]
     },
     "execution_count": 23,
     "metadata": {},
     "output_type": "execute_result"
    },
    {
     "data": {
      "text/plain": [
       "array([[[ 1.        , 20.        ],\n",
       "        [ 3.        , 21.11111111],\n",
       "        [ 5.        , 22.22222222],\n",
       "        [ 7.        , 23.33333333],\n",
       "        [ 9.        , 24.44444444]],\n",
       "\n",
       "       [[11.        , 25.55555556],\n",
       "        [13.        , 26.66666667],\n",
       "        [15.        , 27.77777778],\n",
       "        [17.        , 28.88888889],\n",
       "        [19.        , 30.        ]]])"
      ]
     },
     "execution_count": 23,
     "metadata": {},
     "output_type": "execute_result"
    }
   ],
   "source": [
    "#vstack  hstack   dstack\n",
    "# vstack相当于在一维数组'(N，)'被重新构造为'(1,n)'之后沿着第一个轴进行连接。重建数组除以'vsplit\n",
    "z1 = np.vstack((a,b))\n",
    "z1.shape\n",
    "z1\n",
    "\n",
    "z2 = np.hstack((a,b))\n",
    "z2.shape\n",
    "z2\n",
    "\n",
    "z3 = np.dstack((a,b))\n",
    "z3.shape\n",
    "z3"
   ]
  },
  {
   "cell_type": "code",
   "execution_count": 33,
   "metadata": {},
   "outputs": [
    {
     "data": {
      "text/plain": [
       "array([[[ 1.  , 20.  ],\n",
       "        [ 3.  , 21.11],\n",
       "        [ 5.  , 22.22],\n",
       "        [ 7.  , 23.33],\n",
       "        [ 9.  , 24.44]],\n",
       "\n",
       "       [[11.  , 25.56],\n",
       "        [13.  , 26.67],\n",
       "        [15.  , 27.78],\n",
       "        [17.  , 28.89],\n",
       "        [19.  , 30.  ]]])"
      ]
     },
     "execution_count": 33,
     "metadata": {},
     "output_type": "execute_result"
    },
    {
     "data": {
      "text/plain": [
       "array([[[ 1.  , 20.  ],\n",
       "        [ 3.  , 21.11],\n",
       "        [ 5.  , 22.22],\n",
       "        [ 7.  , 23.33],\n",
       "        [ 9.  , 24.44]],\n",
       "\n",
       "       [[11.  , 25.56],\n",
       "        [13.  , 26.67],\n",
       "        [15.  , 27.78],\n",
       "        [17.  , 28.89],\n",
       "        [19.  , 30.  ]]])"
      ]
     },
     "execution_count": 33,
     "metadata": {},
     "output_type": "execute_result"
    },
    {
     "data": {
      "text/plain": [
       "array([ 1.  , 20.  ,  3.  , 21.11,  5.  , 22.22,  7.  , 23.33,  9.  ,\n",
       "       24.44, 11.  , 25.56, 13.  , 26.67, 15.  , 27.78, 17.  , 28.89,\n",
       "       19.  , 30.  ])"
      ]
     },
     "execution_count": 33,
     "metadata": {},
     "output_type": "execute_result"
    },
    {
     "data": {
      "text/plain": [
       "array([ 3.  , 21.11,  5.  ])"
      ]
     },
     "execution_count": 33,
     "metadata": {},
     "output_type": "execute_result"
    },
    {
     "data": {
      "text/plain": [
       "array([ 1.  , 20.  ,  3.  , 21.11,  5.  , 22.22,  7.  , 23.33,  9.  ,\n",
       "       24.44, 11.  , 25.56, 13.  , 26.67, 15.  , 27.78, 17.  , 28.89,\n",
       "       19.  , 30.  ])"
      ]
     },
     "execution_count": 33,
     "metadata": {},
     "output_type": "execute_result"
    }
   ],
   "source": [
    "# flatten 方法的作用是将多维数组转化为1维数组\n",
    "np.round(z3,decimals=2,out = z3)\n",
    "z3\n",
    "z4 = z3.flatten() #返回的是数组的复制\n",
    "z4\n",
    "z5 = z3.flat\n",
    "z5[2:5]\n",
    "\n",
    "# 还可以使用 ravel 方法，ravel 使用高效的表示方式\n",
    "z6 = np.ravel(z3)\n",
    "z6"
   ]
  },
  {
   "cell_type": "code",
   "execution_count": null,
   "metadata": {},
   "outputs": [],
   "source": [
    "np.atleast_1d()"
   ]
  },
  {
   "cell_type": "markdown",
   "metadata": {},
   "source": [
    "# 数组和字符串的转换"
   ]
  },
  {
   "cell_type": "code",
   "execution_count": 45,
   "metadata": {},
   "outputs": [
    {
     "data": {
      "text/plain": [
       "array([[ 1,  3,  5,  7,  9],\n",
       "       [11, 13, 15, 17, 19]])"
      ]
     },
     "execution_count": 45,
     "metadata": {},
     "output_type": "execute_result"
    },
    {
     "data": {
      "text/plain": [
       "b'\\x01\\x00\\x00\\x00\\x00\\x00\\x00\\x00\\x03\\x00\\x00\\x00\\x00\\x00\\x00\\x00\\x05\\x00\\x00\\x00\\x00\\x00\\x00\\x00\\x07\\x00\\x00\\x00\\x00\\x00\\x00\\x00\\t\\x00\\x00\\x00\\x00\\x00\\x00\\x00\\x0b\\x00\\x00\\x00\\x00\\x00\\x00\\x00\\r\\x00\\x00\\x00\\x00\\x00\\x00\\x00\\x0f\\x00\\x00\\x00\\x00\\x00\\x00\\x00\\x11\\x00\\x00\\x00\\x00\\x00\\x00\\x00\\x13\\x00\\x00\\x00\\x00\\x00\\x00\\x00'"
      ]
     },
     "execution_count": 45,
     "metadata": {},
     "output_type": "execute_result"
    },
    {
     "data": {
      "text/plain": [
       "b'\\x01\\x00\\x00\\x00\\x00\\x00\\x00\\x00\\x0b\\x00\\x00\\x00\\x00\\x00\\x00\\x00\\x03\\x00\\x00\\x00\\x00\\x00\\x00\\x00\\r\\x00\\x00\\x00\\x00\\x00\\x00\\x00\\x05\\x00\\x00\\x00\\x00\\x00\\x00\\x00\\x0f\\x00\\x00\\x00\\x00\\x00\\x00\\x00\\x07\\x00\\x00\\x00\\x00\\x00\\x00\\x00\\x11\\x00\\x00\\x00\\x00\\x00\\x00\\x00\\t\\x00\\x00\\x00\\x00\\x00\\x00\\x00\\x13\\x00\\x00\\x00\\x00\\x00\\x00\\x00'"
      ]
     },
     "execution_count": 45,
     "metadata": {},
     "output_type": "execute_result"
    },
    {
     "data": {
      "text/plain": [
       "b'\\x01\\x0b\\x03\\r\\x05\\x0f\\x07\\x11\\t\\x13'"
      ]
     },
     "execution_count": 45,
     "metadata": {},
     "output_type": "execute_result"
    },
    {
     "data": {
      "text/plain": [
       "b'\\x01\\x03\\x05\\x07\\t\\x0b\\r\\x0f\\x11\\x13'"
      ]
     },
     "execution_count": 45,
     "metadata": {},
     "output_type": "execute_result"
    },
    {
     "name": "stderr",
     "output_type": "stream",
     "text": [
      "/opt/anaconda3/lib/python3.7/site-packages/ipykernel_launcher.py:11: DeprecationWarning: The binary mode of fromstring is deprecated, as it behaves surprisingly on unicode inputs. Use frombuffer instead\n",
      "  # This is added back by InteractiveShellApp.init_path()\n"
     ]
    },
    {
     "data": {
      "text/plain": [
       "array([ 1,  3,  5,  7,  9, 11, 13, 15, 17, 19], dtype=uint8)"
      ]
     },
     "execution_count": 45,
     "metadata": {},
     "output_type": "execute_result"
    }
   ],
   "source": [
    "a\n",
    "a.tostring(order='C')\n",
    "a.tostring(order='F')\n",
    "\n",
    "a1 = a.astype(dtype=np.uint8,copy=False)\n",
    "S = a1.tostring(order='C')\n",
    "a1.tostring(order='F')\n",
    "S\n",
    "\n",
    "# 错误：string size must be a multiple of element size，需要指定类型\n",
    "# 返回数组是一维的\n",
    "a3 = np.fromstring(S,dtype=np.uint8)\n",
    "a3"
   ]
  },
  {
   "cell_type": "markdown",
   "metadata": {},
   "source": [
    "# 创建数组"
   ]
  },
  {
   "cell_type": "markdown",
   "metadata": {},
   "source": [
    "1、arange 类似于Python中的 range 函数，只不过返回的不是列表，而是数组：  \n",
    "arange(start, stop=None, step=1, dtype=None)\n",
    "产生一个在区间 (start, stop) 之间，以 step 为间隔的数组，  \n",
    "如果只输入一个参数，则默认从 0 开始，并以这个值为结束 \n",
    "\n",
    "2、linspace(start, stop, N)  \n",
    "产生 N 个等距分布在 [start, stop]间的元素组成的数组，包括 start, stop\n",
    "\n",
    "3、logspace(start, stop, N)\n",
    "产生 N 个对数等距分布的数组，默认以10为底\n",
    "\n",
    "4、产生一个制定形状的全 0 或全 1 的数组，还可以制定数组类型  \n",
    "ones(shape, dtype=float64)  \n",
    "zeros(shape, dtype=float64)\n",
    "\n",
    "5、empty 方法产生一个制定大小的数组（数组所指向的内存未被初始化，所以值随机），再用 fill 方法填充  \n",
    "empty(shape, dtype=float64, order='C')\n",
    "\n",
    "6、  empty_like, ones_like, zeros_like 产生一个跟 a 大小一样，类型一样的对应数组  \n",
    "empty_like(a)  \n",
    "ones_like(a)  \n",
    "zeros_like(a)  \n",
    "\n",
    "7、identity  产生一个 n 乘 n 的单位矩阵  \n",
    "indentity(n, dtype=float64)\n",
    "\n",
    "8、r_ / c_ 来产生行向量或者列向量  \n",
    "[注：Not a function, so takes no parameters\n",
    "\n",
    "注意：\n",
    "    这里使用的是中括号  \n",
    "    Matlab 使用的是 start:step:end 的表示，Numpy 使用的是 start:end:step 的表示  \n",
    "    这里的结果不包括 end 的值  \n",
    "为了包含 end 的值，我们可以使用这样的技巧\n",
    "1:3:5j 在 step 的位置传入一个复数 5j ，表示我们需要一个 5 个值的数组，此时返回值就会包含 end 的值  "
   ]
  },
  {
   "cell_type": "code",
   "execution_count": 63,
   "metadata": {},
   "outputs": [
    {
     "data": {
      "text/plain": [
       "array([1., 1., 1.])"
      ]
     },
     "execution_count": 63,
     "metadata": {},
     "output_type": "execute_result"
    },
    {
     "data": {
      "text/plain": [
       "array([0, 0, 0], dtype=int32)"
      ]
     },
     "execution_count": 63,
     "metadata": {},
     "output_type": "execute_result"
    },
    {
     "data": {
      "text/plain": [
       "array([[1., 1., 1.]])"
      ]
     },
     "execution_count": 63,
     "metadata": {},
     "output_type": "execute_result"
    },
    {
     "data": {
      "text/plain": [
       "array([[5., 5., 5.],\n",
       "       [5., 5., 5.]])"
      ]
     },
     "execution_count": 63,
     "metadata": {},
     "output_type": "execute_result"
    },
    {
     "data": {
      "text/plain": [
       "array([0., 0.])"
      ]
     },
     "execution_count": 63,
     "metadata": {},
     "output_type": "execute_result"
    },
    {
     "data": {
      "text/plain": [
       "array([1.e+000, 3.e-323])"
      ]
     },
     "execution_count": 63,
     "metadata": {},
     "output_type": "execute_result"
    },
    {
     "data": {
      "text/plain": [
       "array([0. , 0.1, 0.2, 0.3, 0.4, 0.5, 0.6, 0.7, 0.8, 0.9])"
      ]
     },
     "execution_count": 63,
     "metadata": {},
     "output_type": "execute_result"
    },
    {
     "data": {
      "text/plain": [
       "array([0. , 0.1, 0.2, 0.3, 0.4, 0.5, 0.6, 0.7, 0.8, 0.9, 1. ])"
      ]
     },
     "execution_count": 63,
     "metadata": {},
     "output_type": "execute_result"
    },
    {
     "data": {
      "text/plain": [
       "array([1, 2, 3, 4, 5, 6])"
      ]
     },
     "execution_count": 63,
     "metadata": {},
     "output_type": "execute_result"
    },
    {
     "data": {
      "text/plain": [
       "array([[1. ],\n",
       "       [1.5],\n",
       "       [2. ],\n",
       "       [2.5],\n",
       "       [3. ]])"
      ]
     },
     "execution_count": 63,
     "metadata": {},
     "output_type": "execute_result"
    }
   ],
   "source": [
    "np.ones(3)\n",
    "np.zeros(3,dtype=np.int32)\n",
    "np.ones([1,3])\n",
    "\n",
    "#点乘\n",
    "np.ones([2,3]) * 5\n",
    "\n",
    "a1 = np.empty(2)\n",
    "np.round(a1,decimals=2,out=a)\n",
    "a1[0]=1\n",
    "a1\n",
    "\n",
    "np.r_[0:1:.1]\n",
    "np.r_[0:1:11j]\n",
    "# 连接多个序列，产生数组\n",
    "np.r_[(1,2),[3,4],np.array([5,6])]\n",
    "\n",
    "#列向量\n",
    "np.c_[1:3:5j]"
   ]
  },
  {
   "cell_type": "code",
   "execution_count": null,
   "metadata": {},
   "outputs": [],
   "source": [
    "# 有时候需要在二维平面中生成一个网格，这时候可以使用 meshgrid 来完成这样的工作\n",
    "meshgrid(-1:.5:1, -1:.5:1)\n",
    "\n",
    "Numpy的 meshgrid 并不支持这样的用法，但我们可以使用 ogrid / mgrid 来实现类似这样的用法。\n",
    "ogrid 与 mgrid 的区别在于：\n",
    "    ogrid 相当于 meshgrid(indexing='ij', sparse=True)\n",
    "    mgrid 相当于 meshgrid(indexing='ij', sparse=False)\n"
   ]
  },
  {
   "cell_type": "code",
   "execution_count": 66,
   "metadata": {},
   "outputs": [
    {
     "data": {
      "text/plain": [
       "array([[-10. ,  -9.6,  -9.2,  -8.8,  -8.4,  -8. ,  -7.6,  -7.2,  -6.8,\n",
       "         -6.4,  -6. ,  -5.6,  -5.2,  -4.8,  -4.4,  -4. ,  -3.6,  -3.2,\n",
       "         -2.8,  -2.4,  -2. ,  -1.6,  -1.2,  -0.8,  -0.4,   0. ,   0.4,\n",
       "          0.8,   1.2,   1.6,   2. ,   2.4,   2.8,   3.2,   3.6,   4. ,\n",
       "          4.4,   4.8,   5.2,   5.6,   6. ,   6.4,   6.8,   7.2,   7.6,\n",
       "          8. ,   8.4,   8.8,   9.2,   9.6,  10. ]])"
      ]
     },
     "execution_count": 66,
     "metadata": {},
     "output_type": "execute_result"
    },
    {
     "data": {
      "text/plain": [
       "array([[-10. ],\n",
       "       [ -9.6],\n",
       "       [ -9.2],\n",
       "       [ -8.8],\n",
       "       [ -8.4],\n",
       "       [ -8. ],\n",
       "       [ -7.6],\n",
       "       [ -7.2],\n",
       "       [ -6.8],\n",
       "       [ -6.4],\n",
       "       [ -6. ],\n",
       "       [ -5.6],\n",
       "       [ -5.2],\n",
       "       [ -4.8],\n",
       "       [ -4.4],\n",
       "       [ -4. ],\n",
       "       [ -3.6],\n",
       "       [ -3.2],\n",
       "       [ -2.8],\n",
       "       [ -2.4],\n",
       "       [ -2. ],\n",
       "       [ -1.6],\n",
       "       [ -1.2],\n",
       "       [ -0.8],\n",
       "       [ -0.4],\n",
       "       [  0. ],\n",
       "       [  0.4],\n",
       "       [  0.8],\n",
       "       [  1.2],\n",
       "       [  1.6],\n",
       "       [  2. ],\n",
       "       [  2.4],\n",
       "       [  2.8],\n",
       "       [  3.2],\n",
       "       [  3.6],\n",
       "       [  4. ],\n",
       "       [  4.4],\n",
       "       [  4.8],\n",
       "       [  5.2],\n",
       "       [  5.6],\n",
       "       [  6. ],\n",
       "       [  6.4],\n",
       "       [  6.8],\n",
       "       [  7.2],\n",
       "       [  7.6],\n",
       "       [  8. ],\n",
       "       [  8.4],\n",
       "       [  8.8],\n",
       "       [  9.2],\n",
       "       [  9.6],\n",
       "       [ 10. ]])"
      ]
     },
     "execution_count": 66,
     "metadata": {},
     "output_type": "execute_result"
    },
    {
     "data": {
      "text/plain": [
       "array([[-10. ,  -9.6,  -9.2, ...,   9.2,   9.6,  10. ],\n",
       "       [-10. ,  -9.6,  -9.2, ...,   9.2,   9.6,  10. ],\n",
       "       [-10. ,  -9.6,  -9.2, ...,   9.2,   9.6,  10. ],\n",
       "       ...,\n",
       "       [-10. ,  -9.6,  -9.2, ...,   9.2,   9.6,  10. ],\n",
       "       [-10. ,  -9.6,  -9.2, ...,   9.2,   9.6,  10. ],\n",
       "       [-10. ,  -9.6,  -9.2, ...,   9.2,   9.6,  10. ]])"
      ]
     },
     "execution_count": 66,
     "metadata": {},
     "output_type": "execute_result"
    },
    {
     "data": {
      "text/plain": [
       "array([[-10. , -10. , -10. , ..., -10. , -10. , -10. ],\n",
       "       [ -9.6,  -9.6,  -9.6, ...,  -9.6,  -9.6,  -9.6],\n",
       "       [ -9.2,  -9.2,  -9.2, ...,  -9.2,  -9.2,  -9.2],\n",
       "       ...,\n",
       "       [  9.2,   9.2,   9.2, ...,   9.2,   9.2,   9.2],\n",
       "       [  9.6,   9.6,   9.6, ...,   9.6,   9.6,   9.6],\n",
       "       [ 10. ,  10. ,  10. , ...,  10. ,  10. ,  10. ]])"
      ]
     },
     "execution_count": 66,
     "metadata": {},
     "output_type": "execute_result"
    },
    {
     "data": {
      "text/plain": [
       "array([[-1. ],\n",
       "       [-0.5],\n",
       "       [ 0. ],\n",
       "       [ 0.5]])"
      ]
     },
     "execution_count": 66,
     "metadata": {},
     "output_type": "execute_result"
    },
    {
     "data": {
      "text/plain": [
       "array([[-1. , -0.5,  0. ,  0.5]])"
      ]
     },
     "execution_count": 66,
     "metadata": {},
     "output_type": "execute_result"
    },
    {
     "data": {
      "text/plain": [
       "array([[-1. ],\n",
       "       [-0.5],\n",
       "       [ 0. ],\n",
       "       [ 0.5],\n",
       "       [ 1. ]])"
      ]
     },
     "execution_count": 66,
     "metadata": {},
     "output_type": "execute_result"
    },
    {
     "data": {
      "text/plain": [
       "array([[-1. , -0.5,  0. ,  0.5,  1. ]])"
      ]
     },
     "execution_count": 66,
     "metadata": {},
     "output_type": "execute_result"
    }
   ],
   "source": [
    "x_ticks = np.linspace(-10, 10, 51)\n",
    "y_ticks = np.linspace(-10, 10, 51)\n",
    "\n",
    "x, y = np.meshgrid(x_ticks, y_ticks, sparse=True) #以稀疏网格来节省内存\n",
    "x\n",
    "y\n",
    "#x 对应网格的第一维，y 对应网格的第二维\n",
    "\n",
    "x1, y1 = np.meshgrid(x_ticks, y_ticks, sparse=False)\n",
    "x1\n",
    "y1\n",
    "\n",
    "x2, y2 = np.ogrid[-1:1:.5, -1:1:.5]\n",
    "x3, y3 = np.ogrid[-1:1:5j, -1:1:5j]\n",
    "x2\n",
    "y2\n",
    "x3\n",
    "y3"
   ]
  },
  {
   "cell_type": "markdown",
   "metadata": {},
   "source": [
    "# 高级筛选"
   ]
  },
  {
   "cell_type": "markdown",
   "metadata": {},
   "source": [
    "- choose筛选\n",
    "通过某一些条件去“选择”相关的元素，choose的操作会比自己使用for-if-else效率要高  \n",
    "def choose(a, choices, out=None, mode='raise'):\n",
    "\n",
    "参数 a ：它必须是一个 int 型的 数组，并且 a 中的元素，必须是0~n-1之间的数，这里的n表示的就是数组choices数组最外层的维度数。\n",
    "\n",
    "choices：表示的是要操作的数组，要注意的是choices的数组的维度是一定要和a进行匹配的，如果匹配不了，会出现错误。\n",
    "\n",
    "参数out：接收运算结果的数组，它的维度一定要和 a 是一样的，是可选参数。\n",
    "\n",
    "参数mode：默认的是raise，表示的是a数组中的元素不能超过 n ，她还有两个可选值，\n",
    "\n",
    "clip：将 a 中的 元素 如果小于0，则将其变为0，如果大于n-1，则变为n-1\n",
    "wrap：将a中的值 value变为value mod n，即值除以n的余数。\n"
   ]
  },
  {
   "cell_type": "code",
   "execution_count": 7,
   "metadata": {},
   "outputs": [
    {
     "data": {
      "text/plain": [
       "(3, 3)"
      ]
     },
     "execution_count": 7,
     "metadata": {},
     "output_type": "execute_result"
    },
    {
     "data": {
      "text/plain": [
       "array([[6, 5, 7],\n",
       "       [7, 6, 5],\n",
       "       [7, 6, 7]])"
      ]
     },
     "execution_count": 7,
     "metadata": {},
     "output_type": "execute_result"
    }
   ],
   "source": [
    "import numpy as np\n",
    "control = np.array([[1,0,2],\n",
    "                    [2,1,0],\n",
    "                    [2,1,2]])\n",
    "control.shape\n",
    "np.choose(control, [5,6,7])\n",
    "# 当a维数大于choise维数时，输出与a维数相同，6对应choise位置的所有，[1,0,2]对应choise[1],choise[0],choise[2]"
   ]
  },
  {
   "cell_type": "code",
   "execution_count": 6,
   "metadata": {},
   "outputs": [
    {
     "data": {
      "text/plain": [
       "array([[11, 10, 11],\n",
       "       [12, 11, 10],\n",
       "       [11, 12, 12]])"
      ]
     },
     "execution_count": 6,
     "metadata": {},
     "output_type": "execute_result"
    },
    {
     "name": "stdout",
     "output_type": "stream",
     "text": [
      "[444  88  66 332  31]\n"
     ]
    }
   ],
   "source": [
    "control = np.array([[1,0,1],\n",
    "                    [2,1,0],\n",
    "                    [1,2,2]])\n",
    "\n",
    "np.choose(control, [10, 11, 12])\n",
    "\n",
    "cc=np.choose([4,2,1,3,0],[[11,22,33,32,31],[44,55,66,65,64],[77,88,99,98,97],[111,222,333,332,331],[444,555,666,665,664]])\n",
    "print(cc)\n",
    "## 444对应于 choices[4,0]，88对应于choices[2,1]，66对应于choices[1,2]，332对应于choices[3,3]，31对应于choices[0,4]"
   ]
  },
  {
   "cell_type": "code",
   "execution_count": 9,
   "metadata": {},
   "outputs": [
    {
     "data": {
      "text/plain": [
       "array([[10,  1, 10],\n",
       "       [23, 10,  5],\n",
       "       [10, 27, 28]])"
      ]
     },
     "execution_count": 9,
     "metadata": {},
     "output_type": "execute_result"
    }
   ],
   "source": [
    "i0 = np.array([[0,1,2],\n",
    "               [3,4,5],\n",
    "               [6,7,8]])\n",
    "i2 = np.array([[20,21,22],\n",
    "               [23,24,25],\n",
    "               [26,27,28]])\n",
    "control = np.array([[1,0,1],\n",
    "                    [2,1,0],\n",
    "                    [1,2,2]])\n",
    "\n",
    "np.choose(control, [i0, 10, i2])\n",
    "#输出数组中相应位置选择，control中数值表示[i0, 10, i2]的索引值，control中的[2,1,0]数值表示a[1][0]是control[2]中的i2[1][0]"
   ]
  },
  {
   "cell_type": "code",
   "execution_count": 19,
   "metadata": {},
   "outputs": [
    {
     "data": {
      "text/plain": [
       "array([[False, False, False],\n",
       "       [False, False, False],\n",
       "       [ True, False,  True]])"
      ]
     },
     "execution_count": 19,
     "metadata": {},
     "output_type": "execute_result"
    },
    {
     "data": {
      "text/plain": [
       "array([[  0, 100,  25],\n",
       "       [ 10,  11, 112],\n",
       "       [200,  21, 200]])"
      ]
     },
     "execution_count": 19,
     "metadata": {},
     "output_type": "execute_result"
    },
    {
     "data": {
      "text/plain": [
       "array([[  0, 100,  25],\n",
       "       [ 10,  11, 112],\n",
       "       [200,  21, 200]])"
      ]
     },
     "execution_count": 19,
     "metadata": {},
     "output_type": "execute_result"
    },
    {
     "data": {
      "text/plain": [
       "array([[ True, False, False],\n",
       "       [ True, False, False],\n",
       "       [False, False, False]])"
      ]
     },
     "execution_count": 19,
     "metadata": {},
     "output_type": "execute_result"
    },
    {
     "data": {
      "text/plain": [
       "array([[False, False, False],\n",
       "       [False, False,  True],\n",
       "       [ True, False,  True]])"
      ]
     },
     "execution_count": 19,
     "metadata": {},
     "output_type": "execute_result"
    },
    {
     "data": {
      "text/plain": [
       "array([[1, 0, 0],\n",
       "       [1, 0, 2],\n",
       "       [2, 0, 2]])"
      ]
     },
     "execution_count": 19,
     "metadata": {},
     "output_type": "execute_result"
    },
    {
     "data": {
      "text/plain": [
       "array([[ 11, 100,  25],\n",
       "       [ 11,  11, 100],\n",
       "       [100,  21, 100]])"
      ]
     },
     "execution_count": 19,
     "metadata": {},
     "output_type": "execute_result"
    }
   ],
   "source": [
    "a = np.array([[ 0, 100, 25], \n",
    "              [10,11,112], \n",
    "              [201,21,221]])\n",
    "a>200\n",
    "np.choose(a>200,(a,200))\n",
    "np.choose(a>200,[a,200])\n",
    "\n",
    "#将数组中所有小于10的值变成了11，大于100的值变成了100\n",
    "lt = a < 11\n",
    "gt = a > 100\n",
    "lt\n",
    "gt\n",
    "choise = lt +2*gt\n",
    "choise\n",
    "np.choose(choise,[a,11,100])"
   ]
  },
  {
   "cell_type": "markdown",
   "metadata": {},
   "source": [
    "# 矩阵\n",
    "## 创建矩阵"
   ]
  },
  {
   "cell_type": "code",
   "execution_count": 4,
   "metadata": {},
   "outputs": [
    {
     "data": {
      "text/plain": [
       "matrix([[1, 2, 3],\n",
       "        [4, 5, 6],\n",
       "        [7, 8, 9]])"
      ]
     },
     "execution_count": 4,
     "metadata": {},
     "output_type": "execute_result"
    },
    {
     "data": {
      "text/plain": [
       "dtype('int64')"
      ]
     },
     "execution_count": 4,
     "metadata": {},
     "output_type": "execute_result"
    },
    {
     "data": {
      "text/plain": [
       "matrix([[1, 2, 5, 6],\n",
       "        [3, 4, 7, 8],\n",
       "        [5, 6, 1, 2],\n",
       "        [7, 8, 3, 4]])"
      ]
     },
     "execution_count": 4,
     "metadata": {},
     "output_type": "execute_result"
    },
    {
     "data": {
      "text/plain": [
       "matrix([[1, 2, 4],\n",
       "        [2, 5, 3],\n",
       "        [7, 8, 9]])"
      ]
     },
     "execution_count": 4,
     "metadata": {},
     "output_type": "execute_result"
    },
    {
     "data": {
      "text/plain": [
       "dtype('int64')"
      ]
     },
     "execution_count": 4,
     "metadata": {},
     "output_type": "execute_result"
    },
    {
     "data": {
      "text/plain": [
       "72"
      ]
     },
     "execution_count": 4,
     "metadata": {},
     "output_type": "execute_result"
    },
    {
     "data": {
      "text/plain": [
       "matrix([[1, 2, 5, 6],\n",
       "        [3, 4, 7, 8],\n",
       "        [5, 6, 1, 2],\n",
       "        [7, 8, 3, 4]])"
      ]
     },
     "execution_count": 4,
     "metadata": {},
     "output_type": "execute_result"
    },
    {
     "name": "stdout",
     "output_type": "stream",
     "text": [
      "matrix([[1, 2],\n",
      "        [3, 4]])\n"
     ]
    }
   ],
   "source": [
    "import numpy as np\n",
    "# 使用 Matlab 的语法传入一个字符串来生成矩阵\n",
    "m1 = np.mat('1,2,3;4,5,6;7,8,9') #单引号不能省略\n",
    "m1\n",
    "m1.dtype\n",
    "\n",
    "#使用分块矩阵构建新矩阵\n",
    "m3 = np.mat('1,2;3,4')\n",
    "m4 = np.mat('5,6;7,8')\n",
    "\n",
    "m5 = np.bmat('m3,m4;m4,m3')\n",
    "m5\n",
    "\n",
    "#利用数组构造新矩阵\n",
    "a = np.array([[1,2,4],\n",
    "              [2,5,3], \n",
    "              [7,8,9]])\n",
    "m2 = np.mat(a)\n",
    "m2\n",
    "m2.dtype\n",
    "m2.nbytes\n",
    "m6 = np.bmat([[m3,m4],[m4,m3]])\n",
    "m6\n",
    "\n",
    "A = np.matrix(\"[1, 2; 3, 4]\")\n",
    "print(repr(A))"
   ]
  },
  {
   "cell_type": "markdown",
   "metadata": {},
   "source": [
    "## 矩阵乘法"
   ]
  },
  {
   "cell_type": "markdown",
   "metadata": {},
   "source": [
    "矩阵 $\\mathbf{A}$ 的逆 $\\mathbf{B}$ 满足：$\\mathbf{BA}=\\mathbf{AB}=I$，记作 $\\mathbf{B} = \\mathbf{A}^{-1}$。\n",
    "\n",
    "事实上，我们已经见过求逆的操作，`linalg.inv`"
   ]
  },
  {
   "cell_type": "code",
   "execution_count": 6,
   "metadata": {},
   "outputs": [
    {
     "data": {
      "text/plain": [
       "(3, 1)"
      ]
     },
     "execution_count": 6,
     "metadata": {},
     "output_type": "execute_result"
    },
    {
     "data": {
      "text/plain": [
       "matrix([[14],\n",
       "        [32],\n",
       "        [50]])"
      ]
     },
     "execution_count": 6,
     "metadata": {},
     "output_type": "execute_result"
    },
    {
     "name": "stdout",
     "output_type": "stream",
     "text": [
      "matrix([[-2. ,  1. ],\n",
      "        [ 1.5, -0.5]])\n",
      "matrix([[1, 3],\n",
      "        [2, 4]])\n"
     ]
    },
    {
     "data": {
      "text/plain": [
       "matrix([[1, 2, 3],\n",
       "        [4, 5, 6],\n",
       "        [7, 8, 9]])"
      ]
     },
     "execution_count": 6,
     "metadata": {},
     "output_type": "execute_result"
    },
    {
     "ename": "LinAlgError",
     "evalue": "Singular matrix",
     "output_type": "error",
     "traceback": [
      "\u001b[0;31m---------------------------------------------------------------------------\u001b[0m",
      "\u001b[0;31mLinAlgError\u001b[0m                               Traceback (most recent call last)",
      "\u001b[0;32m<ipython-input-6-1e88da708c05>\u001b[0m in \u001b[0;36m<module>\u001b[0;34m\u001b[0m\n\u001b[1;32m     10\u001b[0m \u001b[0;31m#A.I 表示 A 矩阵的逆矩阵：\u001b[0m\u001b[0;34m\u001b[0m\u001b[0;34m\u001b[0m\u001b[0;34m\u001b[0m\u001b[0m\n\u001b[1;32m     11\u001b[0m \u001b[0mm1\u001b[0m\u001b[0;34m\u001b[0m\u001b[0;34m\u001b[0m\u001b[0m\n\u001b[0;32m---> 12\u001b[0;31m \u001b[0mm1\u001b[0m\u001b[0;34m.\u001b[0m\u001b[0mI\u001b[0m \u001b[0;31m#Singular matrix error\u001b[0m\u001b[0;34m\u001b[0m\u001b[0;34m\u001b[0m\u001b[0m\n\u001b[0m\u001b[1;32m     13\u001b[0m \u001b[0;31m#print(m1 * m1.I)\u001b[0m\u001b[0;34m\u001b[0m\u001b[0;34m\u001b[0m\u001b[0;34m\u001b[0m\u001b[0m\n",
      "\u001b[0;32m/opt/anaconda3/lib/python3.7/site-packages/numpy/matrixlib/defmatrix.py\u001b[0m in \u001b[0;36mgetI\u001b[0;34m(self)\u001b[0m\n\u001b[1;32m    834\u001b[0m         \u001b[0;32melse\u001b[0m\u001b[0;34m:\u001b[0m\u001b[0;34m\u001b[0m\u001b[0;34m\u001b[0m\u001b[0m\n\u001b[1;32m    835\u001b[0m             \u001b[0;32mfrom\u001b[0m \u001b[0mnumpy\u001b[0m\u001b[0;34m.\u001b[0m\u001b[0mdual\u001b[0m \u001b[0;32mimport\u001b[0m \u001b[0mpinv\u001b[0m \u001b[0;32mas\u001b[0m \u001b[0mfunc\u001b[0m\u001b[0;34m\u001b[0m\u001b[0;34m\u001b[0m\u001b[0m\n\u001b[0;32m--> 836\u001b[0;31m         \u001b[0;32mreturn\u001b[0m \u001b[0masmatrix\u001b[0m\u001b[0;34m(\u001b[0m\u001b[0mfunc\u001b[0m\u001b[0;34m(\u001b[0m\u001b[0mself\u001b[0m\u001b[0;34m)\u001b[0m\u001b[0;34m)\u001b[0m\u001b[0;34m\u001b[0m\u001b[0;34m\u001b[0m\u001b[0m\n\u001b[0m\u001b[1;32m    837\u001b[0m \u001b[0;34m\u001b[0m\u001b[0m\n\u001b[1;32m    838\u001b[0m     \u001b[0;32mdef\u001b[0m \u001b[0mgetA\u001b[0m\u001b[0;34m(\u001b[0m\u001b[0mself\u001b[0m\u001b[0;34m)\u001b[0m\u001b[0;34m:\u001b[0m\u001b[0;34m\u001b[0m\u001b[0;34m\u001b[0m\u001b[0m\n",
      "\u001b[0;32m/opt/anaconda3/lib/python3.7/site-packages/numpy/linalg/linalg.py\u001b[0m in \u001b[0;36minv\u001b[0;34m(a)\u001b[0m\n\u001b[1;32m    549\u001b[0m     \u001b[0msignature\u001b[0m \u001b[0;34m=\u001b[0m \u001b[0;34m'D->D'\u001b[0m \u001b[0;32mif\u001b[0m \u001b[0misComplexType\u001b[0m\u001b[0;34m(\u001b[0m\u001b[0mt\u001b[0m\u001b[0;34m)\u001b[0m \u001b[0;32melse\u001b[0m \u001b[0;34m'd->d'\u001b[0m\u001b[0;34m\u001b[0m\u001b[0;34m\u001b[0m\u001b[0m\n\u001b[1;32m    550\u001b[0m     \u001b[0mextobj\u001b[0m \u001b[0;34m=\u001b[0m \u001b[0mget_linalg_error_extobj\u001b[0m\u001b[0;34m(\u001b[0m\u001b[0m_raise_linalgerror_singular\u001b[0m\u001b[0;34m)\u001b[0m\u001b[0;34m\u001b[0m\u001b[0;34m\u001b[0m\u001b[0m\n\u001b[0;32m--> 551\u001b[0;31m     \u001b[0mainv\u001b[0m \u001b[0;34m=\u001b[0m \u001b[0m_umath_linalg\u001b[0m\u001b[0;34m.\u001b[0m\u001b[0minv\u001b[0m\u001b[0;34m(\u001b[0m\u001b[0ma\u001b[0m\u001b[0;34m,\u001b[0m \u001b[0msignature\u001b[0m\u001b[0;34m=\u001b[0m\u001b[0msignature\u001b[0m\u001b[0;34m,\u001b[0m \u001b[0mextobj\u001b[0m\u001b[0;34m=\u001b[0m\u001b[0mextobj\u001b[0m\u001b[0;34m)\u001b[0m\u001b[0;34m\u001b[0m\u001b[0;34m\u001b[0m\u001b[0m\n\u001b[0m\u001b[1;32m    552\u001b[0m     \u001b[0;32mreturn\u001b[0m \u001b[0mwrap\u001b[0m\u001b[0;34m(\u001b[0m\u001b[0mainv\u001b[0m\u001b[0;34m.\u001b[0m\u001b[0mastype\u001b[0m\u001b[0;34m(\u001b[0m\u001b[0mresult_t\u001b[0m\u001b[0;34m,\u001b[0m \u001b[0mcopy\u001b[0m\u001b[0;34m=\u001b[0m\u001b[0;32mFalse\u001b[0m\u001b[0;34m)\u001b[0m\u001b[0;34m)\u001b[0m\u001b[0;34m\u001b[0m\u001b[0;34m\u001b[0m\u001b[0m\n\u001b[1;32m    553\u001b[0m \u001b[0;34m\u001b[0m\u001b[0m\n",
      "\u001b[0;32m/opt/anaconda3/lib/python3.7/site-packages/numpy/linalg/linalg.py\u001b[0m in \u001b[0;36m_raise_linalgerror_singular\u001b[0;34m(err, flag)\u001b[0m\n\u001b[1;32m     95\u001b[0m \u001b[0;34m\u001b[0m\u001b[0m\n\u001b[1;32m     96\u001b[0m \u001b[0;32mdef\u001b[0m \u001b[0m_raise_linalgerror_singular\u001b[0m\u001b[0;34m(\u001b[0m\u001b[0merr\u001b[0m\u001b[0;34m,\u001b[0m \u001b[0mflag\u001b[0m\u001b[0;34m)\u001b[0m\u001b[0;34m:\u001b[0m\u001b[0;34m\u001b[0m\u001b[0;34m\u001b[0m\u001b[0m\n\u001b[0;32m---> 97\u001b[0;31m     \u001b[0;32mraise\u001b[0m \u001b[0mLinAlgError\u001b[0m\u001b[0;34m(\u001b[0m\u001b[0;34m\"Singular matrix\"\u001b[0m\u001b[0;34m)\u001b[0m\u001b[0;34m\u001b[0m\u001b[0;34m\u001b[0m\u001b[0m\n\u001b[0m\u001b[1;32m     98\u001b[0m \u001b[0;34m\u001b[0m\u001b[0m\n\u001b[1;32m     99\u001b[0m \u001b[0;32mdef\u001b[0m \u001b[0m_raise_linalgerror_nonposdef\u001b[0m\u001b[0;34m(\u001b[0m\u001b[0merr\u001b[0m\u001b[0;34m,\u001b[0m \u001b[0mflag\u001b[0m\u001b[0;34m)\u001b[0m\u001b[0;34m:\u001b[0m\u001b[0;34m\u001b[0m\u001b[0;34m\u001b[0m\u001b[0m\n",
      "\u001b[0;31mLinAlgError\u001b[0m: Singular matrix"
     ]
    }
   ],
   "source": [
    "#矩阵与向量乘法\n",
    "v = np.array([[1], [2], [3]])\n",
    "v.shape\n",
    "m1 * v\n",
    "\n",
    "\n",
    "print(repr(A.I))\n",
    "print(repr(A.T))\n",
    "\n",
    "#A.I 表示 A 矩阵的逆矩阵：\n",
    "m1\n",
    "m1.I #Singular matrix error\n",
    "#print(m1 * m1.I)"
   ]
  },
  {
   "cell_type": "markdown",
   "metadata": {},
   "source": [
    "线性代数的基本操作对象是矩阵，而矩阵的表示方法主要有两种：numpy.matrix 和 2D numpy.ndarray。\n",
    "numpy.matrix 是一个矩阵类，提供了一些方便的矩阵操作：\n",
    "\n",
    "    支持类似 MATLAB 创建矩阵的语法\n",
    "    矩阵乘法默认用 * 号\n",
    "    .I 表示逆，.T 表示转置\n",
    "\n",
    "可以用 mat 或者 matrix 来产生矩阵：  \n",
    "\n",
    "numpy.matrix 有着上面的好处，但是一般不建议使用，而是用 2 维 numpy.ndarray 对象替代，这样可以避免一些不必要的困惑  "
   ]
  },
  {
   "cell_type": "markdown",
   "metadata": {},
   "source": [
    "注意：数组的一维shape为（m）或者（m，）  \n",
    "列向量的shape为（m，1）  \n",
    "一维数组的打印为单方括号，向量的打印为双方括号  \n",
    "下面X为列向量，b为一维数组  "
   ]
  },
  {
   "cell_type": "code",
   "execution_count": 22,
   "metadata": {},
   "outputs": [
    {
     "name": "stdout",
     "output_type": "stream",
     "text": [
      "array([[1, 2],\n",
      "       [3, 4]])\n",
      "array([[5],\n",
      "       [6]])\n",
      "[[17]\n",
      " [39]]\n",
      "array([[17],\n",
      "       [39]])\n",
      "array([[1, 3],\n",
      "       [2, 4]])\n",
      "array([[-2. ,  1. ],\n",
      "       [ 1.5, -0.5]])\n"
     ]
    },
    {
     "data": {
      "text/plain": [
       "(2, 2)"
      ]
     },
     "execution_count": 22,
     "metadata": {},
     "output_type": "execute_result"
    },
    {
     "data": {
      "text/plain": [
       "(2, 1)"
      ]
     },
     "execution_count": 22,
     "metadata": {},
     "output_type": "execute_result"
    },
    {
     "data": {
      "text/plain": [
       "(2,)"
      ]
     },
     "execution_count": 22,
     "metadata": {},
     "output_type": "execute_result"
    },
    {
     "name": "stdout",
     "output_type": "stream",
     "text": [
      "array([5, 6])\n",
      "[17 39]\n",
      "array([[ 5, 12],\n",
      "       [15, 24]])\n"
     ]
    }
   ],
   "source": [
    "A = np.array([[1,2],[3,4]])\n",
    "X = np.array([[5],[6]])\n",
    "print(repr(A))\n",
    "print(repr(X))\n",
    "print(np.dot(A,X))\n",
    "print(repr(A.dot(X)))\n",
    "print(repr(A.T))\n",
    "print(repr(np.linalg.inv(A))) #求逆\n",
    "A.shape\n",
    "X.shape\n",
    "b = np.array([5, 6])\n",
    "b.shape\n",
    "print(repr(b))\n",
    "print(A.dot(b))   #矩阵乘法\n",
    "\n",
    "print(repr(A * b)) #普通乘法"
   ]
  },
  {
   "cell_type": "markdown",
   "metadata": {},
   "source": [
    "## 行列式\n",
    "$$\n",
    "\\left|\\mathbf{A}\\right|=\\sum_{j}\\left(-1\\right)^{i+j}a_{ij}M_{ij}.\n",
    "$$"
   ]
  },
  {
   "cell_type": "code",
   "execution_count": 25,
   "metadata": {},
   "outputs": [
    {
     "name": "stdout",
     "output_type": "stream",
     "text": [
      "0.0\n",
      "2\n"
     ]
    }
   ],
   "source": [
    "A1 = np.array([[1, 2, 3],\n",
    "              [4, 5, 6],\n",
    "              [7, 8, 9]])\n",
    "\n",
    "print(np.linalg.det(A1))\n",
    "\n",
    "# 求矩阵的秩\n",
    "print(np.linalg.matrix_rank(A1))\n"
   ]
  },
  {
   "cell_type": "markdown",
   "metadata": {},
   "source": [
    "# 矩阵模"
   ]
  },
  {
   "cell_type": "markdown",
   "metadata": {},
   "source": [
    "矩阵的模定义如下：\n",
    "$$\n",
    "\\begin{split}\\left\\Vert \\mathbf{A}\\right\\Vert =\\left\\{ \\begin{array}{cc} \\max_{i}\\sum_{j}\\left|a_{ij}\\right| & \\textrm{ord}=\\textrm{inf}\\\\ \\min_{i}\\sum_{j}\\left|a_{ij}\\right| & \\textrm{ord}=-\\textrm{inf}\\\\ \\max_{j}\\sum_{i}\\left|a_{ij}\\right| & \\textrm{ord}=1\\\\ \\min_{j}\\sum_{i}\\left|a_{ij}\\right| & \\textrm{ord}=-1\\\\ \\max\\sigma_{i} & \\textrm{ord}=2\\\\ \\min\\sigma_{i} & \\textrm{ord}=-2\\\\ \\sqrt{\\textrm{trace}\\left(\\mathbf{A}^{H}\\mathbf{A}\\right)} & \\textrm{ord}=\\textrm{'fro'}\\end{array}\\right.\\end{split}\n",
    "$$\n",
    "其中，$\\sigma_i$ 是矩阵的奇异值。  \n",
    "1-范数是所有矩阵列向量绝对值之和的最大值，matlab调用函数norm(A, 1)  \n",
    "2-范数是A'A矩阵的最大特征值的开平方。matlab调用函数norm(x, 2)  \n",
    "正无穷-范数是所有矩阵行向量绝对值之和的最大值，matlab调用函数norm(A, inf)  \n",
    "\n",
    "\n",
    "向量的模定义如下：\n",
    "$$\n",
    "\\begin{split}\\left\\Vert \\mathbf{x}\\right\\Vert =\\left\\{ \\begin{array}{cc} \\max\\left|x_{i}\\right| & \\textrm{ord}=\\textrm{inf}\\\\ \\min\\left|x_{i}\\right| & \\textrm{ord}=-\\textrm{inf}\\\\ \\left(\\sum_{i}\\left|x_{i}\\right|^{\\textrm{ord}}\\right)^{1/\\textrm{ord}} & \\left|\\textrm{ord}\\right|<\\infty.\\end{array}\\right.\\end{split}\n",
    "$$\n",
    "\n",
    "向量范数\n",
    "一维范式是向量元素绝对值之和  \n",
    "二维范数是Euclid范数（欧几里得范数，常用计算向量长度），即向量元素绝对值的平方和再开方    \n",
    "正无穷范数是所有向量元素绝对值中的最大值，matlab调用函数norm(x, inf)  \n",
    "负无穷范数是所有向量元素绝对值中的最小值，matlab调用函数norm(x, -inf)  \n",
    "p范数是向量元素绝对值的p次方和的1/p次幂，matlab调用函数norm(x, p)\n",
    "`linalg.norm` 可以计算向量或者矩阵的模："
   ]
  },
  {
   "cell_type": "code",
   "execution_count": 27,
   "metadata": {},
   "outputs": [
    {
     "data": {
      "text/plain": [
       "5.477225575051661"
      ]
     },
     "execution_count": 27,
     "metadata": {},
     "output_type": "execute_result"
    },
    {
     "data": {
      "text/plain": [
       "5.477225575051661"
      ]
     },
     "execution_count": 27,
     "metadata": {},
     "output_type": "execute_result"
    },
    {
     "data": {
      "text/plain": [
       "6.0"
      ]
     },
     "execution_count": 27,
     "metadata": {},
     "output_type": "execute_result"
    },
    {
     "data": {
      "text/plain": [
       "4.0"
      ]
     },
     "execution_count": 27,
     "metadata": {},
     "output_type": "execute_result"
    },
    {
     "data": {
      "text/plain": [
       "7.0"
      ]
     },
     "execution_count": 27,
     "metadata": {},
     "output_type": "execute_result"
    }
   ],
   "source": [
    "from scipy import linalg\n",
    "A = np.array([[1, 2],\n",
    "              [3, 4]])\n",
    "\n",
    "linalg.norm(A)\n",
    "\n",
    "linalg.norm(A,'fro') # frobenius norm 默认值\n",
    "\n",
    "linalg.norm(A,1) # L1 norm 最大列和\n",
    "\n",
    "linalg.norm(A,-1) # L -1 norm 最小列和\n",
    "\n",
    "linalg.norm(A,np.inf) # L inf norm 最大行和"
   ]
  },
  {
   "cell_type": "markdown",
   "metadata": {},
   "source": [
    "# 向量"
   ]
  },
  {
   "cell_type": "markdown",
   "metadata": {},
   "source": [
    "## 向量化函数"
   ]
  },
  {
   "cell_type": "code",
   "execution_count": 89,
   "metadata": {},
   "outputs": [],
   "source": [
    "#自定义sinc函数\n",
    "import numpy as np\n",
    "\n",
    "def sinc(x):\n",
    "    if x == 0.0:\n",
    "        return 1.0\n",
    "    else:\n",
    "        w = np.pi * x\n",
    "        return np.sin(w) / w"
   ]
  },
  {
   "cell_type": "code",
   "execution_count": 95,
   "metadata": {},
   "outputs": [
    {
     "data": {
      "text/plain": [
       "1.0"
      ]
     },
     "execution_count": 95,
     "metadata": {},
     "output_type": "execute_result"
    },
    {
     "data": {
      "text/plain": [
       "-0.04316234326034824"
      ]
     },
     "execution_count": 95,
     "metadata": {},
     "output_type": "execute_result"
    },
    {
     "data": {
      "text/plain": [
       "array([ 3.89817183e-17, -3.89817183e-17,  3.89817183e-17])"
      ]
     },
     "execution_count": 95,
     "metadata": {},
     "output_type": "execute_result"
    }
   ],
   "source": [
    "sinc(0)\n",
    "sinc(3.14)\n",
    "x=np.array([1,2,5])\n",
    "#  sinc(x) #The truth value of an array with more than one element is ambiguous\n",
    "\n",
    "#vectorize作用是为 x 中的每一个值调用 sinc 函数,但是这样的用法涉及大量的函数调用，因此，向量化函数的效率并不高\n",
    "vsinc = np.vectorize(sinc)\n",
    "vsinc(x)"
   ]
  },
  {
   "cell_type": "code",
   "execution_count": 96,
   "metadata": {},
   "outputs": [
    {
     "data": {
      "text/plain": [
       "[<matplotlib.lines.Line2D at 0x7f4ef4df7780>]"
      ]
     },
     "execution_count": 96,
     "metadata": {},
     "output_type": "execute_result"
    },
    {
     "data": {
      "image/png": "[encoded data removed]",
      "text/plain": [
       "<Figure size 432x288 with 1 Axes>"
      ]
     },
     "metadata": {
      "needs_background": "light"
     },
     "output_type": "display_data"
    }
   ],
   "source": [
    "import matplotlib.pyplot as plt\n",
    "%matplotlib inline\n",
    "\n",
    "x = np.linspace(-5,5,101)\n",
    "plt.plot(x, vsinc(x))"
   ]
  },
  {
   "cell_type": "markdown",
   "metadata": {},
   "source": [
    "# 复杂数据类型"
   ]
  },
  {
   "cell_type": "markdown",
   "metadata": {},
   "source": [
    "假设我们要保存这样的数据：\n",
    "\n",
    "|name|age|wgt\n",
    "--|--|--|--\n",
    "0|dan|1|23.1\n",
    "1|ann|0|25.1\n",
    "2|sam|2|8.3\n",
    "\n",
    "希望定义一个一维数组，每个元素有三个属性 `name, age, wgt`，此时我们需要使用结构化数组。\n",
    "定义数组 `a`：\n",
    "\n",
    "0|1|2|3\n",
    "-|-|-|-\n",
    "1.0|2.0|3.0|4.0"
   ]
  },
  {
   "cell_type": "code",
   "execution_count": 64,
   "metadata": {},
   "outputs": [
    {
     "data": {
      "text/plain": [
       "array([1., 2., 3., 4.], dtype=float32)"
      ]
     },
     "execution_count": 64,
     "metadata": {},
     "output_type": "execute_result"
    },
    {
     "data": {
      "text/plain": [
       "array([1.+2.j, 3.+4.j], dtype=complex64)"
      ]
     },
     "execution_count": 64,
     "metadata": {},
     "output_type": "execute_result"
    }
   ],
   "source": [
    "ａ = np.array([1,2,3,4],dtype=np.float32) #此处类型float32变为float64，结果将不一样\n",
    "a\n",
    "\n",
    "#使用 view 方法，将 a 对应的内存按照复数来解释：\n",
    "a.view(dtype=np.complex64)\n"
   ]
  },
  {
   "cell_type": "markdown",
   "metadata": {},
   "source": [
    "0|1|2|3\n",
    "-|-|-|-\n",
    "1.0|2.0|3.0|4.0\n",
    "real|imag|real|imag\n",
    "\n",
    "事实上，我们可以把复数看成一个结构体，第一部分是实部，第二部分是虚部，这样这个数组便可以看成是一个结构化数组。\n",
    "\n",
    "换句话说，我们只需要换种方式解释这段内存，便可以得到结构化数组的效果！\n",
    "\n",
    "0|1|2|3\n",
    "-|-|-|-\n",
    "1.0|2.0|3.0|4.0\n",
    "mass|vol|mass|vol\n",
    "\n",
    "例如，我们可以将第一个浮点数解释为质量，第二个浮点数解释为速度，则这段内存还可以看成是包含两个域（质量和速度）的结构体。\n",
    "\n",
    "使用 dtype 创造了自定义的结构类型，然后用自定义的结构来解释数组 a 所占的内存。\n",
    "\n",
    "这里 f4 表示四字节浮点数，< 表示小字节序。"
   ]
  },
  {
   "cell_type": "code",
   "execution_count": 68,
   "metadata": {},
   "outputs": [
    {
     "data": {
      "text/plain": [
       "array([1., 2., 3., 4.], dtype=float32)"
      ]
     },
     "execution_count": 68,
     "metadata": {},
     "output_type": "execute_result"
    },
    {
     "data": {
      "text/plain": [
       "dtype([('mass', '<f4'), ('vol', '<f4')])"
      ]
     },
     "execution_count": 68,
     "metadata": {},
     "output_type": "execute_result"
    },
    {
     "data": {
      "text/plain": [
       "array([(1., 2.), (3., 4.)], dtype=[('mass', '<f4'), ('vol', '<f4')])"
      ]
     },
     "execution_count": 68,
     "metadata": {},
     "output_type": "execute_result"
    }
   ],
   "source": [
    "my_dtype = np.dtype([('mass', 'float32'), ('vol', 'float32')])\n",
    "a\n",
    "my_dtype\n",
    "a.view(my_dtype)\n",
    "\n",
    "my_data = np.array([(1,1), (1,2), (2,1), (1,3)], my_dtype)\n",
    "\n",
    "print(my_data)\n",
    "my_data[0]\n",
    "my_data[1]['mass']\n",
    "my_data[1]['vol']\n",
    "\n",
    "#自定义排序规则，先按速度，再按质量：\n",
    "#my_data = np.sort(my_data,order=('vol', 'mass'),)\n",
    "my_data.sort(order=('vol', 'mass'))\n",
    "print(my_data)"
   ]
  },
  {
   "cell_type": "code",
   "execution_count": null,
   "metadata": {},
   "outputs": [],
   "source": []
  },
  {
   "cell_type": "code",
   "execution_count": 88,
   "metadata": {},
   "outputs": [
    {
     "name": "stdout",
     "output_type": "stream",
     "text": [
      "[(b'jame', 23, 57.) (b'jonson', 30, 75.) (b'hame', 29, 65.)]\n",
      "[[(b'Brad', 33, 135.) (b'Jane', 25, 105.) (b'John', 47, 255.)\n",
      "  (b'Fred', 54, 140.)]\n",
      " [(b'Henry', 29, 154.) (b'George', 61, 202.) (b'Brain', 32, 137.)\n",
      "  (b'Amy', 27, 187.)]\n",
      " [(b'Ron', 19, 188.) (b'Susan', 33, 135.) (b'Jennife', 18,  88.)\n",
      "  (b'Jill', 54, 145.)]]\n"
     ]
    },
    {
     "data": {
      "text/plain": [
       "(b'Jill', 54, 145.)"
      ]
     },
     "execution_count": 88,
     "metadata": {},
     "output_type": "execute_result"
    }
   ],
   "source": [
    "person_dtype = np.dtype([('name', 'S10'), ('age', 'int'), ('weight', 'float')])\n",
    "#person = np.array([['jame',23,57],['jonson',30,75],['hame',29,65]],dtype=person_dtype) #注意类型，参数二维数组错误\n",
    "person = np.array([('jame',23,57),('jonson',30,75),('hame',29,65)],dtype=person_dtype)\n",
    "print(person)\n",
    "\n",
    "# 产生一个 3 x 4 共12人的空结构体数组：\n",
    "people = np.empty((3,4),dtype=person_dtype)\n",
    "people['name'] = [['Brad', 'Jane', 'John', 'Fred'],\n",
    "                  ['Henry', 'George', 'Brain', 'Amy'],\n",
    "                  ['Ron', 'Susan', 'Jennife', 'Jill']]\n",
    "people['age'] = [[33, 25, 47, 54],\n",
    "                 [29, 61, 32, 27],\n",
    "                 [19, 33, 18, 54]]\n",
    "people['weight'] = [[135., 105., 255., 140.],\n",
    "                    [154., 202., 137., 187.],\n",
    "                    [188., 135., 88., 145.]]\n",
    "print(people)\n",
    "people[-1,-1]"
   ]
  },
  {
   "cell_type": "markdown",
   "metadata": {},
   "source": [
    "# 输入输出"
   ]
  },
  {
   "cell_type": "code",
   "execution_count": 90,
   "metadata": {},
   "outputs": [
    {
     "name": "stdout",
     "output_type": "stream",
     "text": [
      "Writing people.txt\n"
     ]
    }
   ],
   "source": [
    "%%writefile people.txt\n",
    "name age weight\n",
    "amy 11 38.2\n",
    "john 10 40.3\n",
    "bill 12 21.2"
   ]
  },
  {
   "cell_type": "code",
   "execution_count": 95,
   "metadata": {},
   "outputs": [
    {
     "name": "stdout",
     "output_type": "stream",
     "text": [
      "[(b'amy', 11, 38.2) (b'john', 10, 40.3) (b'bill', 12, 21.2)]\n"
     ]
    },
    {
     "data": {
      "text/plain": [
       "array([b'amy', b'john', b'bill'], dtype='|S10')"
      ]
     },
     "execution_count": 95,
     "metadata": {},
     "output_type": "execute_result"
    }
   ],
   "source": [
    "data = np.loadtxt('people.txt',skiprows=1,dtype=person_dtype)\n",
    "print(data)\n",
    "data['name']"
   ]
  },
  {
   "cell_type": "code",
   "execution_count": 96,
   "metadata": {},
   "outputs": [],
   "source": [
    "import os\n",
    "os.remove('people.txt')"
   ]
  },
  {
   "cell_type": "code",
   "execution_count": 103,
   "metadata": {},
   "outputs": [
    {
     "name": "stdout",
     "output_type": "stream",
     "text": [
      "Writing wood.txt\n"
     ]
    }
   ],
   "source": [
    "%%writefile wood.txt\n",
    "item,material,number\n",
    "100,oak,33\n",
    "110,maple,14\n",
    "120,oak,7\n",
    "145,birch,3"
   ]
  },
  {
   "cell_type": "code",
   "execution_count": 108,
   "metadata": {},
   "outputs": [
    {
     "data": {
      "text/plain": [
       "array([(100, b'oak', 33), (110, b'maple', 14), (120, b'oak',  7),\n",
       "       (145, b'birch',  3)],\n",
       "      dtype=[('item', '<i8'), ('material', 'S10'), ('number', '<i8')])"
      ]
     },
     "execution_count": 108,
     "metadata": {},
     "output_type": "execute_result"
    }
   ],
   "source": [
    "wood_type = np.dtype([('item',np.int),('material','S10'),('number','int')])\n",
    "wood = np.loadtxt('wood.csv',dtype=wood_type,delimiter=',',skiprows=1)\n",
    "wood"
   ]
  },
  {
   "cell_type": "code",
   "execution_count": 120,
   "metadata": {},
   "outputs": [
    {
     "data": {
      "text/plain": [
       "1"
      ]
     },
     "execution_count": 120,
     "metadata": {},
     "output_type": "execute_result"
    },
    {
     "data": {
      "text/plain": [
       "array([(100, 0, 33), (110, 0, 14), (120, 0,  7), (145, 0,  3)],\n",
       "      dtype=[('item', '<i8'), ('material', '<i8'), ('number', '<i8')])"
      ]
     },
     "execution_count": 120,
     "metadata": {},
     "output_type": "execute_result"
    }
   ],
   "source": [
    "tree_to_int = dict(oak = 1,\n",
    "                   maple=2,\n",
    "                   birch=3)\n",
    "tree_to_int.get('oak')\n",
    "def convert(s):\n",
    "    return tree_to_int.get(s,0) #默认值为０\n",
    "\n",
    "# 使用 genfromtxt 载入数据，可以自动从第一行读入属性名称\n",
    "wood_data = np.genfromtxt('wood.csv',delimiter=',', # 逗号分隔\n",
    "                     dtype=np.int, # 数据类型\n",
    "                     names=True,   # 从第一行读入域名\n",
    "                     converters={1:convert})\n",
    "wood_data"
   ]
  },
  {
   "cell_type": "code",
   "execution_count": 122,
   "metadata": {},
   "outputs": [
    {
     "name": "stdout",
     "output_type": "stream",
     "text": [
      "[(100, 0, 33) (110, 0, 14) (120, 0,  7) (145, 0,  3)]\n"
     ]
    }
   ],
   "source": [
    "tree_to_int = dict(oak = 1,\n",
    "                   maple=2,\n",
    "                   birch=3)\n",
    "\n",
    "def convert(s):\n",
    "    return tree_to_int.get(s, 0)\n",
    "data = np.genfromtxt('wood.csv',\n",
    "                     delimiter=',', # 逗号分隔\n",
    "                     dtype=np.int, # 数据类型\n",
    "                     names=True,   # 从第一行读入域名\n",
    "                     converters={1:convert}\n",
    "                    )\n",
    "print(data)"
   ]
  },
  {
   "cell_type": "code",
   "execution_count": 123,
   "metadata": {},
   "outputs": [
    {
     "name": "stdout",
     "output_type": "stream",
     "text": [
      "Writing data.txt\n"
     ]
    }
   ],
   "source": [
    "%%writefile data.txt\n",
    "2.0 3.0 42.0\n",
    "2.1 4.3 32.5\n",
    "1.2 4.6 32.3\n",
    "4.5 -6.4 23.3"
   ]
  },
  {
   "cell_type": "code",
   "execution_count": 125,
   "metadata": {},
   "outputs": [
    {
     "data": {
      "text/plain": [
       "array([2. , 2.1, 1.2, 4.5])"
      ]
     },
     "execution_count": 125,
     "metadata": {},
     "output_type": "execute_result"
    },
    {
     "data": {
      "text/plain": [
       "(2.1, 4.3)"
      ]
     },
     "execution_count": 125,
     "metadata": {},
     "output_type": "execute_result"
    }
   ],
   "source": [
    "#嵌套类型\n",
    "particle_dtype = np.dtype([('position', [('x', 'float'), \n",
    "                                         ('y', 'float')]),\n",
    "                           ('mass', 'float')\n",
    "                          ])\n",
    "data = np.loadtxt('data.txt', dtype=particle_dtype)\n",
    "data['position']['x']\n",
    "data[1]['position']"
   ]
  },
  {
   "cell_type": "code",
   "execution_count": 126,
   "metadata": {},
   "outputs": [],
   "source": [
    "os.remove('data.txt')\n",
    "os.remove('wood.txt')\n",
    "os.remove('wood.csv')"
   ]
  }
 ],
 "metadata": {
  "kernelspec": {
   "display_name": "ShangHai",
   "language": "python",
   "name": "shanghai"
  },
  "language_info": {
   "codemirror_mode": {
    "name": "ipython",
    "version": 3
   },
   "file_extension": ".py",
   "mimetype": "text/x-python",
   "name": "python",
   "nbconvert_exporter": "python",
   "pygments_lexer": "ipython3",
   "version": "3.7.3"
  },
  "toc": {
   "base_numbering": 1,
   "nav_menu": {},
   "number_sections": true,
   "sideBar": true,
   "skip_h1_title": false,
   "title_cell": "Table of Contents",
   "title_sidebar": "Contents",
   "toc_cell": false,
   "toc_position": {},
   "toc_section_display": true,
   "toc_window_display": true
  }
 },
 "nbformat": 4,
 "nbformat_minor": 2
}
