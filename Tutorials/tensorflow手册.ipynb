{
 "cells": [
  {
   "cell_type": "code",
   "execution_count": 1,
   "metadata": {},
   "outputs": [],
   "source": [
    "from __future__ import absolute_import, division, print_function\n",
    "import tensorflow as tf\n",
    "import numpy as np\n",
    "import os"
   ]
  },
  {
   "cell_type": "code",
   "execution_count": 5,
   "metadata": {},
   "outputs": [
    {
     "name": "stdout",
     "output_type": "stream",
     "text": [
      "1.14.0\n"
     ]
    },
    {
     "data": {
      "text/plain": [
       "False"
      ]
     },
     "execution_count": 5,
     "metadata": {},
     "output_type": "execute_result"
    }
   ],
   "source": [
    "print(tf.__version__)\n",
    "tf.executing_eagerly()"
   ]
  },
  {
   "cell_type": "markdown",
   "metadata": {},
   "source": [
    "TensorFlow 引入了「Eager Execution」，它是一个命令式、由运行定义的接口，一旦从 Python 被调用，其操作立即被执行。  \n",
    "这使得入门 TensorFlow 变的更简单，也使研发更直观。  \n",
    "Eager Execution 的优点如下：  \n",
    "    快速调试即刻的运行错误并通过 Python 工具进行整合  \n",
    "    借助易于使用的 Python 控制流支持动态模型  \n",
    "    为自定义和高阶梯度提供强大支持  \n",
    "    适用于几乎所有可用的 TensorFlow 运算  "
   ]
  },
  {
   "cell_type": "code",
   "execution_count": null,
   "metadata": {},
   "outputs": [],
   "source": [
    "with tf.Graph().as_default():\n",
    "    print(tf.executing_eagerly()) # False\n",
    "    model = Model(num_actions=env.action_space.n)\n",
    "    agent = A2CAgent(model)\n",
    "    rewards_history = agent.train(env)\n",
    "    print(\"Finished training, testing...\")\n",
    "    print(\"%d out of 200\" % agent.test(env)) # 200 out of 200"
   ]
  },
  {
   "cell_type": "code",
   "execution_count": 1,
   "metadata": {},
   "outputs": [
    {
     "ename": "ModuleNotFoundError",
     "evalue": "No module named 'gym'",
     "output_type": "error",
     "traceback": [
      "\u001b[0;31m---------------------------------------------------------------------------\u001b[0m",
      "\u001b[0;31mModuleNotFoundError\u001b[0m                       Traceback (most recent call last)",
      "\u001b[0;32m<ipython-input-1-c08cd244d31a>\u001b[0m in \u001b[0;36m<module>\u001b[0;34m\u001b[0m\n\u001b[1;32m      1\u001b[0m \u001b[0;32mimport\u001b[0m \u001b[0mtensorflow\u001b[0m \u001b[0;32mas\u001b[0m \u001b[0mtf\u001b[0m\u001b[0;34m\u001b[0m\u001b[0;34m\u001b[0m\u001b[0m\n\u001b[1;32m      2\u001b[0m \u001b[0;32mfrom\u001b[0m \u001b[0mtensorflow\u001b[0m\u001b[0;34m.\u001b[0m\u001b[0mkeras\u001b[0m\u001b[0;34m.\u001b[0m\u001b[0mmodels\u001b[0m \u001b[0;32mimport\u001b[0m \u001b[0mModel\u001b[0m\u001b[0;34m\u001b[0m\u001b[0;34m\u001b[0m\u001b[0m\n\u001b[0;32m----> 3\u001b[0;31m \u001b[0;32mimport\u001b[0m \u001b[0mgym\u001b[0m\u001b[0;34m\u001b[0m\u001b[0;34m\u001b[0m\u001b[0m\n\u001b[0m\u001b[1;32m      4\u001b[0m \u001b[0menv\u001b[0m \u001b[0;34m=\u001b[0m \u001b[0mgym\u001b[0m\u001b[0;34m.\u001b[0m\u001b[0mmake\u001b[0m\u001b[0;34m(\u001b[0m\u001b[0;34m'CartPole-v0'\u001b[0m\u001b[0;34m)\u001b[0m\u001b[0;34m\u001b[0m\u001b[0;34m\u001b[0m\u001b[0m\n\u001b[1;32m      5\u001b[0m \u001b[0mmodel\u001b[0m \u001b[0;34m=\u001b[0m \u001b[0mModel\u001b[0m\u001b[0;34m(\u001b[0m\u001b[0menv\u001b[0m\u001b[0;34m.\u001b[0m\u001b[0maction_space\u001b[0m\u001b[0;34m.\u001b[0m\u001b[0mn\u001b[0m\u001b[0;34m)\u001b[0m\u001b[0;34m\u001b[0m\u001b[0;34m\u001b[0m\u001b[0m\n",
      "\u001b[0;31mModuleNotFoundError\u001b[0m: No module named 'gym'"
     ]
    }
   ],
   "source": [
    "import tensorflow as tf\n",
    "from tensorflow.keras.models import Model\n",
    "import gym\n",
    "env = gym.make('CartPole-v0')\n",
    "model = Model(env.action_space.n)\n",
    "model.run_eagerly = True\n",
    "print(\"Eager Execution:  \", tf.executing_eagerly())\n",
    "print(\"Eager Keras Model:\", model.run_eagerly)"
   ]
  },
  {
   "cell_type": "markdown",
   "metadata": {},
   "source": [
    "# Tensorflow主要流程\n",
    "## 数据结构\n",
    "### Tensor张量"
   ]
  },
  {
   "cell_type": "code",
   "execution_count": 3,
   "metadata": {},
   "outputs": [],
   "source": [
    "import tensorflow as tf\n",
    "from tensorflow.python.framework import ops\n",
    "ops.reset_default_graph()"
   ]
  },
  {
   "cell_type": "code",
   "execution_count": null,
   "metadata": {},
   "outputs": [],
   "source": []
  },
  {
   "cell_type": "markdown",
   "metadata": {},
   "source": [
    "TensorFlow 支持以下三种类型的张量：\n",
    "常量：\n",
    "  常量是其值不能改变的张量。  \n",
    "  常量存储在计算图的定义中，每次加载图时都会加载相关变量。  \n",
    "变量：\n",
    "  当一个量在会话中的值需要更新时，使用变量来表示。\n",
    "  变量在使用前需要被显示初始化。  \n",
    "  通过使用变量类来创建。变量的定义还包括应该初始化的常量/随机值。\n",
    "  例如，在神经网络中，权重需要在训练期间更新，可以通过将权重声明为变量来实现。\n",
    "占位符：\n",
    "  用于将值输入TensorFlow图中，可以和feed_dict一起使用来输入数据。  \n",
    "  在训练神经网络时，它们通常用于提供新的训练样本。\n",
    "  在会话中运行计算图时，可以为占位符赋值。这样在构建一个计算图时不需要真正地输入数据。\n",
    "  占位符不包含任何数据，因此不需要初始化它们。\n",
    " \n",
    " Tensorflow 如果想要从外部传入data, 那就需要用到 tf.placeholder(),   \n",
    " 然后以这种形式传输数据 sess.run(***, feed_dict={input: **})  "
   ]
  },
  {
   "cell_type": "code",
   "execution_count": 19,
   "metadata": {},
   "outputs": [
    {
     "name": "stdout",
     "output_type": "stream",
     "text": [
      "1\n",
      "[[1 2 3 4]\n",
      " [2 3 4 5]]\n",
      "[2 4 6 8]\n",
      "[[-1. -1. -1. -1. -1.]\n",
      " [-1. -1. -1. -1. -1.]\n",
      " [-1. -1. -1. -1. -1.]]\n"
     ]
    },
    {
     "data": {
      "text/plain": [
       "array([0., 0., 0., 0., 0., 0., 0., 0., 0., 0., 0., 0., 0., 0., 0., 0., 0.,\n",
       "       0., 0., 0., 0., 0., 0., 0., 0., 0., 0., 0., 0., 0., 0., 0., 0., 0.,\n",
       "       0., 0., 0., 0., 0., 0., 0., 0., 0., 0., 0., 0., 0., 0., 0., 0., 0.,\n",
       "       0., 0., 0., 0., 0., 0., 0., 0., 0., 0., 0., 0., 0., 0., 0., 0., 0.,\n",
       "       0., 0., 0., 0., 0., 0., 0., 0., 0., 0., 0., 0., 0., 0., 0., 0., 0.,\n",
       "       0., 0., 0., 0., 0., 0., 0., 0., 0., 0., 0., 0., 0., 0., 0.],\n",
       "      dtype=float32)"
      ]
     },
     "execution_count": 19,
     "metadata": {},
     "output_type": "execute_result"
    },
    {
     "data": {
      "text/plain": [
       "array([0., 0., 0., 0., 0., 0., 0., 0., 0., 0., 0., 0., 0., 0., 0., 0., 0.,\n",
       "       0., 0., 0., 0., 0., 0., 0., 0., 0., 0., 0., 0., 0., 0., 0., 0., 0.,\n",
       "       0., 0., 0., 0., 0., 0., 0., 0., 0., 0., 0., 0., 0., 0., 0., 0., 0.,\n",
       "       0., 0., 0., 0., 0., 0., 0., 0., 0., 0., 0., 0., 0., 0., 0., 0., 0.,\n",
       "       0., 0., 0., 0., 0., 0., 0., 0., 0., 0., 0., 0., 0., 0., 0., 0., 0.,\n",
       "       0., 0., 0., 0., 0., 0., 0., 0., 0., 0., 0., 0., 0., 0., 0.],\n",
       "      dtype=float32)"
      ]
     },
     "execution_count": 19,
     "metadata": {},
     "output_type": "execute_result"
    }
   ],
   "source": [
    "sess = tf.InteractiveSession()\n",
    "t1 = tf.constant(1)\n",
    "print(t1.eval())\n",
    "t2 = tf.constant([[1,2,3,4],[2,3,4,5]])\n",
    "print(t2.eval())\n",
    "t3 = tf.constant((2,4,6,8))\n",
    "print(t3.eval())\n",
    "t4 = tf.constant(-1.,shape=[3,5],dtype=tf.float32)\n",
    "print(t4.eval())\n",
    "sess.close()\n",
    "\n",
    "#变量\n",
    "# 注意：变量通常在神经网络中表示权重和偏置。\n",
    "#权重变量使用正态分布随机初始化，均值为 0，标准差为 2，权重大小为 100×100。偏置由 100 个元素组成，每个元素初始化为 0。\n",
    "weights = tf.Variable(tf.random_normal(shape=[100,100],stddev=2))\n",
    "bias = tf.Variable(tf.zeros([100]),name='bias')\n",
    "#指定一个变量来初始化另一个变量\n",
    "w2 = tf.Variable(weights.initialized_value(),name='w2')\n",
    "#变量的定义将指定变量如何被初始化，但是必须显式初始化所有的声明变量\n",
    "op = tf.global_variables_initializer()\n",
    "with tf.Session() as sess:\n",
    "    sess.run(op)\n",
    "    sess.run(bias)\n",
    "\n",
    "#每个变量也可以在运行图中单独使用 tf.Variable.initializer来初始化\n",
    "with tf.Session() as sess:\n",
    "    sess.run(bias.initializer)\n",
    "    sess.run(bias)"
   ]
  },
  {
   "cell_type": "code",
   "execution_count": 20,
   "metadata": {},
   "outputs": [
    {
     "data": {
      "text/plain": [
       "array([0], dtype=int32)"
      ]
     },
     "execution_count": 20,
     "metadata": {},
     "output_type": "execute_result"
    },
    {
     "data": {
      "text/plain": [
       "array([[0, 0, 0, 0, 0, 0, 0, 0, 0, 0]], dtype=int32)"
      ]
     },
     "execution_count": 20,
     "metadata": {},
     "output_type": "execute_result"
    },
    {
     "data": {
      "text/plain": [
       "array([[0., 0., 0.],\n",
       "       [0., 0., 0.],\n",
       "       [0., 0., 0.]], dtype=float32)"
      ]
     },
     "execution_count": 20,
     "metadata": {},
     "output_type": "execute_result"
    },
    {
     "data": {
      "text/plain": [
       "array([[0., 0., 0.],\n",
       "       [0., 0., 0.],\n",
       "       [0., 0., 0.]], dtype=float32)"
      ]
     },
     "execution_count": 20,
     "metadata": {},
     "output_type": "execute_result"
    },
    {
     "name": "stdout",
     "output_type": "stream",
     "text": [
      "[[0. 0. 0.]\n",
      " [0. 0. 0.]]\n",
      "[[1. 1. 1.]\n",
      " [1. 1. 1.]]\n"
     ]
    },
    {
     "data": {
      "text/plain": [
       "array([[0., 0., 0.],\n",
       "       [0., 0., 0.]], dtype=float32)"
      ]
     },
     "execution_count": 20,
     "metadata": {},
     "output_type": "execute_result"
    },
    {
     "data": {
      "text/plain": [
       "array([[-1., -1., -1., -1., -1.],\n",
       "       [-1., -1., -1., -1., -1.]], dtype=float32)"
      ]
     },
     "execution_count": 20,
     "metadata": {},
     "output_type": "execute_result"
    },
    {
     "name": "stdout",
     "output_type": "stream",
     "text": [
      "[0.  0.4 0.8 1.2 1.6 2. ]\n",
      "[ 6  9 12]\n",
      "[[ 1.1522975   0.13860556  0.15996422]\n",
      " [-0.76784575  0.83994615 -0.62967974]]\n",
      "[[2.2551107  3.8137374  2.6305718 ]\n",
      " [0.56810236 2.4097643  1.3143082 ]]\n"
     ]
    }
   ],
   "source": [
    "# 启动图会话\n",
    "sess = tf.Session()\n",
    "# 定义初始值为0的张量,数据类型默认为float32\n",
    "tensor1 = tf.zeros(shape=[1,],dtype=tf.int32,name='1dim')\n",
    "sess.run(tensor1)\n",
    "tensor2 = tf.zeros(shape=[1,10],dtype=tf.int32,name='2dim')\n",
    "sess.run(tensor2)\n",
    "tensor3 = tf.zeros(shape=[3,3],dtype=tf.float32,name='3dim')\n",
    "sess.run(tensor3)\n",
    "\n",
    "## 变量和常量\n",
    "V1 = tf.Variable(tf.zeros([3,3]))\n",
    "# 不能在运算图上直接执行，需调用initializer执行初始化操作\n",
    "sess.run(V1.initializer)\n",
    "sess.run(V1)\n",
    "\n",
    "row_dim = 2\n",
    "col_dim = 3\n",
    "zero_var = tf.Variable(tf.zeros([row_dim, col_dim]))\n",
    "ones_var = tf.Variable(tf.ones([row_dim, col_dim]))\n",
    "sess.run(zero_var.initializer)\n",
    "sess.run(ones_var.initializer)\n",
    "print(sess.run(zero_var))\n",
    "print(sess.run(ones_var))\n",
    "\n",
    "#复制张量,使用ones_like() or zeros_like()\n",
    "zero_var1 = tf.Variable(tf.zeros_like(zero_var))\n",
    "sess.run(zero_var1.initializer)\n",
    "sess.run(zero_var1)\n",
    "\n",
    "#初始化张量\n",
    "tensor3 = tf.Variable(tf.fill([2,5],-1.))\n",
    "sess.run(tensor3.initializer)\n",
    "sess.run(tensor3)\n",
    "\n",
    "#创建序列变量\n",
    "# Linspace in TensorFlow\n",
    "linear_var = tf.Variable(tf.linspace(start=0.0, stop=2.0, num=6)) # Generates [0.0, 0.5, 1.0] includes the end\n",
    "# Range in TensorFlow\n",
    "sequence_var = tf.Variable(tf.range(start=6, limit=15, delta=3)) # Generates [6, 9, 12] doesn't include the end\n",
    "\n",
    "sess.run(linear_var.initializer)\n",
    "sess.run(sequence_var.initializer)\n",
    "print(sess.run(linear_var))\n",
    "print(sess.run(sequence_var))\n",
    "\n",
    "\n",
    "#创建随机分布\n",
    "rnorm_var = tf.random_normal([row_dim, col_dim], mean=0.0, stddev=1.0)\n",
    "runif_var = tf.random_uniform([row_dim, col_dim], minval=0, maxval=4)\n",
    "print(sess.run(rnorm_var))\n",
    "print(sess.run(runif_var))"
   ]
  },
  {
   "cell_type": "code",
   "execution_count": 21,
   "metadata": {},
   "outputs": [],
   "source": [
    "#可视化过程\n",
    "#执行过程：tensorboard --logdir=./tmp\n",
    "ops.reset_default_graph()\n",
    "sess = tf.Session()\n",
    "my_var = tf.Variable(tf.zeros([5,3]))\n",
    "merged = tf.summary.merge_all() #添加summary到tensorboard\n",
    "writer = tf.summary.FileWriter(\"./tmp/variable_logs\", graph=sess.graph)\n",
    "initialize_op = tf.global_variables_initializer() #初始操作\n",
    "sess.run(initialize_op) #运行操作"
   ]
  },
  {
   "cell_type": "markdown",
   "metadata": {},
   "source": [
    "### Placeholder占位符"
   ]
  },
  {
   "cell_type": "markdown",
   "metadata": {},
   "source": [
    "!tensorboard --logdir=./tmp"
   ]
  },
  {
   "cell_type": "code",
   "execution_count": 31,
   "metadata": {},
   "outputs": [
    {
     "data": {
      "text/plain": [
       "array([[0.31513273, 0.54762384, 0.36726584, 0.5515999 ],\n",
       "       [0.94420841, 0.59701745, 0.1854153 , 0.96239562],\n",
       "       [0.16329169, 0.16607405, 0.03116262, 0.79993426],\n",
       "       [0.90795231, 0.18026109, 0.53295571, 0.31128122]])"
      ]
     },
     "execution_count": 31,
     "metadata": {},
     "output_type": "execute_result"
    },
    {
     "data": {
      "text/plain": [
       "array([[0.31513274, 0.5476239 , 0.36726585, 0.5515999 ],\n",
       "       [0.9442084 , 0.59701747, 0.1854153 , 0.9623956 ],\n",
       "       [0.1632917 , 0.16607405, 0.03116262, 0.79993427],\n",
       "       [0.9079523 , 0.18026109, 0.5329557 , 0.31128123]], dtype=float32)"
      ]
     },
     "execution_count": 31,
     "metadata": {},
     "output_type": "execute_result"
    }
   ],
   "source": [
    "holder1 = tf.placeholder(tf.float32,shape=[4,4]) #shape可以是列表或者tuple\n",
    "#给占位符复制\n",
    "array = np.random.rand(4,4) #给[4,4数组赋予随机值]\n",
    "array\n",
    "y = tf.identity(holder1)\n",
    "sess.run(y, feed_dict={holder1: array}) #将holder1的值合入到运算图中"
   ]
  },
  {
   "cell_type": "code",
   "execution_count": 32,
   "metadata": {},
   "outputs": [],
   "source": [
    "merged = tf.summary.merge_all()\n",
    "writer = tf.summary.FileWriter(\"/tmp/variable_logs\", sess.graph)"
   ]
  },
  {
   "cell_type": "code",
   "execution_count": 37,
   "metadata": {},
   "outputs": [
    {
     "data": {
      "text/plain": [
       "3.0"
      ]
     },
     "execution_count": 37,
     "metadata": {},
     "output_type": "execute_result"
    },
    {
     "data": {
      "text/plain": [
       "9.0"
      ]
     },
     "execution_count": 37,
     "metadata": {},
     "output_type": "execute_result"
    },
    {
     "data": {
      "text/plain": [
       "15.0"
      ]
     },
     "execution_count": 37,
     "metadata": {},
     "output_type": "execute_result"
    },
    {
     "data": {
      "text/plain": [
       "21.0"
      ]
     },
     "execution_count": 37,
     "metadata": {},
     "output_type": "execute_result"
    },
    {
     "data": {
      "text/plain": [
       "27.0"
      ]
     },
     "execution_count": 37,
     "metadata": {},
     "output_type": "execute_result"
    }
   ],
   "source": [
    "# Create data to feed in the placeholder\n",
    "x_vals = np.array([1., 3., 5., 7., 9.])\n",
    "\n",
    "# Create the TensorFlow Placceholder\n",
    "x_data = tf.placeholder(tf.float32)\n",
    "\n",
    "# Constant for multilication\n",
    "m = tf.constant(3.)\n",
    "\n",
    "prod = tf.multiply(x_data,m)\n",
    "\n",
    "for x in x_vals:\n",
    "    sess.run(prod,feed_dict={x_data:x})\n",
    "    \n",
    "merged = tf.summary.merge_all()\n",
    "if os.path.exists('tensorboard_logs/'):\n",
    "    os.makedirs('tensorboard_logs/')\n",
    "writer = tf.summary.FileWriter('tensorboard_logs/', sess.graph)"
   ]
  },
  {
   "cell_type": "code",
   "execution_count": 3,
   "metadata": {},
   "outputs": [
    {
     "data": {
      "text/plain": [
       "b'hello tensorflow'"
      ]
     },
     "execution_count": 3,
     "metadata": {},
     "output_type": "execute_result"
    },
    {
     "name": "stdout",
     "output_type": "stream",
     "text": [
      "hello tensorflow\n"
     ]
    }
   ],
   "source": [
    "message = tf.constant('hello tensorflow')\n",
    "with tf.Session() as sess:\n",
    "    sess.run(message)\n",
    "    print(sess.run(message).decode())"
   ]
  },
  {
   "cell_type": "markdown",
   "metadata": {},
   "source": [
    "## 程序结构\n",
    "\n",
    "概念：  \n",
    "将程序分为两个独立的部分，构建任何拟创建神经网络的蓝图，包括计算图的定义及其执行。  \n",
    "正是图定义和执行的分开设计让 TensorFlow 能够多平台工作以及并行执行，TensorFlow 也因此更加强大。\n",
    " \n",
    "\n",
    "计算图：是包含节点和边的网络。  \n",
    "定义数据，也就是张量（tensor）对象（常量、变量和占位符），    \n",
    "同时定义要执行的所有计算，即运算操作对象（Operation Object，简称 OP）。  \n",
    "\n",
    "每个节点可以有零个或多个输入，但只有一个输出。  \n",
    "网络中的节点表示对象（张量和运算操作），边表示运算操作之间流动的张量。 \n",
    "\n",
    "计算图的执行：   \n",
    "通过会话执行计算图，部分使用with关键字创建了会话，最后在会话中执行以上计算图。 \n",
    "会话对象封装了评估张量和操作对象的环境，真正实现了运算操作并将信息从网络的一层传递到另外一层。  \n",
    "不同张量对象的值仅在会话对象中被初始化、访问和保存。\n",
    "run(fetches,feed_dict=None,options=None,run_metadata)  "
   ]
  },
  {
   "cell_type": "code",
   "execution_count": 10,
   "metadata": {},
   "outputs": [
    {
     "name": "stdout",
     "output_type": "stream",
     "text": [
      "[ 6  8 10 12]\n",
      "[ 7 10 13 16]\n",
      "[array([ 7, 10, 13, 16], dtype=int32), array([5, 6, 7, 8], dtype=int32), array([ 6,  8, 10, 12], dtype=int32)]\n"
     ]
    }
   ],
   "source": [
    "a = tf.constant([1,2,3,4])\n",
    "b = tf.constant([5,6,7,8])\n",
    "c = tf.add(a,b)\n",
    "#with tf.InteractiveSession() as sess:\n",
    "#在使用Jupyter Notebook或者Python shell进行编程，使用 tf.InteractiveSession将比 tf.Session 更方便。  \n",
    "#InteractiveSession 使自己成为默认会话，因此你可以使用 eval() 直接调用运行张量对象而不用显式调用会话。\n",
    "sess = tf.InteractiveSession()\n",
    "print(c.eval())\n",
    "a = a + c\n",
    "print(a.eval())\n",
    "sess.close()\n",
    "\n",
    "with tf.Session() as session:\n",
    "    print(session.run([a,b,c]))"
   ]
  },
  {
   "cell_type": "code",
   "execution_count": null,
   "metadata": {},
   "outputs": [],
   "source": [
    "'''\n",
    "cce_obj = metrics.CategoricalCrossentropy()\n",
    "result = cce_obj(y_true,y_pred)\n",
    "'''"
   ]
  },
  {
   "cell_type": "code",
   "execution_count": 27,
   "metadata": {},
   "outputs": [
    {
     "data": {
      "text/plain": [
       "0.9868951"
      ]
     },
     "execution_count": 27,
     "metadata": {},
     "output_type": "execute_result"
    },
    {
     "data": {
      "text/plain": [
       "array([0.5840635, 1.3897266], dtype=float32)"
      ]
     },
     "execution_count": 27,
     "metadata": {},
     "output_type": "execute_result"
    }
   ],
   "source": [
    "from keras import metrics\n",
    "y_true = tf.placeholder(tf.int32, shape=[2,3])\n",
    "y_pred = tf.placeholder(tf.float32, shape=[2,3])\n",
    "entropy = tf.nn.softmax_cross_entropy_with_logits(labels = y_true,logits = y_pred)\n",
    "result = tf.reduce_mean(entropy)\n",
    "with tf.Session() as sess:\n",
    "    array1 = np.asarray([[0, 1, 0], [0, 0, 1]])\n",
    "    array2 = np.asarray([[0.05, 0.95, 0], [0.1, 0.8, 0.1]])\n",
    "    #y_true和y_pred是占位符；使用它们，在 feed_dict 的帮助下传递包含 X 值的数组和包含 Y 值的数组\n",
    "    sess.run(result,feed_dict={y_true:array1, y_pred:array2})\n",
    "    sess.run(entropy,feed_dict={y_true:array1, y_pred:array2})"
   ]
  }
 ],
 "metadata": {
  "kernelspec": {
   "display_name": "Kaggle",
   "language": "python",
   "name": "kaggle"
  },
  "language_info": {
   "codemirror_mode": {
    "name": "ipython",
    "version": 3
   },
   "file_extension": ".py",
   "mimetype": "text/x-python",
   "name": "python",
   "nbconvert_exporter": "python",
   "pygments_lexer": "ipython3",
   "version": "3.7.3"
  },
  "toc": {
   "base_numbering": 1,
   "nav_menu": {},
   "number_sections": true,
   "sideBar": true,
   "skip_h1_title": false,
   "title_cell": "Table of Contents",
   "title_sidebar": "Contents",
   "toc_cell": false,
   "toc_position": {},
   "toc_section_display": true,
   "toc_window_display": false
  }
 },
 "nbformat": 4,
 "nbformat_minor": 2
}
