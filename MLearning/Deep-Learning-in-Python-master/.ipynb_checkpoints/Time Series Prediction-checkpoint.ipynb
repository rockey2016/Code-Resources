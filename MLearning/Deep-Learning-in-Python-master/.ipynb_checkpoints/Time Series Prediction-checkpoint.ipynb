{
 "cells": [
  {
   "cell_type": "code",
   "execution_count": 26,
   "metadata": {
    "collapsed": true
   },
   "outputs": [],
   "source": [
    "import numpy as np\n",
    "import pandas as pd\n",
    "import matplotlib.pyplot as plt\n",
    "%matplotlib inline"
   ]
  },
  {
   "cell_type": "markdown",
   "metadata": {},
   "source": [
    "## Get the dataset and prepare it for analysis and model"
   ]
  },
  {
   "cell_type": "markdown",
   "metadata": {},
   "source": [
    "#### Set the index to date"
   ]
  },
  {
   "cell_type": "code",
   "execution_count": 27,
   "metadata": {},
   "outputs": [
    {
     "data": {
      "text/html": [
       "<div>\n",
       "<style>\n",
       "    .dataframe thead tr:only-child th {\n",
       "        text-align: right;\n",
       "    }\n",
       "\n",
       "    .dataframe thead th {\n",
       "        text-align: left;\n",
       "    }\n",
       "\n",
       "    .dataframe tbody tr th {\n",
       "        vertical-align: top;\n",
       "    }\n",
       "</style>\n",
       "<table border=\"1\" class=\"dataframe\">\n",
       "  <thead>\n",
       "    <tr style=\"text-align: right;\">\n",
       "      <th></th>\n",
       "      <th>Price</th>\n",
       "      <th>Open</th>\n",
       "      <th>High</th>\n",
       "      <th>Low</th>\n",
       "      <th>Change %</th>\n",
       "    </tr>\n",
       "    <tr>\n",
       "      <th>Date</th>\n",
       "      <th></th>\n",
       "      <th></th>\n",
       "      <th></th>\n",
       "      <th></th>\n",
       "      <th></th>\n",
       "    </tr>\n",
       "  </thead>\n",
       "  <tbody>\n",
       "    <tr>\n",
       "      <th>2017-08-10</th>\n",
       "      <td>64.165</td>\n",
       "      <td>63.898</td>\n",
       "      <td>64.175</td>\n",
       "      <td>63.855</td>\n",
       "      <td>0.48</td>\n",
       "    </tr>\n",
       "    <tr>\n",
       "      <th>2017-08-09</th>\n",
       "      <td>63.860</td>\n",
       "      <td>63.780</td>\n",
       "      <td>63.860</td>\n",
       "      <td>63.710</td>\n",
       "      <td>0.26</td>\n",
       "    </tr>\n",
       "    <tr>\n",
       "      <th>2017-08-08</th>\n",
       "      <td>63.692</td>\n",
       "      <td>63.750</td>\n",
       "      <td>63.785</td>\n",
       "      <td>63.615</td>\n",
       "      <td>-0.23</td>\n",
       "    </tr>\n",
       "    <tr>\n",
       "      <th>2017-08-07</th>\n",
       "      <td>63.840</td>\n",
       "      <td>63.710</td>\n",
       "      <td>63.865</td>\n",
       "      <td>63.648</td>\n",
       "      <td>0.26</td>\n",
       "    </tr>\n",
       "    <tr>\n",
       "      <th>2017-08-04</th>\n",
       "      <td>63.675</td>\n",
       "      <td>63.670</td>\n",
       "      <td>63.786</td>\n",
       "      <td>63.572</td>\n",
       "      <td>-0.05</td>\n",
       "    </tr>\n",
       "  </tbody>\n",
       "</table>\n",
       "</div>"
      ],
      "text/plain": [
       "             Price    Open    High     Low  Change %\n",
       "Date                                                \n",
       "2017-08-10  64.165  63.898  64.175  63.855      0.48\n",
       "2017-08-09  63.860  63.780  63.860  63.710      0.26\n",
       "2017-08-08  63.692  63.750  63.785  63.615     -0.23\n",
       "2017-08-07  63.840  63.710  63.865  63.648      0.26\n",
       "2017-08-04  63.675  63.670  63.786  63.572     -0.05"
      ]
     },
     "execution_count": 27,
     "metadata": {},
     "output_type": "execute_result"
    }
   ],
   "source": [
    "df = pd.read_csv('USD_INR.csv')\n",
    "df['Date'] = pd.to_datetime(df[\"Date\"])\n",
    "df_idx = df.set_index([\"Date\"], drop=True)\n",
    "df_idx.head(5)"
   ]
  },
  {
   "cell_type": "markdown",
   "metadata": {},
   "source": [
    "#### Flip the dataframe"
   ]
  },
  {
   "cell_type": "code",
   "execution_count": 28,
   "metadata": {
    "collapsed": true
   },
   "outputs": [],
   "source": [
    "df_idx = df_idx.sort_index(axis=1, ascending=True)\n",
    "df_idx = df_idx.iloc[::-1]"
   ]
  },
  {
   "cell_type": "markdown",
   "metadata": {},
   "source": [
    "#### Plot the data"
   ]
  },
  {
   "cell_type": "code",
   "execution_count": 29,
   "metadata": {},
   "outputs": [
    {
     "data": {
      "text/plain": [
       "<matplotlib.axes._subplots.AxesSubplot at 0x118775510>"
      ]
     },
     "execution_count": 29,
     "metadata": {},
     "output_type": "execute_result"
    },
    {
     "data": {
      "image/png": "[encoded data removed]",
      "text/plain": [
       "<matplotlib.figure.Figure at 0x118d33250>"
      ]
     },
     "metadata": {},
     "output_type": "display_data"
    }
   ],
   "source": [
    "data = df_idx[['Price']]\n",
    "data.plot(y='Price')"
   ]
  },
  {
   "cell_type": "code",
   "execution_count": 30,
   "metadata": {},
   "outputs": [
    {
     "name": "stdout",
     "output_type": "stream",
     "text": [
      "Total data: 37 years\n",
      "80 percent data = 1980 to 2009\n"
     ]
    }
   ],
   "source": [
    "diff = data.index.values[-1] - data.index.values[0]\n",
    "days = diff.astype('timedelta64[D]')\n",
    "days = days / np.timedelta64(1, 'D')\n",
    "years = int(days/365)\n",
    "print(\"Total data: %d years\"%years)\n",
    "print(\"80 percent data = 1980 to %d\"%(1980 + int(0.8*years)))"
   ]
  },
  {
   "cell_type": "markdown",
   "metadata": {},
   "source": [
    "#### Create training and testing data"
   ]
  },
  {
   "cell_type": "code",
   "execution_count": 31,
   "metadata": {},
   "outputs": [
    {
     "data": {
      "image/png": "[encoded data removed]",
      "text/plain": [
       "<matplotlib.figure.Figure at 0x1198f1fd0>"
      ]
     },
     "metadata": {},
     "output_type": "display_data"
    }
   ],
   "source": [
    "split_date = pd.Timestamp('01-01-2009')\n",
    "\n",
    "train = data.loc[:split_date]\n",
    "test = data.loc[split_date:]\n",
    "\n",
    "ax = train.plot(figsize=(10,12))\n",
    "test.plot(ax=ax)\n",
    "plt.legend(['train', 'test'])\n",
    "plt.show()"
   ]
  },
  {
   "cell_type": "markdown",
   "metadata": {},
   "source": [
    "#### Normalize the dataset"
   ]
  },
  {
   "cell_type": "code",
   "execution_count": 32,
   "metadata": {
    "collapsed": true
   },
   "outputs": [],
   "source": [
    "from sklearn.preprocessing import MinMaxScaler\n",
    "sc = MinMaxScaler()\n",
    "train_sc = sc.fit_transform(train)\n",
    "test_sc = sc.transform(test)"
   ]
  },
  {
   "cell_type": "markdown",
   "metadata": {},
   "source": [
    "Review the difference between fit_transform and trasform "
   ]
  },
  {
   "cell_type": "code",
   "execution_count": 33,
   "metadata": {
    "collapsed": true
   },
   "outputs": [],
   "source": [
    "train_sc_df = pd.DataFrame(train_sc, columns=['Y'], index=train.index)\n",
    "test_sc_df = pd.DataFrame(test_sc, columns=['Y'], index=test.index)\n",
    "\n",
    "for s in range(1,2):\n",
    "    train_sc_df['X_{}'.format(s)] = train_sc_df['Y'].shift(s)\n",
    "    test_sc_df['X_{}'.format(s)] = test_sc_df['Y'].shift(s)\n",
    "\n",
    "X_train = train_sc_df.dropna().drop('Y', axis=1)\n",
    "y_train = train_sc_df.dropna().drop('X_1', axis=1)\n",
    "\n",
    "X_test = test_sc_df.dropna().drop('Y', axis=1)\n",
    "y_test = test_sc_df.dropna().drop('X_1', axis=1)\n",
    "\n",
    "X_train = X_train.as_matrix()\n",
    "y_train = y_train.as_matrix()\n",
    "\n",
    "X_test = X_test.as_matrix()\n",
    "y_test = y_test.as_matrix()"
   ]
  },
  {
   "cell_type": "code",
   "execution_count": 34,
   "metadata": {},
   "outputs": [
    {
     "name": "stdout",
     "output_type": "stream",
     "text": [
      "Train size: (7451 x 1)\n",
      "Test size: (2245 x 1)\n"
     ]
    }
   ],
   "source": [
    "print('Train size: (%d x %d)'%(X_train.shape[0], X_train.shape[1]))\n",
    "print('Test size: (%d x %d)'%(X_test.shape[0], X_test.shape[1]))"
   ]
  },
  {
   "cell_type": "markdown",
   "metadata": {},
   "source": [
    "## Setup baseline model of SVM Regressor"
   ]
  },
  {
   "cell_type": "code",
   "execution_count": 38,
   "metadata": {
    "collapsed": true
   },
   "outputs": [],
   "source": [
    "from sklearn.svm import SVR\n",
    "regressor = SVR(kernel='rbf')"
   ]
  },
  {
   "cell_type": "code",
   "execution_count": 39,
   "metadata": {},
   "outputs": [],
   "source": [
    "regressor.fit(X_train, y_train)\n",
    "y_pred = regressor.predict(X_test)"
   ]
  },
  {
   "cell_type": "code",
   "execution_count": 40,
   "metadata": {},
   "outputs": [
    {
     "data": {
      "text/plain": [
       "[<matplotlib.lines.Line2D at 0x118f14f90>]"
      ]
     },
     "execution_count": 40,
     "metadata": {},
     "output_type": "execute_result"
    },
    {
     "data": {
      "image/png": "[encoded data removed]",
      "text/plain": [
       "<matplotlib.figure.Figure at 0x118f14dd0>"
      ]
     },
     "metadata": {},
     "output_type": "display_data"
    }
   ],
   "source": [
    "plt.plot(y_test)\n",
    "plt.plot(y_pred)"
   ]
  },
  {
   "cell_type": "code",
   "execution_count": 41,
   "metadata": {},
   "outputs": [
    {
     "name": "stdout",
     "output_type": "stream",
     "text": [
      "-0.963380530536\n"
     ]
    }
   ],
   "source": [
    "from sklearn.metrics import r2_score\n",
    "\n",
    "def adj_r2_score(r2, n, k):\n",
    "    return 1-((1-r2)*((n-1)/(n-k-1)))\n",
    "\n",
    "r2_test = r2_score(y_test, y_pred)\n",
    "print(r2_test)"
   ]
  },
  {
   "cell_type": "markdown",
   "metadata": {},
   "source": [
    "## Build a Neural Network"
   ]
  },
  {
   "cell_type": "code",
   "execution_count": 14,
   "metadata": {},
   "outputs": [
    {
     "name": "stderr",
     "output_type": "stream",
     "text": [
      "Using TensorFlow backend.\n"
     ]
    }
   ],
   "source": [
    "from keras.models import Sequential\n",
    "from keras.layers import Dense\n",
    "from keras.optimizers import Adam\n",
    "import keras.backend as K"
   ]
  },
  {
   "cell_type": "markdown",
   "metadata": {},
   "source": [
    "### 1 hidden layer with 1 neuron"
   ]
  },
  {
   "cell_type": "code",
   "execution_count": 15,
   "metadata": {
    "scrolled": true
   },
   "outputs": [
    {
     "name": "stdout",
     "output_type": "stream",
     "text": [
      "Epoch 1/20\n",
      "7451/7451 [==============================] - 0s - loss: 0.4267     \n",
      "Epoch 2/20\n",
      "7451/7451 [==============================] - 0s - loss: 0.1301     \n",
      "Epoch 3/20\n",
      "7451/7451 [==============================] - 0s - loss: 0.0878     \n",
      "Epoch 4/20\n",
      "7451/7451 [==============================] - 0s - loss: 0.0682     \n",
      "Epoch 5/20\n",
      "7451/7451 [==============================] - 0s - loss: 0.0498     \n",
      "Epoch 6/20\n",
      "7451/7451 [==============================] - 0s - loss: 0.0336     \n",
      "Epoch 7/20\n",
      "7451/7451 [==============================] - 0s - loss: 0.0211     \n",
      "Epoch 8/20\n",
      "7451/7451 [==============================] - 0s - loss: 0.0126     \n",
      "Epoch 9/20\n",
      "7451/7451 [==============================] - 0s - loss: 0.0075     \n",
      "Epoch 10/20\n",
      "7451/7451 [==============================] - 0s - loss: 0.0047     \n",
      "Epoch 11/20\n",
      "7451/7451 [==============================] - 0s - loss: 0.0033     \n",
      "Epoch 12/20\n",
      "7451/7451 [==============================] - 0s - loss: 0.0027     \n",
      "Epoch 13/20\n",
      "7451/7451 [==============================] - 0s - loss: 0.0025     \n",
      "Epoch 14/20\n",
      "7451/7451 [==============================] - 0s - loss: 0.0025     \n",
      "Epoch 15/20\n",
      "7451/7451 [==============================] - 0s - loss: 0.0024     \n",
      "Epoch 16/20\n",
      "7451/7451 [==============================] - 0s - loss: 0.0024     \n",
      "Epoch 17/20\n",
      "7451/7451 [==============================] - 0s - loss: 0.0024     \n",
      "Epoch 18/20\n",
      "7451/7451 [==============================] - 0s - loss: 0.0024     \n",
      "Epoch 19/20\n",
      "7451/7451 [==============================] - 0s - loss: 0.0024     \n",
      "Epoch 20/20\n",
      "7451/7451 [==============================] - 0s - loss: 0.0024     \n"
     ]
    },
    {
     "data": {
      "text/plain": [
       "<keras.callbacks.History at 0x11868f210>"
      ]
     },
     "execution_count": 15,
     "metadata": {},
     "output_type": "execute_result"
    }
   ],
   "source": [
    "K.clear_session()\n",
    "model = Sequential()\n",
    "model.add(Dense(1, input_shape=(X_test.shape[1],), activation='tanh', kernel_initializer='lecun_uniform'))\n",
    "model.compile(optimizer=Adam(lr=0.001), loss='mean_squared_error')\n",
    "model.fit(X_train, y_train, batch_size=16, epochs=20, verbose=1)"
   ]
  },
  {
   "cell_type": "code",
   "execution_count": 16,
   "metadata": {},
   "outputs": [
    {
     "name": "stdout",
     "output_type": "stream",
     "text": [
      "R-Squared: -1.151405\n"
     ]
    },
    {
     "data": {
      "image/png": "[encoded data removed]",
      "text/plain": [
       "<matplotlib.figure.Figure at 0x10dabf1d0>"
      ]
     },
     "metadata": {},
     "output_type": "display_data"
    }
   ],
   "source": [
    "y_pred = model.predict(y_test)\n",
    "plt.plot(y_test)\n",
    "plt.plot(y_pred)\n",
    "print('R-Squared: %f'%(r2_score(y_test, y_pred)))"
   ]
  },
  {
   "cell_type": "markdown",
   "metadata": {},
   "source": [
    "#### 1 Hidden Layer with 2 neurons and ReLU activation function"
   ]
  },
  {
   "cell_type": "code",
   "execution_count": 17,
   "metadata": {
    "scrolled": true
   },
   "outputs": [
    {
     "name": "stdout",
     "output_type": "stream",
     "text": [
      "Epoch 1/20\n",
      "7451/7451 [==============================] - 0s - loss: 0.5819     \n",
      "Epoch 2/20\n",
      "7451/7451 [==============================] - 0s - loss: 0.1722     \n",
      "Epoch 3/20\n",
      "7451/7451 [==============================] - 0s - loss: 0.1181     \n",
      "Epoch 4/20\n",
      "7451/7451 [==============================] - 0s - loss: 0.0915     \n",
      "Epoch 5/20\n",
      "7451/7451 [==============================] - 0s - loss: 0.0536     \n",
      "Epoch 6/20\n",
      "7451/7451 [==============================] - 0s - loss: 0.0208     \n",
      "Epoch 7/20\n",
      "7451/7451 [==============================] - 0s - loss: 0.0057     \n",
      "Epoch 8/20\n",
      "7451/7451 [==============================] - 0s - loss: 0.0012     \n",
      "Epoch 9/20\n",
      "7451/7451 [==============================] - 0s - loss: 3.4847e-04     \n",
      "Epoch 10/20\n",
      "7451/7451 [==============================] - 0s - loss: 1.7150e-04     \n",
      "Epoch 11/20\n",
      "7451/7451 [==============================] - 0s - loss: 9.7823e-05     \n",
      "Epoch 12/20\n",
      "7451/7451 [==============================] - 0s - loss: 5.6155e-05     \n",
      "Epoch 13/20\n",
      "7451/7451 [==============================] - 0s - loss: 3.2583e-05     \n",
      "Epoch 14/20\n",
      "7451/7451 [==============================] - 0s - loss: 1.9283e-05     \n",
      "Epoch 15/20\n",
      "7451/7451 [==============================] - 0s - loss: 1.2636e-05     \n",
      "Epoch 16/20\n",
      "7451/7451 [==============================] - 0s - loss: 9.7315e-06     \n",
      "Epoch 17/20\n",
      "7451/7451 [==============================] - 0s - loss: 8.5128e-06     \n",
      "Epoch 18/20\n",
      "7451/7451 [==============================] - 0s - loss: 8.0810e-06     \n",
      "Epoch 19/20\n",
      "7451/7451 [==============================] - 0s - loss: 7.9764e-06     \n",
      "Epoch 20/20\n",
      "7451/7451 [==============================] - 0s - loss: 7.8533e-06     \n"
     ]
    },
    {
     "data": {
      "text/plain": [
       "<keras.callbacks.History at 0x118b6be10>"
      ]
     },
     "execution_count": 17,
     "metadata": {},
     "output_type": "execute_result"
    }
   ],
   "source": [
    "K.clear_session()\n",
    "model = Sequential()\n",
    "model.add(Dense(2, input_shape=(X_test.shape[1],), activation='relu', kernel_initializer='lecun_uniform'))\n",
    "model.add(Dense(1))\n",
    "model.compile(optimizer=Adam(lr=0.001), loss='mean_squared_error')\n",
    "model.fit(X_train, y_train, batch_size=16, epochs=20, verbose=1)"
   ]
  },
  {
   "cell_type": "code",
   "execution_count": 18,
   "metadata": {},
   "outputs": [
    {
     "name": "stdout",
     "output_type": "stream",
     "text": [
      "R-Squared: 0.999990\n"
     ]
    },
    {
     "data": {
      "image/png": "[encoded data removed]",
      "text/plain": [
       "<matplotlib.figure.Figure at 0x10220c450>"
      ]
     },
     "metadata": {},
     "output_type": "display_data"
    }
   ],
   "source": [
    "y_pred = model.predict(y_test)\n",
    "plt.plot(y_test)\n",
    "plt.plot(y_pred)\n",
    "print('R-Squared: %f'%(r2_score(y_test, y_pred)))"
   ]
  },
  {
   "cell_type": "code",
   "execution_count": null,
   "metadata": {
    "collapsed": true
   },
   "outputs": [],
   "source": []
  },
  {
   "cell_type": "code",
   "execution_count": null,
   "metadata": {
    "collapsed": true
   },
   "outputs": [],
   "source": []
  },
  {
   "cell_type": "code",
   "execution_count": null,
   "metadata": {
    "collapsed": true
   },
   "outputs": [],
   "source": []
  }
 ],
 "metadata": {
  "kernelspec": {
   "display_name": "health",
   "language": "python",
   "name": "health"
  },
  "language_info": {
   "codemirror_mode": {
    "name": "ipython",
    "version": 3
   },
   "file_extension": ".py",
   "mimetype": "text/x-python",
   "name": "python",
   "nbconvert_exporter": "python",
   "pygments_lexer": "ipython3",
   "version": "3.6.4"
  },
  "toc": {
   "base_numbering": 1,
   "nav_menu": {},
   "number_sections": true,
   "sideBar": true,
   "skip_h1_title": false,
   "title_cell": "Table of Contents",
   "title_sidebar": "Contents",
   "toc_cell": false,
   "toc_position": {},
   "toc_section_display": true,
   "toc_window_display": false
  }
 },
 "nbformat": 4,
 "nbformat_minor": 2
}
